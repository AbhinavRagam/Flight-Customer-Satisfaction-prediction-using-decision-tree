{
 "cells": [
  {
   "cell_type": "code",
   "execution_count": 1,
   "id": "65f8cc2d",
   "metadata": {},
   "outputs": [],
   "source": [
    "import numpy as np\n",
    "import pandas as pd\n",
    "import matplotlib.pyplot as plt\n",
    "import seaborn as sns\n",
    "\n",
    "import warnings\n",
    "warnings.filterwarnings(\"ignore\")"
   ]
  },
  {
   "cell_type": "code",
   "execution_count": 53,
   "id": "eaf603f2",
   "metadata": {},
   "outputs": [
    {
     "data": {
      "text/plain": [
       "(83123, 24)"
      ]
     },
     "execution_count": 53,
     "metadata": {},
     "output_type": "execute_result"
    }
   ],
   "source": [
    "df = pd.read_csv(r\"C:\\Users\\abhin\\machine learning\\term 5 project\\Flight customer satisfaction\\Flight-Passengers-Satisfaction-Prediction\\cust_train.csv\")\n",
    "df.shape"
   ]
  },
  {
   "cell_type": "code",
   "execution_count": 54,
   "id": "201c4b86",
   "metadata": {
    "scrolled": true
   },
   "outputs": [
    {
     "data": {
      "text/html": [
       "<div>\n",
       "<style scoped>\n",
       "    .dataframe tbody tr th:only-of-type {\n",
       "        vertical-align: middle;\n",
       "    }\n",
       "\n",
       "    .dataframe tbody tr th {\n",
       "        vertical-align: top;\n",
       "    }\n",
       "\n",
       "    .dataframe thead th {\n",
       "        text-align: right;\n",
       "    }\n",
       "</style>\n",
       "<table border=\"1\" class=\"dataframe\">\n",
       "  <thead>\n",
       "    <tr style=\"text-align: right;\">\n",
       "      <th></th>\n",
       "      <th>id</th>\n",
       "      <th>Gender</th>\n",
       "      <th>Customer Type</th>\n",
       "      <th>Age</th>\n",
       "      <th>Type of Travel</th>\n",
       "      <th>Class</th>\n",
       "      <th>Flight Distance</th>\n",
       "      <th>Inflight wifi service</th>\n",
       "      <th>Departure/Arrival time convenient</th>\n",
       "      <th>Ease of Online booking</th>\n",
       "      <th>...</th>\n",
       "      <th>Inflight entertainment</th>\n",
       "      <th>On-board service</th>\n",
       "      <th>Leg room service</th>\n",
       "      <th>Baggage handling</th>\n",
       "      <th>Checkin service</th>\n",
       "      <th>Inflight service</th>\n",
       "      <th>Cleanliness</th>\n",
       "      <th>Departure Delay in Minutes</th>\n",
       "      <th>Arrival Delay in Minutes</th>\n",
       "      <th>satisfaction</th>\n",
       "    </tr>\n",
       "  </thead>\n",
       "  <tbody>\n",
       "    <tr>\n",
       "      <th>0</th>\n",
       "      <td>51032</td>\n",
       "      <td>Female</td>\n",
       "      <td>Loyal Customer</td>\n",
       "      <td>30</td>\n",
       "      <td>Personal Travel</td>\n",
       "      <td>Eco</td>\n",
       "      <td>193</td>\n",
       "      <td>3</td>\n",
       "      <td>4</td>\n",
       "      <td>0</td>\n",
       "      <td>...</td>\n",
       "      <td>5</td>\n",
       "      <td>4</td>\n",
       "      <td>5</td>\n",
       "      <td>3</td>\n",
       "      <td>4</td>\n",
       "      <td>4</td>\n",
       "      <td>5</td>\n",
       "      <td>0</td>\n",
       "      <td>0.0</td>\n",
       "      <td>neutral or dissatisfied</td>\n",
       "    </tr>\n",
       "    <tr>\n",
       "      <th>1</th>\n",
       "      <td>54504</td>\n",
       "      <td>Female</td>\n",
       "      <td>Loyal Customer</td>\n",
       "      <td>51</td>\n",
       "      <td>Business travel</td>\n",
       "      <td>Eco</td>\n",
       "      <td>925</td>\n",
       "      <td>2</td>\n",
       "      <td>1</td>\n",
       "      <td>1</td>\n",
       "      <td>...</td>\n",
       "      <td>2</td>\n",
       "      <td>2</td>\n",
       "      <td>2</td>\n",
       "      <td>2</td>\n",
       "      <td>3</td>\n",
       "      <td>2</td>\n",
       "      <td>3</td>\n",
       "      <td>47</td>\n",
       "      <td>29.0</td>\n",
       "      <td>neutral or dissatisfied</td>\n",
       "    </tr>\n",
       "    <tr>\n",
       "      <th>2</th>\n",
       "      <td>13387</td>\n",
       "      <td>Male</td>\n",
       "      <td>disloyal Customer</td>\n",
       "      <td>27</td>\n",
       "      <td>Business travel</td>\n",
       "      <td>Eco</td>\n",
       "      <td>505</td>\n",
       "      <td>0</td>\n",
       "      <td>0</td>\n",
       "      <td>0</td>\n",
       "      <td>...</td>\n",
       "      <td>1</td>\n",
       "      <td>5</td>\n",
       "      <td>5</td>\n",
       "      <td>2</td>\n",
       "      <td>3</td>\n",
       "      <td>2</td>\n",
       "      <td>1</td>\n",
       "      <td>0</td>\n",
       "      <td>0.0</td>\n",
       "      <td>satisfied</td>\n",
       "    </tr>\n",
       "    <tr>\n",
       "      <th>3</th>\n",
       "      <td>17388</td>\n",
       "      <td>Female</td>\n",
       "      <td>Loyal Customer</td>\n",
       "      <td>52</td>\n",
       "      <td>Business travel</td>\n",
       "      <td>Business</td>\n",
       "      <td>2953</td>\n",
       "      <td>2</td>\n",
       "      <td>2</td>\n",
       "      <td>2</td>\n",
       "      <td>...</td>\n",
       "      <td>5</td>\n",
       "      <td>5</td>\n",
       "      <td>5</td>\n",
       "      <td>5</td>\n",
       "      <td>4</td>\n",
       "      <td>5</td>\n",
       "      <td>5</td>\n",
       "      <td>10</td>\n",
       "      <td>2.0</td>\n",
       "      <td>satisfied</td>\n",
       "    </tr>\n",
       "    <tr>\n",
       "      <th>4</th>\n",
       "      <td>91598</td>\n",
       "      <td>Female</td>\n",
       "      <td>disloyal Customer</td>\n",
       "      <td>15</td>\n",
       "      <td>Business travel</td>\n",
       "      <td>Eco</td>\n",
       "      <td>1352</td>\n",
       "      <td>4</td>\n",
       "      <td>4</td>\n",
       "      <td>4</td>\n",
       "      <td>...</td>\n",
       "      <td>2</td>\n",
       "      <td>4</td>\n",
       "      <td>3</td>\n",
       "      <td>5</td>\n",
       "      <td>3</td>\n",
       "      <td>5</td>\n",
       "      <td>2</td>\n",
       "      <td>0</td>\n",
       "      <td>0.0</td>\n",
       "      <td>satisfied</td>\n",
       "    </tr>\n",
       "  </tbody>\n",
       "</table>\n",
       "<p>5 rows × 24 columns</p>\n",
       "</div>"
      ],
      "text/plain": [
       "      id  Gender      Customer Type  Age   Type of Travel     Class  \\\n",
       "0  51032  Female     Loyal Customer   30  Personal Travel       Eco   \n",
       "1  54504  Female     Loyal Customer   51  Business travel       Eco   \n",
       "2  13387    Male  disloyal Customer   27  Business travel       Eco   \n",
       "3  17388  Female     Loyal Customer   52  Business travel  Business   \n",
       "4  91598  Female  disloyal Customer   15  Business travel       Eco   \n",
       "\n",
       "   Flight Distance  Inflight wifi service  Departure/Arrival time convenient  \\\n",
       "0              193                      3                                  4   \n",
       "1              925                      2                                  1   \n",
       "2              505                      0                                  0   \n",
       "3             2953                      2                                  2   \n",
       "4             1352                      4                                  4   \n",
       "\n",
       "   Ease of Online booking  ...  Inflight entertainment  On-board service  \\\n",
       "0                       0  ...                       5                 4   \n",
       "1                       1  ...                       2                 2   \n",
       "2                       0  ...                       1                 5   \n",
       "3                       2  ...                       5                 5   \n",
       "4                       4  ...                       2                 4   \n",
       "\n",
       "   Leg room service  Baggage handling  Checkin service  Inflight service  \\\n",
       "0                 5                 3                4                 4   \n",
       "1                 2                 2                3                 2   \n",
       "2                 5                 2                3                 2   \n",
       "3                 5                 5                4                 5   \n",
       "4                 3                 5                3                 5   \n",
       "\n",
       "   Cleanliness  Departure Delay in Minutes  Arrival Delay in Minutes  \\\n",
       "0            5                           0                       0.0   \n",
       "1            3                          47                      29.0   \n",
       "2            1                           0                       0.0   \n",
       "3            5                          10                       2.0   \n",
       "4            2                           0                       0.0   \n",
       "\n",
       "              satisfaction  \n",
       "0  neutral or dissatisfied  \n",
       "1  neutral or dissatisfied  \n",
       "2                satisfied  \n",
       "3                satisfied  \n",
       "4                satisfied  \n",
       "\n",
       "[5 rows x 24 columns]"
      ]
     },
     "execution_count": 54,
     "metadata": {},
     "output_type": "execute_result"
    }
   ],
   "source": [
    "df.head()"
   ]
  },
  {
   "cell_type": "code",
   "execution_count": 55,
   "id": "a248ffb0",
   "metadata": {
    "scrolled": true
   },
   "outputs": [
    {
     "name": "stdout",
     "output_type": "stream",
     "text": [
      "<class 'pandas.core.frame.DataFrame'>\n",
      "RangeIndex: 83123 entries, 0 to 83122\n",
      "Data columns (total 24 columns):\n",
      " #   Column                             Non-Null Count  Dtype  \n",
      "---  ------                             --------------  -----  \n",
      " 0   id                                 83123 non-null  int64  \n",
      " 1   Gender                             83123 non-null  object \n",
      " 2   Customer Type                      83123 non-null  object \n",
      " 3   Age                                83123 non-null  int64  \n",
      " 4   Type of Travel                     83123 non-null  object \n",
      " 5   Class                              83123 non-null  object \n",
      " 6   Flight Distance                    83123 non-null  int64  \n",
      " 7   Inflight wifi service              83123 non-null  int64  \n",
      " 8   Departure/Arrival time convenient  83123 non-null  int64  \n",
      " 9   Ease of Online booking             83123 non-null  int64  \n",
      " 10  Gate location                      83123 non-null  int64  \n",
      " 11  Food and drink                     83123 non-null  int64  \n",
      " 12  Online boarding                    83123 non-null  int64  \n",
      " 13  Seat comfort                       83123 non-null  int64  \n",
      " 14  Inflight entertainment             83123 non-null  int64  \n",
      " 15  On-board service                   83123 non-null  int64  \n",
      " 16  Leg room service                   83123 non-null  int64  \n",
      " 17  Baggage handling                   83123 non-null  int64  \n",
      " 18  Checkin service                    83123 non-null  int64  \n",
      " 19  Inflight service                   83123 non-null  int64  \n",
      " 20  Cleanliness                        83123 non-null  int64  \n",
      " 21  Departure Delay in Minutes         83123 non-null  int64  \n",
      " 22  Arrival Delay in Minutes           82872 non-null  float64\n",
      " 23  satisfaction                       83123 non-null  object \n",
      "dtypes: float64(1), int64(18), object(5)\n",
      "memory usage: 15.2+ MB\n"
     ]
    }
   ],
   "source": [
    "df.info()"
   ]
  },
  {
   "cell_type": "code",
   "execution_count": 56,
   "id": "ff3d87ef",
   "metadata": {
    "scrolled": false
   },
   "outputs": [
    {
     "data": {
      "text/html": [
       "<div>\n",
       "<style scoped>\n",
       "    .dataframe tbody tr th:only-of-type {\n",
       "        vertical-align: middle;\n",
       "    }\n",
       "\n",
       "    .dataframe tbody tr th {\n",
       "        vertical-align: top;\n",
       "    }\n",
       "\n",
       "    .dataframe thead th {\n",
       "        text-align: right;\n",
       "    }\n",
       "</style>\n",
       "<table border=\"1\" class=\"dataframe\">\n",
       "  <thead>\n",
       "    <tr style=\"text-align: right;\">\n",
       "      <th></th>\n",
       "      <th>id</th>\n",
       "      <th>Age</th>\n",
       "      <th>Flight Distance</th>\n",
       "      <th>Inflight wifi service</th>\n",
       "      <th>Departure/Arrival time convenient</th>\n",
       "      <th>Ease of Online booking</th>\n",
       "      <th>Gate location</th>\n",
       "      <th>Food and drink</th>\n",
       "      <th>Online boarding</th>\n",
       "      <th>Seat comfort</th>\n",
       "      <th>Inflight entertainment</th>\n",
       "      <th>On-board service</th>\n",
       "      <th>Leg room service</th>\n",
       "      <th>Baggage handling</th>\n",
       "      <th>Checkin service</th>\n",
       "      <th>Inflight service</th>\n",
       "      <th>Cleanliness</th>\n",
       "      <th>Departure Delay in Minutes</th>\n",
       "      <th>Arrival Delay in Minutes</th>\n",
       "    </tr>\n",
       "  </thead>\n",
       "  <tbody>\n",
       "    <tr>\n",
       "      <th>count</th>\n",
       "      <td>83123.000000</td>\n",
       "      <td>83123.000000</td>\n",
       "      <td>83123.000000</td>\n",
       "      <td>83123.000000</td>\n",
       "      <td>83123.000000</td>\n",
       "      <td>83123.000000</td>\n",
       "      <td>83123.000000</td>\n",
       "      <td>83123.000000</td>\n",
       "      <td>83123.000000</td>\n",
       "      <td>83123.000000</td>\n",
       "      <td>83123.000000</td>\n",
       "      <td>83123.000000</td>\n",
       "      <td>83123.000000</td>\n",
       "      <td>83123.000000</td>\n",
       "      <td>83123.000000</td>\n",
       "      <td>83123.000000</td>\n",
       "      <td>83123.000000</td>\n",
       "      <td>83123.000000</td>\n",
       "      <td>82872.000000</td>\n",
       "    </tr>\n",
       "    <tr>\n",
       "      <th>mean</th>\n",
       "      <td>64971.539574</td>\n",
       "      <td>39.351106</td>\n",
       "      <td>1190.686753</td>\n",
       "      <td>2.732553</td>\n",
       "      <td>3.062269</td>\n",
       "      <td>2.756385</td>\n",
       "      <td>2.978057</td>\n",
       "      <td>3.205286</td>\n",
       "      <td>3.252842</td>\n",
       "      <td>3.442790</td>\n",
       "      <td>3.362992</td>\n",
       "      <td>3.383636</td>\n",
       "      <td>3.351407</td>\n",
       "      <td>3.634313</td>\n",
       "      <td>3.308194</td>\n",
       "      <td>3.643865</td>\n",
       "      <td>3.291351</td>\n",
       "      <td>14.714556</td>\n",
       "      <td>15.063121</td>\n",
       "    </tr>\n",
       "    <tr>\n",
       "      <th>std</th>\n",
       "      <td>37465.886717</td>\n",
       "      <td>15.099487</td>\n",
       "      <td>998.640016</td>\n",
       "      <td>1.329950</td>\n",
       "      <td>1.526983</td>\n",
       "      <td>1.401047</td>\n",
       "      <td>1.279064</td>\n",
       "      <td>1.330482</td>\n",
       "      <td>1.350905</td>\n",
       "      <td>1.318317</td>\n",
       "      <td>1.331880</td>\n",
       "      <td>1.287778</td>\n",
       "      <td>1.313365</td>\n",
       "      <td>1.178930</td>\n",
       "      <td>1.264747</td>\n",
       "      <td>1.173351</td>\n",
       "      <td>1.313560</td>\n",
       "      <td>38.108874</td>\n",
       "      <td>38.475487</td>\n",
       "    </tr>\n",
       "    <tr>\n",
       "      <th>min</th>\n",
       "      <td>1.000000</td>\n",
       "      <td>7.000000</td>\n",
       "      <td>31.000000</td>\n",
       "      <td>0.000000</td>\n",
       "      <td>0.000000</td>\n",
       "      <td>0.000000</td>\n",
       "      <td>0.000000</td>\n",
       "      <td>0.000000</td>\n",
       "      <td>0.000000</td>\n",
       "      <td>0.000000</td>\n",
       "      <td>0.000000</td>\n",
       "      <td>0.000000</td>\n",
       "      <td>0.000000</td>\n",
       "      <td>1.000000</td>\n",
       "      <td>0.000000</td>\n",
       "      <td>0.000000</td>\n",
       "      <td>0.000000</td>\n",
       "      <td>0.000000</td>\n",
       "      <td>0.000000</td>\n",
       "    </tr>\n",
       "    <tr>\n",
       "      <th>25%</th>\n",
       "      <td>32552.500000</td>\n",
       "      <td>27.000000</td>\n",
       "      <td>413.000000</td>\n",
       "      <td>2.000000</td>\n",
       "      <td>2.000000</td>\n",
       "      <td>2.000000</td>\n",
       "      <td>2.000000</td>\n",
       "      <td>2.000000</td>\n",
       "      <td>2.000000</td>\n",
       "      <td>2.000000</td>\n",
       "      <td>2.000000</td>\n",
       "      <td>2.000000</td>\n",
       "      <td>2.000000</td>\n",
       "      <td>3.000000</td>\n",
       "      <td>3.000000</td>\n",
       "      <td>3.000000</td>\n",
       "      <td>2.000000</td>\n",
       "      <td>0.000000</td>\n",
       "      <td>0.000000</td>\n",
       "    </tr>\n",
       "    <tr>\n",
       "      <th>50%</th>\n",
       "      <td>64864.000000</td>\n",
       "      <td>40.000000</td>\n",
       "      <td>844.000000</td>\n",
       "      <td>3.000000</td>\n",
       "      <td>3.000000</td>\n",
       "      <td>3.000000</td>\n",
       "      <td>3.000000</td>\n",
       "      <td>3.000000</td>\n",
       "      <td>3.000000</td>\n",
       "      <td>4.000000</td>\n",
       "      <td>4.000000</td>\n",
       "      <td>4.000000</td>\n",
       "      <td>4.000000</td>\n",
       "      <td>4.000000</td>\n",
       "      <td>3.000000</td>\n",
       "      <td>4.000000</td>\n",
       "      <td>3.000000</td>\n",
       "      <td>0.000000</td>\n",
       "      <td>0.000000</td>\n",
       "    </tr>\n",
       "    <tr>\n",
       "      <th>75%</th>\n",
       "      <td>97430.500000</td>\n",
       "      <td>51.000000</td>\n",
       "      <td>1744.000000</td>\n",
       "      <td>4.000000</td>\n",
       "      <td>4.000000</td>\n",
       "      <td>4.000000</td>\n",
       "      <td>4.000000</td>\n",
       "      <td>4.000000</td>\n",
       "      <td>4.000000</td>\n",
       "      <td>5.000000</td>\n",
       "      <td>4.000000</td>\n",
       "      <td>4.000000</td>\n",
       "      <td>4.000000</td>\n",
       "      <td>5.000000</td>\n",
       "      <td>4.000000</td>\n",
       "      <td>5.000000</td>\n",
       "      <td>4.000000</td>\n",
       "      <td>12.000000</td>\n",
       "      <td>13.000000</td>\n",
       "    </tr>\n",
       "    <tr>\n",
       "      <th>max</th>\n",
       "      <td>129880.000000</td>\n",
       "      <td>85.000000</td>\n",
       "      <td>4983.000000</td>\n",
       "      <td>5.000000</td>\n",
       "      <td>5.000000</td>\n",
       "      <td>5.000000</td>\n",
       "      <td>5.000000</td>\n",
       "      <td>5.000000</td>\n",
       "      <td>5.000000</td>\n",
       "      <td>5.000000</td>\n",
       "      <td>5.000000</td>\n",
       "      <td>5.000000</td>\n",
       "      <td>5.000000</td>\n",
       "      <td>5.000000</td>\n",
       "      <td>5.000000</td>\n",
       "      <td>5.000000</td>\n",
       "      <td>5.000000</td>\n",
       "      <td>1592.000000</td>\n",
       "      <td>1584.000000</td>\n",
       "    </tr>\n",
       "  </tbody>\n",
       "</table>\n",
       "</div>"
      ],
      "text/plain": [
       "                  id           Age  Flight Distance  Inflight wifi service  \\\n",
       "count   83123.000000  83123.000000     83123.000000           83123.000000   \n",
       "mean    64971.539574     39.351106      1190.686753               2.732553   \n",
       "std     37465.886717     15.099487       998.640016               1.329950   \n",
       "min         1.000000      7.000000        31.000000               0.000000   \n",
       "25%     32552.500000     27.000000       413.000000               2.000000   \n",
       "50%     64864.000000     40.000000       844.000000               3.000000   \n",
       "75%     97430.500000     51.000000      1744.000000               4.000000   \n",
       "max    129880.000000     85.000000      4983.000000               5.000000   \n",
       "\n",
       "       Departure/Arrival time convenient  Ease of Online booking  \\\n",
       "count                       83123.000000            83123.000000   \n",
       "mean                            3.062269                2.756385   \n",
       "std                             1.526983                1.401047   \n",
       "min                             0.000000                0.000000   \n",
       "25%                             2.000000                2.000000   \n",
       "50%                             3.000000                3.000000   \n",
       "75%                             4.000000                4.000000   \n",
       "max                             5.000000                5.000000   \n",
       "\n",
       "       Gate location  Food and drink  Online boarding  Seat comfort  \\\n",
       "count   83123.000000    83123.000000     83123.000000  83123.000000   \n",
       "mean        2.978057        3.205286         3.252842      3.442790   \n",
       "std         1.279064        1.330482         1.350905      1.318317   \n",
       "min         0.000000        0.000000         0.000000      0.000000   \n",
       "25%         2.000000        2.000000         2.000000      2.000000   \n",
       "50%         3.000000        3.000000         3.000000      4.000000   \n",
       "75%         4.000000        4.000000         4.000000      5.000000   \n",
       "max         5.000000        5.000000         5.000000      5.000000   \n",
       "\n",
       "       Inflight entertainment  On-board service  Leg room service  \\\n",
       "count            83123.000000      83123.000000      83123.000000   \n",
       "mean                 3.362992          3.383636          3.351407   \n",
       "std                  1.331880          1.287778          1.313365   \n",
       "min                  0.000000          0.000000          0.000000   \n",
       "25%                  2.000000          2.000000          2.000000   \n",
       "50%                  4.000000          4.000000          4.000000   \n",
       "75%                  4.000000          4.000000          4.000000   \n",
       "max                  5.000000          5.000000          5.000000   \n",
       "\n",
       "       Baggage handling  Checkin service  Inflight service   Cleanliness  \\\n",
       "count      83123.000000     83123.000000      83123.000000  83123.000000   \n",
       "mean           3.634313         3.308194          3.643865      3.291351   \n",
       "std            1.178930         1.264747          1.173351      1.313560   \n",
       "min            1.000000         0.000000          0.000000      0.000000   \n",
       "25%            3.000000         3.000000          3.000000      2.000000   \n",
       "50%            4.000000         3.000000          4.000000      3.000000   \n",
       "75%            5.000000         4.000000          5.000000      4.000000   \n",
       "max            5.000000         5.000000          5.000000      5.000000   \n",
       "\n",
       "       Departure Delay in Minutes  Arrival Delay in Minutes  \n",
       "count                83123.000000              82872.000000  \n",
       "mean                    14.714556                 15.063121  \n",
       "std                     38.108874                 38.475487  \n",
       "min                      0.000000                  0.000000  \n",
       "25%                      0.000000                  0.000000  \n",
       "50%                      0.000000                  0.000000  \n",
       "75%                     12.000000                 13.000000  \n",
       "max                   1592.000000               1584.000000  "
      ]
     },
     "execution_count": 56,
     "metadata": {},
     "output_type": "execute_result"
    }
   ],
   "source": [
    "df.describe()"
   ]
  },
  {
   "cell_type": "code",
   "execution_count": 57,
   "id": "aa6cfdfc",
   "metadata": {
    "scrolled": true
   },
   "outputs": [
    {
     "data": {
      "text/plain": [
       "array([False])"
      ]
     },
     "execution_count": 57,
     "metadata": {},
     "output_type": "execute_result"
    }
   ],
   "source": [
    "df.duplicated().unique()"
   ]
  },
  {
   "cell_type": "code",
   "execution_count": 58,
   "id": "2b19f717",
   "metadata": {
    "scrolled": false
   },
   "outputs": [
    {
     "data": {
      "text/plain": [
       "Arrival Delay in Minutes             251\n",
       "id                                     0\n",
       "Gender                                 0\n",
       "Departure Delay in Minutes             0\n",
       "Cleanliness                            0\n",
       "Inflight service                       0\n",
       "Checkin service                        0\n",
       "Baggage handling                       0\n",
       "Leg room service                       0\n",
       "On-board service                       0\n",
       "Inflight entertainment                 0\n",
       "Seat comfort                           0\n",
       "Online boarding                        0\n",
       "Food and drink                         0\n",
       "Gate location                          0\n",
       "Ease of Online booking                 0\n",
       "Departure/Arrival time convenient      0\n",
       "Inflight wifi service                  0\n",
       "Flight Distance                        0\n",
       "Class                                  0\n",
       "Type of Travel                         0\n",
       "Age                                    0\n",
       "Customer Type                          0\n",
       "satisfaction                           0\n",
       "dtype: int64"
      ]
     },
     "execution_count": 58,
     "metadata": {},
     "output_type": "execute_result"
    }
   ],
   "source": [
    "df.isnull().sum().sort_values(ascending=False)"
   ]
  },
  {
   "cell_type": "code",
   "execution_count": 59,
   "id": "330d75fd",
   "metadata": {},
   "outputs": [
    {
     "data": {
      "text/plain": [
       "6.829915966104805"
      ]
     },
     "execution_count": 59,
     "metadata": {},
     "output_type": "execute_result"
    }
   ],
   "source": [
    "df['Arrival Delay in Minutes'].skew()"
   ]
  },
  {
   "cell_type": "code",
   "execution_count": 60,
   "id": "633117aa",
   "metadata": {},
   "outputs": [
    {
     "ename": "KeyboardInterrupt",
     "evalue": "",
     "output_type": "error",
     "traceback": [
      "\u001b[1;31m---------------------------------------------------------------------------\u001b[0m",
      "\u001b[1;31mKeyboardInterrupt\u001b[0m                         Traceback (most recent call last)",
      "Input \u001b[1;32mIn [60]\u001b[0m, in \u001b[0;36m<cell line: 1>\u001b[1;34m()\u001b[0m\n\u001b[1;32m----> 1\u001b[0m \u001b[43msns\u001b[49m\u001b[38;5;241;43m.\u001b[39;49m\u001b[43mjointplot\u001b[49m\u001b[43m(\u001b[49m\u001b[43mdata\u001b[49m\u001b[38;5;241;43m=\u001b[39;49m\u001b[43mdf\u001b[49m\u001b[43m,\u001b[49m\u001b[43mx\u001b[49m\u001b[38;5;241;43m=\u001b[39;49m\u001b[38;5;124;43m'\u001b[39;49m\u001b[38;5;124;43mArrival Delay in Minutes\u001b[39;49m\u001b[38;5;124;43m'\u001b[39;49m\u001b[43m,\u001b[49m\u001b[43mkind\u001b[49m\u001b[38;5;241;43m=\u001b[39;49m\u001b[38;5;124;43m'\u001b[39;49m\u001b[38;5;124;43mhist\u001b[39;49m\u001b[38;5;124;43m'\u001b[39;49m\u001b[43m)\u001b[49m\n",
      "File \u001b[1;32m~\\anaconda3\\lib\\site-packages\\seaborn\\_decorators.py:46\u001b[0m, in \u001b[0;36m_deprecate_positional_args.<locals>.inner_f\u001b[1;34m(*args, **kwargs)\u001b[0m\n\u001b[0;32m     36\u001b[0m     warnings\u001b[38;5;241m.\u001b[39mwarn(\n\u001b[0;32m     37\u001b[0m         \u001b[38;5;124m\"\u001b[39m\u001b[38;5;124mPass the following variable\u001b[39m\u001b[38;5;132;01m{}\u001b[39;00m\u001b[38;5;124m as \u001b[39m\u001b[38;5;132;01m{}\u001b[39;00m\u001b[38;5;124mkeyword arg\u001b[39m\u001b[38;5;132;01m{}\u001b[39;00m\u001b[38;5;124m: \u001b[39m\u001b[38;5;132;01m{}\u001b[39;00m\u001b[38;5;124m. \u001b[39m\u001b[38;5;124m\"\u001b[39m\n\u001b[0;32m     38\u001b[0m         \u001b[38;5;124m\"\u001b[39m\u001b[38;5;124mFrom version 0.12, the only valid positional argument \u001b[39m\u001b[38;5;124m\"\u001b[39m\n\u001b[1;32m   (...)\u001b[0m\n\u001b[0;32m     43\u001b[0m         \u001b[38;5;167;01mFutureWarning\u001b[39;00m\n\u001b[0;32m     44\u001b[0m     )\n\u001b[0;32m     45\u001b[0m kwargs\u001b[38;5;241m.\u001b[39mupdate({k: arg \u001b[38;5;28;01mfor\u001b[39;00m k, arg \u001b[38;5;129;01min\u001b[39;00m \u001b[38;5;28mzip\u001b[39m(sig\u001b[38;5;241m.\u001b[39mparameters, args)})\n\u001b[1;32m---> 46\u001b[0m \u001b[38;5;28;01mreturn\u001b[39;00m f(\u001b[38;5;241m*\u001b[39m\u001b[38;5;241m*\u001b[39mkwargs)\n",
      "File \u001b[1;32m~\\anaconda3\\lib\\site-packages\\seaborn\\axisgrid.py:2278\u001b[0m, in \u001b[0;36mjointplot\u001b[1;34m(x, y, data, kind, color, height, ratio, space, dropna, xlim, ylim, marginal_ticks, joint_kws, marginal_kws, hue, palette, hue_order, hue_norm, **kwargs)\u001b[0m\n\u001b[0;32m   2275\u001b[0m             marg_y_kws\u001b[38;5;241m.\u001b[39msetdefault(key, y_val)\n\u001b[0;32m   2277\u001b[0m     histplot(data\u001b[38;5;241m=\u001b[39mdata, x\u001b[38;5;241m=\u001b[39mx, hue\u001b[38;5;241m=\u001b[39mhue, \u001b[38;5;241m*\u001b[39m\u001b[38;5;241m*\u001b[39mmarg_x_kws, ax\u001b[38;5;241m=\u001b[39mgrid\u001b[38;5;241m.\u001b[39max_marg_x)\n\u001b[1;32m-> 2278\u001b[0m     histplot(data\u001b[38;5;241m=\u001b[39mdata, y\u001b[38;5;241m=\u001b[39my, hue\u001b[38;5;241m=\u001b[39mhue, \u001b[38;5;241m*\u001b[39m\u001b[38;5;241m*\u001b[39mmarg_y_kws, ax\u001b[38;5;241m=\u001b[39mgrid\u001b[38;5;241m.\u001b[39max_marg_y)\n\u001b[0;32m   2280\u001b[0m \u001b[38;5;28;01melif\u001b[39;00m kind\u001b[38;5;241m.\u001b[39mstartswith(\u001b[38;5;124m\"\u001b[39m\u001b[38;5;124mkde\u001b[39m\u001b[38;5;124m\"\u001b[39m):\n\u001b[0;32m   2282\u001b[0m     joint_kws\u001b[38;5;241m.\u001b[39msetdefault(\u001b[38;5;124m\"\u001b[39m\u001b[38;5;124mcolor\u001b[39m\u001b[38;5;124m\"\u001b[39m, color)\n",
      "File \u001b[1;32m~\\anaconda3\\lib\\site-packages\\seaborn\\distributions.py:1462\u001b[0m, in \u001b[0;36mhistplot\u001b[1;34m(data, x, y, hue, weights, stat, bins, binwidth, binrange, discrete, cumulative, common_bins, common_norm, multiple, element, fill, shrink, kde, kde_kws, line_kws, thresh, pthresh, pmax, cbar, cbar_ax, cbar_kws, palette, hue_order, hue_norm, color, log_scale, legend, ax, **kwargs)\u001b[0m\n\u001b[0;32m   1451\u001b[0m estimate_kws \u001b[38;5;241m=\u001b[39m \u001b[38;5;28mdict\u001b[39m(\n\u001b[0;32m   1452\u001b[0m     stat\u001b[38;5;241m=\u001b[39mstat,\n\u001b[0;32m   1453\u001b[0m     bins\u001b[38;5;241m=\u001b[39mbins,\n\u001b[1;32m   (...)\u001b[0m\n\u001b[0;32m   1457\u001b[0m     cumulative\u001b[38;5;241m=\u001b[39mcumulative,\n\u001b[0;32m   1458\u001b[0m )\n\u001b[0;32m   1460\u001b[0m \u001b[38;5;28;01mif\u001b[39;00m p\u001b[38;5;241m.\u001b[39munivariate:\n\u001b[1;32m-> 1462\u001b[0m     p\u001b[38;5;241m.\u001b[39mplot_univariate_histogram(\n\u001b[0;32m   1463\u001b[0m         multiple\u001b[38;5;241m=\u001b[39mmultiple,\n\u001b[0;32m   1464\u001b[0m         element\u001b[38;5;241m=\u001b[39melement,\n\u001b[0;32m   1465\u001b[0m         fill\u001b[38;5;241m=\u001b[39mfill,\n\u001b[0;32m   1466\u001b[0m         shrink\u001b[38;5;241m=\u001b[39mshrink,\n\u001b[0;32m   1467\u001b[0m         common_norm\u001b[38;5;241m=\u001b[39mcommon_norm,\n\u001b[0;32m   1468\u001b[0m         common_bins\u001b[38;5;241m=\u001b[39mcommon_bins,\n\u001b[0;32m   1469\u001b[0m         kde\u001b[38;5;241m=\u001b[39mkde,\n\u001b[0;32m   1470\u001b[0m         kde_kws\u001b[38;5;241m=\u001b[39mkde_kws,\n\u001b[0;32m   1471\u001b[0m         color\u001b[38;5;241m=\u001b[39mcolor,\n\u001b[0;32m   1472\u001b[0m         legend\u001b[38;5;241m=\u001b[39mlegend,\n\u001b[0;32m   1473\u001b[0m         estimate_kws\u001b[38;5;241m=\u001b[39mestimate_kws,\n\u001b[0;32m   1474\u001b[0m         line_kws\u001b[38;5;241m=\u001b[39mline_kws,\n\u001b[0;32m   1475\u001b[0m         \u001b[38;5;241m*\u001b[39m\u001b[38;5;241m*\u001b[39mkwargs,\n\u001b[0;32m   1476\u001b[0m     )\n\u001b[0;32m   1478\u001b[0m \u001b[38;5;28;01melse\u001b[39;00m:\n\u001b[0;32m   1480\u001b[0m     p\u001b[38;5;241m.\u001b[39mplot_bivariate_histogram(\n\u001b[0;32m   1481\u001b[0m         common_bins\u001b[38;5;241m=\u001b[39mcommon_bins,\n\u001b[0;32m   1482\u001b[0m         common_norm\u001b[38;5;241m=\u001b[39mcommon_norm,\n\u001b[1;32m   (...)\u001b[0m\n\u001b[0;32m   1492\u001b[0m         \u001b[38;5;241m*\u001b[39m\u001b[38;5;241m*\u001b[39mkwargs,\n\u001b[0;32m   1493\u001b[0m     )\n",
      "File \u001b[1;32m~\\anaconda3\\lib\\site-packages\\seaborn\\distributions.py:460\u001b[0m, in \u001b[0;36m_DistributionPlotter.plot_univariate_histogram\u001b[1;34m(self, multiple, element, fill, common_norm, common_bins, shrink, kde, kde_kws, color, legend, line_kws, estimate_kws, **plot_kws)\u001b[0m\n\u001b[0;32m    458\u001b[0m widths \u001b[38;5;241m=\u001b[39m shrink \u001b[38;5;241m*\u001b[39m orig_widths\n\u001b[0;32m    459\u001b[0m edges \u001b[38;5;241m=\u001b[39m edges[:\u001b[38;5;241m-\u001b[39m\u001b[38;5;241m1\u001b[39m] \u001b[38;5;241m+\u001b[39m (\u001b[38;5;241m1\u001b[39m \u001b[38;5;241m-\u001b[39m shrink) \u001b[38;5;241m/\u001b[39m \u001b[38;5;241m2\u001b[39m \u001b[38;5;241m*\u001b[39m orig_widths\n\u001b[1;32m--> 460\u001b[0m index \u001b[38;5;241m=\u001b[39m \u001b[43mpd\u001b[49m\u001b[38;5;241;43m.\u001b[39;49m\u001b[43mMultiIndex\u001b[49m\u001b[38;5;241;43m.\u001b[39;49m\u001b[43mfrom_arrays\u001b[49m\u001b[43m(\u001b[49m\u001b[43m[\u001b[49m\n\u001b[0;32m    461\u001b[0m \u001b[43m    \u001b[49m\u001b[43mpd\u001b[49m\u001b[38;5;241;43m.\u001b[39;49m\u001b[43mIndex\u001b[49m\u001b[43m(\u001b[49m\u001b[43medges\u001b[49m\u001b[43m,\u001b[49m\u001b[43m \u001b[49m\u001b[43mname\u001b[49m\u001b[38;5;241;43m=\u001b[39;49m\u001b[38;5;124;43m\"\u001b[39;49m\u001b[38;5;124;43medges\u001b[39;49m\u001b[38;5;124;43m\"\u001b[39;49m\u001b[43m)\u001b[49m\u001b[43m,\u001b[49m\n\u001b[0;32m    462\u001b[0m \u001b[43m    \u001b[49m\u001b[43mpd\u001b[49m\u001b[38;5;241;43m.\u001b[39;49m\u001b[43mIndex\u001b[49m\u001b[43m(\u001b[49m\u001b[43mwidths\u001b[49m\u001b[43m,\u001b[49m\u001b[43m \u001b[49m\u001b[43mname\u001b[49m\u001b[38;5;241;43m=\u001b[39;49m\u001b[38;5;124;43m\"\u001b[39;49m\u001b[38;5;124;43mwidths\u001b[39;49m\u001b[38;5;124;43m\"\u001b[39;49m\u001b[43m)\u001b[49m\u001b[43m,\u001b[49m\n\u001b[0;32m    463\u001b[0m \u001b[43m\u001b[49m\u001b[43m]\u001b[49m\u001b[43m)\u001b[49m\n\u001b[0;32m    464\u001b[0m hist \u001b[38;5;241m=\u001b[39m pd\u001b[38;5;241m.\u001b[39mSeries(heights, index\u001b[38;5;241m=\u001b[39mindex, name\u001b[38;5;241m=\u001b[39m\u001b[38;5;124m\"\u001b[39m\u001b[38;5;124mheights\u001b[39m\u001b[38;5;124m\"\u001b[39m)\n\u001b[0;32m    466\u001b[0m \u001b[38;5;66;03m# Apply scaling to normalize across groups\u001b[39;00m\n",
      "File \u001b[1;32m~\\anaconda3\\lib\\site-packages\\pandas\\core\\indexes\\multi.py:489\u001b[0m, in \u001b[0;36mMultiIndex.from_arrays\u001b[1;34m(cls, arrays, sortorder, names)\u001b[0m\n\u001b[0;32m    486\u001b[0m     \u001b[38;5;28;01mif\u001b[39;00m \u001b[38;5;28mlen\u001b[39m(arrays[i]) \u001b[38;5;241m!=\u001b[39m \u001b[38;5;28mlen\u001b[39m(arrays[i \u001b[38;5;241m-\u001b[39m \u001b[38;5;241m1\u001b[39m]):\n\u001b[0;32m    487\u001b[0m         \u001b[38;5;28;01mraise\u001b[39;00m \u001b[38;5;167;01mValueError\u001b[39;00m(\u001b[38;5;124m\"\u001b[39m\u001b[38;5;124mall arrays must be same length\u001b[39m\u001b[38;5;124m\"\u001b[39m)\n\u001b[1;32m--> 489\u001b[0m codes, levels \u001b[38;5;241m=\u001b[39m \u001b[43mfactorize_from_iterables\u001b[49m\u001b[43m(\u001b[49m\u001b[43marrays\u001b[49m\u001b[43m)\u001b[49m\n\u001b[0;32m    490\u001b[0m \u001b[38;5;28;01mif\u001b[39;00m names \u001b[38;5;129;01mis\u001b[39;00m lib\u001b[38;5;241m.\u001b[39mno_default:\n\u001b[0;32m    491\u001b[0m     names \u001b[38;5;241m=\u001b[39m [\u001b[38;5;28mgetattr\u001b[39m(arr, \u001b[38;5;124m\"\u001b[39m\u001b[38;5;124mname\u001b[39m\u001b[38;5;124m\"\u001b[39m, \u001b[38;5;28;01mNone\u001b[39;00m) \u001b[38;5;28;01mfor\u001b[39;00m arr \u001b[38;5;129;01min\u001b[39;00m arrays]\n",
      "File \u001b[1;32m~\\anaconda3\\lib\\site-packages\\pandas\\core\\arrays\\categorical.py:2881\u001b[0m, in \u001b[0;36mfactorize_from_iterables\u001b[1;34m(iterables)\u001b[0m\n\u001b[0;32m   2877\u001b[0m \u001b[38;5;28;01mif\u001b[39;00m \u001b[38;5;28mlen\u001b[39m(iterables) \u001b[38;5;241m==\u001b[39m \u001b[38;5;241m0\u001b[39m:\n\u001b[0;32m   2878\u001b[0m     \u001b[38;5;66;03m# For consistency, it should return two empty lists.\u001b[39;00m\n\u001b[0;32m   2879\u001b[0m     \u001b[38;5;28;01mreturn\u001b[39;00m [], []\n\u001b[1;32m-> 2881\u001b[0m codes, categories \u001b[38;5;241m=\u001b[39m \u001b[38;5;28;43mzip\u001b[39;49m\u001b[43m(\u001b[49m\u001b[38;5;241;43m*\u001b[39;49m\u001b[43m(\u001b[49m\u001b[43mfactorize_from_iterable\u001b[49m\u001b[43m(\u001b[49m\u001b[43mit\u001b[49m\u001b[43m)\u001b[49m\u001b[43m \u001b[49m\u001b[38;5;28;43;01mfor\u001b[39;49;00m\u001b[43m \u001b[49m\u001b[43mit\u001b[49m\u001b[43m \u001b[49m\u001b[38;5;129;43;01min\u001b[39;49;00m\u001b[43m \u001b[49m\u001b[43miterables\u001b[49m\u001b[43m)\u001b[49m\u001b[43m)\u001b[49m\n\u001b[0;32m   2882\u001b[0m \u001b[38;5;28;01mreturn\u001b[39;00m \u001b[38;5;28mlist\u001b[39m(codes), \u001b[38;5;28mlist\u001b[39m(categories)\n",
      "File \u001b[1;32m~\\anaconda3\\lib\\site-packages\\pandas\\core\\arrays\\categorical.py:2881\u001b[0m, in \u001b[0;36m<genexpr>\u001b[1;34m(.0)\u001b[0m\n\u001b[0;32m   2877\u001b[0m \u001b[38;5;28;01mif\u001b[39;00m \u001b[38;5;28mlen\u001b[39m(iterables) \u001b[38;5;241m==\u001b[39m \u001b[38;5;241m0\u001b[39m:\n\u001b[0;32m   2878\u001b[0m     \u001b[38;5;66;03m# For consistency, it should return two empty lists.\u001b[39;00m\n\u001b[0;32m   2879\u001b[0m     \u001b[38;5;28;01mreturn\u001b[39;00m [], []\n\u001b[1;32m-> 2881\u001b[0m codes, categories \u001b[38;5;241m=\u001b[39m \u001b[38;5;28mzip\u001b[39m(\u001b[38;5;241m*\u001b[39m(\u001b[43mfactorize_from_iterable\u001b[49m\u001b[43m(\u001b[49m\u001b[43mit\u001b[49m\u001b[43m)\u001b[49m \u001b[38;5;28;01mfor\u001b[39;00m it \u001b[38;5;129;01min\u001b[39;00m iterables))\n\u001b[0;32m   2882\u001b[0m \u001b[38;5;28;01mreturn\u001b[39;00m \u001b[38;5;28mlist\u001b[39m(codes), \u001b[38;5;28mlist\u001b[39m(categories)\n",
      "File \u001b[1;32m~\\anaconda3\\lib\\site-packages\\pandas\\core\\arrays\\categorical.py:2854\u001b[0m, in \u001b[0;36mfactorize_from_iterable\u001b[1;34m(values)\u001b[0m\n\u001b[0;32m   2849\u001b[0m     codes \u001b[38;5;241m=\u001b[39m values\u001b[38;5;241m.\u001b[39mcodes\n\u001b[0;32m   2850\u001b[0m \u001b[38;5;28;01melse\u001b[39;00m:\n\u001b[0;32m   2851\u001b[0m     \u001b[38;5;66;03m# The value of ordered is irrelevant since we don't use cat as such,\u001b[39;00m\n\u001b[0;32m   2852\u001b[0m     \u001b[38;5;66;03m# but only the resulting categories, the order of which is independent\u001b[39;00m\n\u001b[0;32m   2853\u001b[0m     \u001b[38;5;66;03m# from ordered. Set ordered to False as default. See GH #15457\u001b[39;00m\n\u001b[1;32m-> 2854\u001b[0m     cat \u001b[38;5;241m=\u001b[39m \u001b[43mCategorical\u001b[49m\u001b[43m(\u001b[49m\u001b[43mvalues\u001b[49m\u001b[43m,\u001b[49m\u001b[43m \u001b[49m\u001b[43mordered\u001b[49m\u001b[38;5;241;43m=\u001b[39;49m\u001b[38;5;28;43;01mFalse\u001b[39;49;00m\u001b[43m)\u001b[49m\n\u001b[0;32m   2855\u001b[0m     categories \u001b[38;5;241m=\u001b[39m cat\u001b[38;5;241m.\u001b[39mcategories\n\u001b[0;32m   2856\u001b[0m     codes \u001b[38;5;241m=\u001b[39m cat\u001b[38;5;241m.\u001b[39mcodes\n",
      "File \u001b[1;32m~\\anaconda3\\lib\\site-packages\\pandas\\core\\arrays\\categorical.py:451\u001b[0m, in \u001b[0;36mCategorical.__init__\u001b[1;34m(self, values, categories, ordered, dtype, fastpath, copy)\u001b[0m\n\u001b[0;32m    444\u001b[0m             \u001b[38;5;28;01mraise\u001b[39;00m \u001b[38;5;167;01mTypeError\u001b[39;00m(\n\u001b[0;32m    445\u001b[0m                 \u001b[38;5;124m\"\u001b[39m\u001b[38;5;124m'\u001b[39m\u001b[38;5;124mvalues\u001b[39m\u001b[38;5;124m'\u001b[39m\u001b[38;5;124m is not ordered, please \u001b[39m\u001b[38;5;124m\"\u001b[39m\n\u001b[0;32m    446\u001b[0m                 \u001b[38;5;124m\"\u001b[39m\u001b[38;5;124mexplicitly specify the categories order \u001b[39m\u001b[38;5;124m\"\u001b[39m\n\u001b[0;32m    447\u001b[0m                 \u001b[38;5;124m\"\u001b[39m\u001b[38;5;124mby passing in a categories argument.\u001b[39m\u001b[38;5;124m\"\u001b[39m\n\u001b[0;32m    448\u001b[0m             ) \u001b[38;5;28;01mfrom\u001b[39;00m \u001b[38;5;21;01merr\u001b[39;00m\n\u001b[0;32m    450\u001b[0m     \u001b[38;5;66;03m# we're inferring from values\u001b[39;00m\n\u001b[1;32m--> 451\u001b[0m     dtype \u001b[38;5;241m=\u001b[39m \u001b[43mCategoricalDtype\u001b[49m\u001b[43m(\u001b[49m\u001b[43mcategories\u001b[49m\u001b[43m,\u001b[49m\u001b[43m \u001b[49m\u001b[43mdtype\u001b[49m\u001b[38;5;241;43m.\u001b[39;49m\u001b[43mordered\u001b[49m\u001b[43m)\u001b[49m\n\u001b[0;32m    453\u001b[0m \u001b[38;5;28;01melif\u001b[39;00m is_categorical_dtype(values\u001b[38;5;241m.\u001b[39mdtype):\n\u001b[0;32m    454\u001b[0m     \u001b[38;5;66;03m# error: Item \"ExtensionArray\" of \"Union[Any, ExtensionArray]\" has no\u001b[39;00m\n\u001b[0;32m    455\u001b[0m     \u001b[38;5;66;03m# attribute \"_codes\"\u001b[39;00m\n\u001b[0;32m    456\u001b[0m     old_codes \u001b[38;5;241m=\u001b[39m extract_array(values)\u001b[38;5;241m.\u001b[39m_codes  \u001b[38;5;66;03m# type: ignore[union-attr]\u001b[39;00m\n",
      "File \u001b[1;32m~\\anaconda3\\lib\\site-packages\\pandas\\core\\dtypes\\dtypes.py:183\u001b[0m, in \u001b[0;36mCategoricalDtype.__init__\u001b[1;34m(self, categories, ordered)\u001b[0m\n\u001b[0;32m    182\u001b[0m \u001b[38;5;28;01mdef\u001b[39;00m \u001b[38;5;21m__init__\u001b[39m(\u001b[38;5;28mself\u001b[39m, categories\u001b[38;5;241m=\u001b[39m\u001b[38;5;28;01mNone\u001b[39;00m, ordered: Ordered \u001b[38;5;241m=\u001b[39m \u001b[38;5;28;01mFalse\u001b[39;00m):\n\u001b[1;32m--> 183\u001b[0m     \u001b[38;5;28;43mself\u001b[39;49m\u001b[38;5;241;43m.\u001b[39;49m\u001b[43m_finalize\u001b[49m\u001b[43m(\u001b[49m\u001b[43mcategories\u001b[49m\u001b[43m,\u001b[49m\u001b[43m \u001b[49m\u001b[43mordered\u001b[49m\u001b[43m,\u001b[49m\u001b[43m \u001b[49m\u001b[43mfastpath\u001b[49m\u001b[38;5;241;43m=\u001b[39;49m\u001b[38;5;28;43;01mFalse\u001b[39;49;00m\u001b[43m)\u001b[49m\n",
      "File \u001b[1;32m~\\anaconda3\\lib\\site-packages\\pandas\\core\\dtypes\\dtypes.py:337\u001b[0m, in \u001b[0;36mCategoricalDtype._finalize\u001b[1;34m(self, categories, ordered, fastpath)\u001b[0m\n\u001b[0;32m    334\u001b[0m     \u001b[38;5;28mself\u001b[39m\u001b[38;5;241m.\u001b[39mvalidate_ordered(ordered)\n\u001b[0;32m    336\u001b[0m \u001b[38;5;28;01mif\u001b[39;00m categories \u001b[38;5;129;01mis\u001b[39;00m \u001b[38;5;129;01mnot\u001b[39;00m \u001b[38;5;28;01mNone\u001b[39;00m:\n\u001b[1;32m--> 337\u001b[0m     categories \u001b[38;5;241m=\u001b[39m \u001b[38;5;28;43mself\u001b[39;49m\u001b[38;5;241;43m.\u001b[39;49m\u001b[43mvalidate_categories\u001b[49m\u001b[43m(\u001b[49m\u001b[43mcategories\u001b[49m\u001b[43m,\u001b[49m\u001b[43m \u001b[49m\u001b[43mfastpath\u001b[49m\u001b[38;5;241;43m=\u001b[39;49m\u001b[43mfastpath\u001b[49m\u001b[43m)\u001b[49m\n\u001b[0;32m    339\u001b[0m \u001b[38;5;28mself\u001b[39m\u001b[38;5;241m.\u001b[39m_categories \u001b[38;5;241m=\u001b[39m categories\n\u001b[0;32m    340\u001b[0m \u001b[38;5;28mself\u001b[39m\u001b[38;5;241m.\u001b[39m_ordered \u001b[38;5;241m=\u001b[39m ordered\n",
      "File \u001b[1;32m~\\anaconda3\\lib\\site-packages\\pandas\\core\\dtypes\\dtypes.py:533\u001b[0m, in \u001b[0;36mCategoricalDtype.validate_categories\u001b[1;34m(categories, fastpath)\u001b[0m\n\u001b[0;32m    530\u001b[0m     \u001b[38;5;28;01mif\u001b[39;00m categories\u001b[38;5;241m.\u001b[39mhasnans:\n\u001b[0;32m    531\u001b[0m         \u001b[38;5;28;01mraise\u001b[39;00m \u001b[38;5;167;01mValueError\u001b[39;00m(\u001b[38;5;124m\"\u001b[39m\u001b[38;5;124mCategorical categories cannot be null\u001b[39m\u001b[38;5;124m\"\u001b[39m)\n\u001b[1;32m--> 533\u001b[0m     \u001b[38;5;28;01mif\u001b[39;00m \u001b[38;5;129;01mnot\u001b[39;00m \u001b[43mcategories\u001b[49m\u001b[38;5;241;43m.\u001b[39;49m\u001b[43mis_unique\u001b[49m:\n\u001b[0;32m    534\u001b[0m         \u001b[38;5;28;01mraise\u001b[39;00m \u001b[38;5;167;01mValueError\u001b[39;00m(\u001b[38;5;124m\"\u001b[39m\u001b[38;5;124mCategorical categories must be unique\u001b[39m\u001b[38;5;124m\"\u001b[39m)\n\u001b[0;32m    536\u001b[0m \u001b[38;5;28;01mif\u001b[39;00m \u001b[38;5;28misinstance\u001b[39m(categories, ABCCategoricalIndex):\n",
      "File \u001b[1;32m~\\anaconda3\\lib\\site-packages\\pandas\\_libs\\properties.pyx:37\u001b[0m, in \u001b[0;36mpandas._libs.properties.CachedProperty.__get__\u001b[1;34m()\u001b[0m\n",
      "File \u001b[1;32m~\\anaconda3\\lib\\site-packages\\pandas\\core\\indexes\\base.py:2237\u001b[0m, in \u001b[0;36mIndex.is_unique\u001b[1;34m(self)\u001b[0m\n\u001b[0;32m   2232\u001b[0m \u001b[38;5;129m@cache_readonly\u001b[39m\n\u001b[0;32m   2233\u001b[0m \u001b[38;5;28;01mdef\u001b[39;00m \u001b[38;5;21mis_unique\u001b[39m(\u001b[38;5;28mself\u001b[39m) \u001b[38;5;241m-\u001b[39m\u001b[38;5;241m>\u001b[39m \u001b[38;5;28mbool\u001b[39m:\n\u001b[0;32m   2234\u001b[0m     \u001b[38;5;124;03m\"\"\"\u001b[39;00m\n\u001b[0;32m   2235\u001b[0m \u001b[38;5;124;03m    Return if the index has unique values.\u001b[39;00m\n\u001b[0;32m   2236\u001b[0m \u001b[38;5;124;03m    \"\"\"\u001b[39;00m\n\u001b[1;32m-> 2237\u001b[0m     \u001b[38;5;28;01mreturn\u001b[39;00m \u001b[38;5;28;43mself\u001b[39;49m\u001b[38;5;241;43m.\u001b[39;49m\u001b[43m_engine\u001b[49m\u001b[38;5;241;43m.\u001b[39;49m\u001b[43mis_unique\u001b[49m\n",
      "\u001b[1;31mKeyboardInterrupt\u001b[0m: "
     ]
    },
    {
     "data": {
      "image/png": "[encoded data removed]",
      "text/plain": [
       "<Figure size 432x432 with 3 Axes>"
      ]
     },
     "metadata": {
      "needs_background": "light"
     },
     "output_type": "display_data"
    }
   ],
   "source": [
    "sns.jointplot(data=df,x='Arrival Delay in Minutes',kind='hist')"
   ]
  },
  {
   "cell_type": "code",
   "execution_count": 62,
   "id": "c834294f",
   "metadata": {
    "scrolled": true
   },
   "outputs": [
    {
     "data": {
      "text/plain": [
       "<AxesSubplot:ylabel='Frequency'>"
      ]
     },
     "execution_count": 62,
     "metadata": {},
     "output_type": "execute_result"
    },
    {
     "data": {
      "image/png": "[encoded data removed]",
      "text/plain": [
       "<Figure size 432x288 with 1 Axes>"
      ]
     },
     "metadata": {
      "needs_background": "light"
     },
     "output_type": "display_data"
    }
   ],
   "source": [
    "df['Arrival Delay in Minutes'].plot.hist()"
   ]
  },
  {
   "cell_type": "code",
   "execution_count": 63,
   "id": "427972e1",
   "metadata": {},
   "outputs": [],
   "source": [
    "df['Arrival Delay in Minutes']=df['Arrival Delay in Minutes'].fillna(df['Arrival Delay in Minutes'].median())"
   ]
  },
  {
   "cell_type": "code",
   "execution_count": 64,
   "id": "6d45c2ea",
   "metadata": {
    "scrolled": true
   },
   "outputs": [
    {
     "data": {
      "text/plain": [
       "id                                   0\n",
       "Gender                               0\n",
       "Arrival Delay in Minutes             0\n",
       "Departure Delay in Minutes           0\n",
       "Cleanliness                          0\n",
       "Inflight service                     0\n",
       "Checkin service                      0\n",
       "Baggage handling                     0\n",
       "Leg room service                     0\n",
       "On-board service                     0\n",
       "Inflight entertainment               0\n",
       "Seat comfort                         0\n",
       "Online boarding                      0\n",
       "Food and drink                       0\n",
       "Gate location                        0\n",
       "Ease of Online booking               0\n",
       "Departure/Arrival time convenient    0\n",
       "Inflight wifi service                0\n",
       "Flight Distance                      0\n",
       "Class                                0\n",
       "Type of Travel                       0\n",
       "Age                                  0\n",
       "Customer Type                        0\n",
       "satisfaction                         0\n",
       "dtype: int64"
      ]
     },
     "execution_count": 64,
     "metadata": {},
     "output_type": "execute_result"
    }
   ],
   "source": [
    "df.isnull().sum().sort_values(ascending=False)"
   ]
  },
  {
   "cell_type": "code",
   "execution_count": 65,
   "id": "d5c7d237",
   "metadata": {
    "scrolled": true
   },
   "outputs": [
    {
     "name": "stdout",
     "output_type": "stream",
     "text": [
      "<class 'pandas.core.frame.DataFrame'>\n",
      "RangeIndex: 83123 entries, 0 to 83122\n",
      "Data columns (total 24 columns):\n",
      " #   Column                             Non-Null Count  Dtype  \n",
      "---  ------                             --------------  -----  \n",
      " 0   id                                 83123 non-null  int64  \n",
      " 1   Gender                             83123 non-null  object \n",
      " 2   Customer Type                      83123 non-null  object \n",
      " 3   Age                                83123 non-null  int64  \n",
      " 4   Type of Travel                     83123 non-null  object \n",
      " 5   Class                              83123 non-null  object \n",
      " 6   Flight Distance                    83123 non-null  int64  \n",
      " 7   Inflight wifi service              83123 non-null  int64  \n",
      " 8   Departure/Arrival time convenient  83123 non-null  int64  \n",
      " 9   Ease of Online booking             83123 non-null  int64  \n",
      " 10  Gate location                      83123 non-null  int64  \n",
      " 11  Food and drink                     83123 non-null  int64  \n",
      " 12  Online boarding                    83123 non-null  int64  \n",
      " 13  Seat comfort                       83123 non-null  int64  \n",
      " 14  Inflight entertainment             83123 non-null  int64  \n",
      " 15  On-board service                   83123 non-null  int64  \n",
      " 16  Leg room service                   83123 non-null  int64  \n",
      " 17  Baggage handling                   83123 non-null  int64  \n",
      " 18  Checkin service                    83123 non-null  int64  \n",
      " 19  Inflight service                   83123 non-null  int64  \n",
      " 20  Cleanliness                        83123 non-null  int64  \n",
      " 21  Departure Delay in Minutes         83123 non-null  int64  \n",
      " 22  Arrival Delay in Minutes           83123 non-null  float64\n",
      " 23  satisfaction                       83123 non-null  object \n",
      "dtypes: float64(1), int64(18), object(5)\n",
      "memory usage: 15.2+ MB\n"
     ]
    }
   ],
   "source": [
    "df.info()"
   ]
  },
  {
   "cell_type": "code",
   "execution_count": 66,
   "id": "978c6b30",
   "metadata": {},
   "outputs": [],
   "source": [
    "cat_cols = ['Gender','Customer Type','Type of Travel','Class']"
   ]
  },
  {
   "cell_type": "code",
   "execution_count": 67,
   "id": "d2fceaa2",
   "metadata": {},
   "outputs": [],
   "source": [
    "num_cols=['Age','Flight Distance','Inflight wifi service','Departure/Arrival time convenient','Ease of Online booking','Gate location','Food and drink','Online boarding','Seat comfort','Inflight entertainment','On-board service','Leg room service','Baggage handling','Checkin service','Inflight service','Cleanliness','Departure Delay in Minutes','Arrival Delay in Minutes']"
   ]
  },
  {
   "cell_type": "code",
   "execution_count": 68,
   "id": "8360bfc3",
   "metadata": {
    "scrolled": false
   },
   "outputs": [
    {
     "name": "stdout",
     "output_type": "stream",
     "text": [
      "Gender\n",
      "['Female' 'Male']\n",
      "=========================\n",
      "Customer Type\n",
      "['Loyal Customer' 'disloyal Customer']\n",
      "=========================\n",
      "Type of Travel\n",
      "['Personal Travel' 'Business travel']\n",
      "=========================\n",
      "Class\n",
      "['Eco' 'Business' 'Eco Plus']\n",
      "=========================\n"
     ]
    }
   ],
   "source": [
    "for c in cat_cols:\n",
    "    print(c)\n",
    "    print(df[c].unique())\n",
    "    print(\"=\"*25)\n",
    "    "
   ]
  },
  {
   "cell_type": "code",
   "execution_count": 69,
   "id": "657d80fc",
   "metadata": {},
   "outputs": [],
   "source": [
    "df.drop('id',axis=1,inplace=True)"
   ]
  },
  {
   "cell_type": "code",
   "execution_count": 70,
   "id": "4d959074",
   "metadata": {
    "scrolled": false
   },
   "outputs": [
    {
     "name": "stdout",
     "output_type": "stream",
     "text": [
      "<class 'pandas.core.frame.DataFrame'>\n",
      "RangeIndex: 83123 entries, 0 to 83122\n",
      "Data columns (total 23 columns):\n",
      " #   Column                             Non-Null Count  Dtype  \n",
      "---  ------                             --------------  -----  \n",
      " 0   Gender                             83123 non-null  object \n",
      " 1   Customer Type                      83123 non-null  object \n",
      " 2   Age                                83123 non-null  int64  \n",
      " 3   Type of Travel                     83123 non-null  object \n",
      " 4   Class                              83123 non-null  object \n",
      " 5   Flight Distance                    83123 non-null  int64  \n",
      " 6   Inflight wifi service              83123 non-null  int64  \n",
      " 7   Departure/Arrival time convenient  83123 non-null  int64  \n",
      " 8   Ease of Online booking             83123 non-null  int64  \n",
      " 9   Gate location                      83123 non-null  int64  \n",
      " 10  Food and drink                     83123 non-null  int64  \n",
      " 11  Online boarding                    83123 non-null  int64  \n",
      " 12  Seat comfort                       83123 non-null  int64  \n",
      " 13  Inflight entertainment             83123 non-null  int64  \n",
      " 14  On-board service                   83123 non-null  int64  \n",
      " 15  Leg room service                   83123 non-null  int64  \n",
      " 16  Baggage handling                   83123 non-null  int64  \n",
      " 17  Checkin service                    83123 non-null  int64  \n",
      " 18  Inflight service                   83123 non-null  int64  \n",
      " 19  Cleanliness                        83123 non-null  int64  \n",
      " 20  Departure Delay in Minutes         83123 non-null  int64  \n",
      " 21  Arrival Delay in Minutes           83123 non-null  float64\n",
      " 22  satisfaction                       83123 non-null  object \n",
      "dtypes: float64(1), int64(17), object(5)\n",
      "memory usage: 14.6+ MB\n"
     ]
    }
   ],
   "source": [
    "df.info()"
   ]
  },
  {
   "cell_type": "code",
   "execution_count": 71,
   "id": "884d9e5f",
   "metadata": {
    "scrolled": true
   },
   "outputs": [
    {
     "data": {
      "text/plain": [
       "['Age',\n",
       " 'Flight Distance',\n",
       " 'Inflight wifi service',\n",
       " 'Departure/Arrival time convenient',\n",
       " 'Ease of Online booking',\n",
       " 'Gate location',\n",
       " 'Food and drink',\n",
       " 'Online boarding',\n",
       " 'Seat comfort',\n",
       " 'Inflight entertainment',\n",
       " 'On-board service',\n",
       " 'Leg room service',\n",
       " 'Baggage handling',\n",
       " 'Checkin service',\n",
       " 'Inflight service',\n",
       " 'Cleanliness',\n",
       " 'Departure Delay in Minutes',\n",
       " 'Arrival Delay in Minutes']"
      ]
     },
     "execution_count": 71,
     "metadata": {},
     "output_type": "execute_result"
    }
   ],
   "source": [
    "num_cols"
   ]
  },
  {
   "cell_type": "code",
   "execution_count": 72,
   "id": "2019a75c",
   "metadata": {
    "scrolled": true
   },
   "outputs": [
    {
     "data": {
      "text/html": [
       "<div>\n",
       "<style scoped>\n",
       "    .dataframe tbody tr th:only-of-type {\n",
       "        vertical-align: middle;\n",
       "    }\n",
       "\n",
       "    .dataframe tbody tr th {\n",
       "        vertical-align: top;\n",
       "    }\n",
       "\n",
       "    .dataframe thead th {\n",
       "        text-align: right;\n",
       "    }\n",
       "</style>\n",
       "<table border=\"1\" class=\"dataframe\">\n",
       "  <thead>\n",
       "    <tr style=\"text-align: right;\">\n",
       "      <th></th>\n",
       "      <th>Age</th>\n",
       "      <th>Flight Distance</th>\n",
       "      <th>Inflight wifi service</th>\n",
       "      <th>Departure/Arrival time convenient</th>\n",
       "      <th>Ease of Online booking</th>\n",
       "      <th>Gate location</th>\n",
       "      <th>Food and drink</th>\n",
       "      <th>Online boarding</th>\n",
       "      <th>Seat comfort</th>\n",
       "      <th>Inflight entertainment</th>\n",
       "      <th>On-board service</th>\n",
       "      <th>Leg room service</th>\n",
       "      <th>Baggage handling</th>\n",
       "      <th>Checkin service</th>\n",
       "      <th>Inflight service</th>\n",
       "      <th>Cleanliness</th>\n",
       "      <th>Departure Delay in Minutes</th>\n",
       "      <th>Arrival Delay in Minutes</th>\n",
       "    </tr>\n",
       "  </thead>\n",
       "  <tbody>\n",
       "    <tr>\n",
       "      <th>count</th>\n",
       "      <td>83123.000000</td>\n",
       "      <td>83123.000000</td>\n",
       "      <td>83123.000000</td>\n",
       "      <td>83123.000000</td>\n",
       "      <td>83123.000000</td>\n",
       "      <td>83123.000000</td>\n",
       "      <td>83123.000000</td>\n",
       "      <td>83123.000000</td>\n",
       "      <td>83123.000000</td>\n",
       "      <td>83123.000000</td>\n",
       "      <td>83123.000000</td>\n",
       "      <td>83123.000000</td>\n",
       "      <td>83123.000000</td>\n",
       "      <td>83123.000000</td>\n",
       "      <td>83123.000000</td>\n",
       "      <td>83123.000000</td>\n",
       "      <td>83123.000000</td>\n",
       "      <td>83123.000000</td>\n",
       "    </tr>\n",
       "    <tr>\n",
       "      <th>mean</th>\n",
       "      <td>39.351106</td>\n",
       "      <td>1190.686753</td>\n",
       "      <td>2.732553</td>\n",
       "      <td>3.062269</td>\n",
       "      <td>2.756385</td>\n",
       "      <td>2.978057</td>\n",
       "      <td>3.205286</td>\n",
       "      <td>3.252842</td>\n",
       "      <td>3.442790</td>\n",
       "      <td>3.362992</td>\n",
       "      <td>3.383636</td>\n",
       "      <td>3.351407</td>\n",
       "      <td>3.634313</td>\n",
       "      <td>3.308194</td>\n",
       "      <td>3.643865</td>\n",
       "      <td>3.291351</td>\n",
       "      <td>14.714556</td>\n",
       "      <td>15.017637</td>\n",
       "    </tr>\n",
       "    <tr>\n",
       "      <th>std</th>\n",
       "      <td>15.099487</td>\n",
       "      <td>998.640016</td>\n",
       "      <td>1.329950</td>\n",
       "      <td>1.526983</td>\n",
       "      <td>1.401047</td>\n",
       "      <td>1.279064</td>\n",
       "      <td>1.330482</td>\n",
       "      <td>1.350905</td>\n",
       "      <td>1.318317</td>\n",
       "      <td>1.331880</td>\n",
       "      <td>1.287778</td>\n",
       "      <td>1.313365</td>\n",
       "      <td>1.178930</td>\n",
       "      <td>1.264747</td>\n",
       "      <td>1.173351</td>\n",
       "      <td>1.313560</td>\n",
       "      <td>38.108874</td>\n",
       "      <td>38.426241</td>\n",
       "    </tr>\n",
       "    <tr>\n",
       "      <th>min</th>\n",
       "      <td>7.000000</td>\n",
       "      <td>31.000000</td>\n",
       "      <td>0.000000</td>\n",
       "      <td>0.000000</td>\n",
       "      <td>0.000000</td>\n",
       "      <td>0.000000</td>\n",
       "      <td>0.000000</td>\n",
       "      <td>0.000000</td>\n",
       "      <td>0.000000</td>\n",
       "      <td>0.000000</td>\n",
       "      <td>0.000000</td>\n",
       "      <td>0.000000</td>\n",
       "      <td>1.000000</td>\n",
       "      <td>0.000000</td>\n",
       "      <td>0.000000</td>\n",
       "      <td>0.000000</td>\n",
       "      <td>0.000000</td>\n",
       "      <td>0.000000</td>\n",
       "    </tr>\n",
       "    <tr>\n",
       "      <th>25%</th>\n",
       "      <td>27.000000</td>\n",
       "      <td>413.000000</td>\n",
       "      <td>2.000000</td>\n",
       "      <td>2.000000</td>\n",
       "      <td>2.000000</td>\n",
       "      <td>2.000000</td>\n",
       "      <td>2.000000</td>\n",
       "      <td>2.000000</td>\n",
       "      <td>2.000000</td>\n",
       "      <td>2.000000</td>\n",
       "      <td>2.000000</td>\n",
       "      <td>2.000000</td>\n",
       "      <td>3.000000</td>\n",
       "      <td>3.000000</td>\n",
       "      <td>3.000000</td>\n",
       "      <td>2.000000</td>\n",
       "      <td>0.000000</td>\n",
       "      <td>0.000000</td>\n",
       "    </tr>\n",
       "    <tr>\n",
       "      <th>50%</th>\n",
       "      <td>40.000000</td>\n",
       "      <td>844.000000</td>\n",
       "      <td>3.000000</td>\n",
       "      <td>3.000000</td>\n",
       "      <td>3.000000</td>\n",
       "      <td>3.000000</td>\n",
       "      <td>3.000000</td>\n",
       "      <td>3.000000</td>\n",
       "      <td>4.000000</td>\n",
       "      <td>4.000000</td>\n",
       "      <td>4.000000</td>\n",
       "      <td>4.000000</td>\n",
       "      <td>4.000000</td>\n",
       "      <td>3.000000</td>\n",
       "      <td>4.000000</td>\n",
       "      <td>3.000000</td>\n",
       "      <td>0.000000</td>\n",
       "      <td>0.000000</td>\n",
       "    </tr>\n",
       "    <tr>\n",
       "      <th>75%</th>\n",
       "      <td>51.000000</td>\n",
       "      <td>1744.000000</td>\n",
       "      <td>4.000000</td>\n",
       "      <td>4.000000</td>\n",
       "      <td>4.000000</td>\n",
       "      <td>4.000000</td>\n",
       "      <td>4.000000</td>\n",
       "      <td>4.000000</td>\n",
       "      <td>5.000000</td>\n",
       "      <td>4.000000</td>\n",
       "      <td>4.000000</td>\n",
       "      <td>4.000000</td>\n",
       "      <td>5.000000</td>\n",
       "      <td>4.000000</td>\n",
       "      <td>5.000000</td>\n",
       "      <td>4.000000</td>\n",
       "      <td>12.000000</td>\n",
       "      <td>13.000000</td>\n",
       "    </tr>\n",
       "    <tr>\n",
       "      <th>max</th>\n",
       "      <td>85.000000</td>\n",
       "      <td>4983.000000</td>\n",
       "      <td>5.000000</td>\n",
       "      <td>5.000000</td>\n",
       "      <td>5.000000</td>\n",
       "      <td>5.000000</td>\n",
       "      <td>5.000000</td>\n",
       "      <td>5.000000</td>\n",
       "      <td>5.000000</td>\n",
       "      <td>5.000000</td>\n",
       "      <td>5.000000</td>\n",
       "      <td>5.000000</td>\n",
       "      <td>5.000000</td>\n",
       "      <td>5.000000</td>\n",
       "      <td>5.000000</td>\n",
       "      <td>5.000000</td>\n",
       "      <td>1592.000000</td>\n",
       "      <td>1584.000000</td>\n",
       "    </tr>\n",
       "  </tbody>\n",
       "</table>\n",
       "</div>"
      ],
      "text/plain": [
       "                Age  Flight Distance  Inflight wifi service  \\\n",
       "count  83123.000000     83123.000000           83123.000000   \n",
       "mean      39.351106      1190.686753               2.732553   \n",
       "std       15.099487       998.640016               1.329950   \n",
       "min        7.000000        31.000000               0.000000   \n",
       "25%       27.000000       413.000000               2.000000   \n",
       "50%       40.000000       844.000000               3.000000   \n",
       "75%       51.000000      1744.000000               4.000000   \n",
       "max       85.000000      4983.000000               5.000000   \n",
       "\n",
       "       Departure/Arrival time convenient  Ease of Online booking  \\\n",
       "count                       83123.000000            83123.000000   \n",
       "mean                            3.062269                2.756385   \n",
       "std                             1.526983                1.401047   \n",
       "min                             0.000000                0.000000   \n",
       "25%                             2.000000                2.000000   \n",
       "50%                             3.000000                3.000000   \n",
       "75%                             4.000000                4.000000   \n",
       "max                             5.000000                5.000000   \n",
       "\n",
       "       Gate location  Food and drink  Online boarding  Seat comfort  \\\n",
       "count   83123.000000    83123.000000     83123.000000  83123.000000   \n",
       "mean        2.978057        3.205286         3.252842      3.442790   \n",
       "std         1.279064        1.330482         1.350905      1.318317   \n",
       "min         0.000000        0.000000         0.000000      0.000000   \n",
       "25%         2.000000        2.000000         2.000000      2.000000   \n",
       "50%         3.000000        3.000000         3.000000      4.000000   \n",
       "75%         4.000000        4.000000         4.000000      5.000000   \n",
       "max         5.000000        5.000000         5.000000      5.000000   \n",
       "\n",
       "       Inflight entertainment  On-board service  Leg room service  \\\n",
       "count            83123.000000      83123.000000      83123.000000   \n",
       "mean                 3.362992          3.383636          3.351407   \n",
       "std                  1.331880          1.287778          1.313365   \n",
       "min                  0.000000          0.000000          0.000000   \n",
       "25%                  2.000000          2.000000          2.000000   \n",
       "50%                  4.000000          4.000000          4.000000   \n",
       "75%                  4.000000          4.000000          4.000000   \n",
       "max                  5.000000          5.000000          5.000000   \n",
       "\n",
       "       Baggage handling  Checkin service  Inflight service   Cleanliness  \\\n",
       "count      83123.000000     83123.000000      83123.000000  83123.000000   \n",
       "mean           3.634313         3.308194          3.643865      3.291351   \n",
       "std            1.178930         1.264747          1.173351      1.313560   \n",
       "min            1.000000         0.000000          0.000000      0.000000   \n",
       "25%            3.000000         3.000000          3.000000      2.000000   \n",
       "50%            4.000000         3.000000          4.000000      3.000000   \n",
       "75%            5.000000         4.000000          5.000000      4.000000   \n",
       "max            5.000000         5.000000          5.000000      5.000000   \n",
       "\n",
       "       Departure Delay in Minutes  Arrival Delay in Minutes  \n",
       "count                83123.000000              83123.000000  \n",
       "mean                    14.714556                 15.017637  \n",
       "std                     38.108874                 38.426241  \n",
       "min                      0.000000                  0.000000  \n",
       "25%                      0.000000                  0.000000  \n",
       "50%                      0.000000                  0.000000  \n",
       "75%                     12.000000                 13.000000  \n",
       "max                   1592.000000               1584.000000  "
      ]
     },
     "execution_count": 72,
     "metadata": {},
     "output_type": "execute_result"
    }
   ],
   "source": [
    "df.describe()"
   ]
  },
  {
   "cell_type": "code",
   "execution_count": 73,
   "id": "f8c0ebec",
   "metadata": {},
   "outputs": [
    {
     "data": {
      "text/plain": [
       "array([False])"
      ]
     },
     "execution_count": 73,
     "metadata": {},
     "output_type": "execute_result"
    }
   ],
   "source": [
    "df.duplicated().unique()"
   ]
  },
  {
   "cell_type": "code",
   "execution_count": 74,
   "id": "bcc06cef",
   "metadata": {},
   "outputs": [],
   "source": [
    "def check_skewness(v):\n",
    "    if v>1 or v<-1:\n",
    "        return \"High Skewness\"\n",
    "    elif 0.5<v<1 or -1<v<-0.5:\n",
    "        return \"Moderate Skewness\"\n",
    "    elif -0.5<=v<=0.5:\n",
    "        return \"Fairly Symmetrical\""
   ]
  },
  {
   "cell_type": "code",
   "execution_count": 75,
   "id": "bcc34b41",
   "metadata": {
    "scrolled": true
   },
   "outputs": [
    {
     "name": "stdout",
     "output_type": "stream",
     "text": [
      "Skewness in Class is: Fairly Symmetrical\n",
      "========================================\n",
      "Skewness in Class is: High Skewness\n",
      "========================================\n",
      "Skewness in Class is: Fairly Symmetrical\n",
      "========================================\n",
      "Skewness in Class is: Fairly Symmetrical\n",
      "========================================\n",
      "Skewness in Class is: Fairly Symmetrical\n",
      "========================================\n",
      "Skewness in Class is: Fairly Symmetrical\n",
      "========================================\n",
      "Skewness in Class is: Fairly Symmetrical\n",
      "========================================\n",
      "Skewness in Class is: Fairly Symmetrical\n",
      "========================================\n",
      "Skewness in Class is: Fairly Symmetrical\n",
      "========================================\n",
      "Skewness in Class is: Fairly Symmetrical\n",
      "========================================\n",
      "Skewness in Class is: Fairly Symmetrical\n",
      "========================================\n",
      "Skewness in Class is: Fairly Symmetrical\n",
      "========================================\n",
      "Skewness in Class is: Moderate Skewness\n",
      "========================================\n",
      "Skewness in Class is: Fairly Symmetrical\n",
      "========================================\n",
      "Skewness in Class is: Moderate Skewness\n",
      "========================================\n",
      "Skewness in Class is: Fairly Symmetrical\n",
      "========================================\n",
      "Skewness in Class is: High Skewness\n",
      "========================================\n",
      "Skewness in Class is: High Skewness\n",
      "========================================\n"
     ]
    }
   ],
   "source": [
    "for d in num_cols:\n",
    "    skewness = check_skewness(df[d].skew())\n",
    "    print(\"Skewness in\",c,\"is:\",skewness)\n",
    "    print(\"=\"*40)"
   ]
  },
  {
   "cell_type": "code",
   "execution_count": 76,
   "id": "af6c7d4c",
   "metadata": {},
   "outputs": [],
   "source": [
    "Q1 = np.percentile(df['Flight Distance'], 25,\n",
    "                   interpolation = 'midpoint')\n",
    " \n",
    "Q3 = np.percentile(df['Flight Distance'], 75,\n",
    "                   interpolation = 'midpoint')\n",
    "IQR = Q3 - Q1"
   ]
  },
  {
   "cell_type": "code",
   "execution_count": 77,
   "id": "9ba0d030",
   "metadata": {
    "scrolled": true
   },
   "outputs": [
    {
     "data": {
      "text/plain": [
       "1331.0"
      ]
     },
     "execution_count": 77,
     "metadata": {},
     "output_type": "execute_result"
    }
   ],
   "source": [
    "IQR"
   ]
  },
  {
   "cell_type": "code",
   "execution_count": 78,
   "id": "8db6d2bc",
   "metadata": {},
   "outputs": [],
   "source": [
    "upper = Q3 + 1.5*IQR\n",
    "\n",
    "lower = Q1 - 1.5*IQR"
   ]
  },
  {
   "cell_type": "code",
   "execution_count": 79,
   "id": "912e50de",
   "metadata": {
    "scrolled": true
   },
   "outputs": [
    {
     "name": "stdout",
     "output_type": "stream",
     "text": [
      "3740.5 -1583.5\n"
     ]
    }
   ],
   "source": [
    "print(upper , lower)"
   ]
  },
  {
   "cell_type": "code",
   "execution_count": 80,
   "id": "fa2165e6",
   "metadata": {},
   "outputs": [],
   "source": [
    "df.loc[(df['Flight Distance']>2409.5) , 'Flight Distance']= df['Flight Distance'].median()\n",
    "df.loc[(df['Flight Distance']<-1583.5) , 'Flight Distance']= df['Flight Distance'].median()\n"
   ]
  },
  {
   "cell_type": "code",
   "execution_count": 81,
   "id": "56c6e20c",
   "metadata": {
    "scrolled": true
   },
   "outputs": [
    {
     "data": {
      "text/plain": [
       "<AxesSubplot:>"
      ]
     },
     "execution_count": 81,
     "metadata": {},
     "output_type": "execute_result"
    },
    {
     "data": {
      "image/png": "[encoded data removed]",
      "text/plain": [
       "<Figure size 432x288 with 1 Axes>"
      ]
     },
     "metadata": {
      "needs_background": "light"
     },
     "output_type": "display_data"
    }
   ],
   "source": [
    "df['Flight Distance'].plot.box()"
   ]
  },
  {
   "cell_type": "code",
   "execution_count": null,
   "id": "fd338292",
   "metadata": {},
   "outputs": [],
   "source": []
  },
  {
   "cell_type": "code",
   "execution_count": 82,
   "id": "76e534e3",
   "metadata": {},
   "outputs": [],
   "source": [
    "Q1 = np.percentile(df['Departure Delay in Minutes'], 25,\n",
    "                   interpolation = 'midpoint')\n",
    " \n",
    "Q3 = np.percentile(df['Departure Delay in Minutes'], 75,\n",
    "                   interpolation = 'midpoint')\n",
    "IQR = Q3 - Q1"
   ]
  },
  {
   "cell_type": "code",
   "execution_count": 83,
   "id": "37c3c005",
   "metadata": {
    "scrolled": true
   },
   "outputs": [
    {
     "data": {
      "text/plain": [
       "12.0"
      ]
     },
     "execution_count": 83,
     "metadata": {},
     "output_type": "execute_result"
    }
   ],
   "source": [
    "IQR"
   ]
  },
  {
   "cell_type": "code",
   "execution_count": 84,
   "id": "78774016",
   "metadata": {},
   "outputs": [],
   "source": [
    "upper = Q3 + 1.5*IQR\n",
    "\n",
    "lower = Q1 - 1.5*IQR"
   ]
  },
  {
   "cell_type": "code",
   "execution_count": 85,
   "id": "30154810",
   "metadata": {
    "scrolled": true
   },
   "outputs": [
    {
     "name": "stdout",
     "output_type": "stream",
     "text": [
      "30.0 -18.0\n"
     ]
    }
   ],
   "source": [
    "print(upper , lower)"
   ]
  },
  {
   "cell_type": "code",
   "execution_count": 88,
   "id": "b0f43c65",
   "metadata": {},
   "outputs": [],
   "source": [
    "df.loc[(df['Departure Delay in Minutes']>30.8) , 'Departure Delay in Minutes']= df['Departure Delay in Minutes'].median()\n",
    "df.loc[(df['Departure Delay in Minutes']<-18) , 'Departure Delay in Minutes']= df['Departure Delay in Minutes'].median()\n"
   ]
  },
  {
   "cell_type": "code",
   "execution_count": 89,
   "id": "654b89c1",
   "metadata": {
    "scrolled": true
   },
   "outputs": [
    {
     "data": {
      "text/plain": [
       "<AxesSubplot:>"
      ]
     },
     "execution_count": 89,
     "metadata": {},
     "output_type": "execute_result"
    },
    {
     "data": {
      "image/png": "[encoded data removed]",
      "text/plain": [
       "<Figure size 432x288 with 1 Axes>"
      ]
     },
     "metadata": {
      "needs_background": "light"
     },
     "output_type": "display_data"
    }
   ],
   "source": [
    "df['Departure Delay in Minutes'].plot.box()"
   ]
  },
  {
   "cell_type": "code",
   "execution_count": 90,
   "id": "f6204440",
   "metadata": {},
   "outputs": [
    {
     "data": {
      "text/plain": [
       "count    83123.000000\n",
       "mean         3.206405\n",
       "std          6.685648\n",
       "min          0.000000\n",
       "25%          0.000000\n",
       "50%          0.000000\n",
       "75%          2.000000\n",
       "max         30.000000\n",
       "Name: Departure Delay in Minutes, dtype: float64"
      ]
     },
     "execution_count": 90,
     "metadata": {},
     "output_type": "execute_result"
    }
   ],
   "source": [
    "df['Departure Delay in Minutes'].describe()"
   ]
  },
  {
   "cell_type": "code",
   "execution_count": null,
   "id": "459d4858",
   "metadata": {},
   "outputs": [],
   "source": []
  },
  {
   "cell_type": "code",
   "execution_count": 91,
   "id": "d635f99e",
   "metadata": {},
   "outputs": [],
   "source": [
    "Q1 = np.percentile(df['Arrival Delay in Minutes'], 25,\n",
    "                   interpolation = 'midpoint')\n",
    " \n",
    "Q3 = np.percentile(df['Arrival Delay in Minutes'], 75,\n",
    "                   interpolation = 'midpoint')\n",
    "IQR = Q3 - Q1"
   ]
  },
  {
   "cell_type": "code",
   "execution_count": 92,
   "id": "8e32704f",
   "metadata": {
    "scrolled": true
   },
   "outputs": [
    {
     "data": {
      "text/plain": [
       "13.0"
      ]
     },
     "execution_count": 92,
     "metadata": {},
     "output_type": "execute_result"
    }
   ],
   "source": [
    "IQR"
   ]
  },
  {
   "cell_type": "code",
   "execution_count": 93,
   "id": "55853792",
   "metadata": {},
   "outputs": [],
   "source": [
    "upper = Q3 + 1.5*IQR\n",
    "\n",
    "lower = Q1 - 1.5*IQR"
   ]
  },
  {
   "cell_type": "code",
   "execution_count": 94,
   "id": "c1b38048",
   "metadata": {
    "scrolled": true
   },
   "outputs": [
    {
     "name": "stdout",
     "output_type": "stream",
     "text": [
      "32.5 -19.5\n"
     ]
    }
   ],
   "source": [
    "print(upper , lower)"
   ]
  },
  {
   "cell_type": "code",
   "execution_count": 96,
   "id": "f63cf067",
   "metadata": {},
   "outputs": [],
   "source": [
    "df.loc[(df['Arrival Delay in Minutes']>32.5) , 'Arrival Delay in Minutes']= df['Arrival Delay in Minutes'].median()\n",
    "df.loc[(df['Arrival Delay in Minutes']<-18) , 'Arrival Delay in Minutes']= df['Arrival Delay in Minutes'].median()\n"
   ]
  },
  {
   "cell_type": "code",
   "execution_count": 97,
   "id": "c1524b3b",
   "metadata": {
    "scrolled": true
   },
   "outputs": [
    {
     "data": {
      "text/plain": [
       "<AxesSubplot:>"
      ]
     },
     "execution_count": 97,
     "metadata": {},
     "output_type": "execute_result"
    },
    {
     "data": {
      "image/png": "[encoded data removed]",
      "text/plain": [
       "<Figure size 432x288 with 1 Axes>"
      ]
     },
     "metadata": {
      "needs_background": "light"
     },
     "output_type": "display_data"
    }
   ],
   "source": [
    "df['Arrival Delay in Minutes'].plot.box()"
   ]
  },
  {
   "cell_type": "code",
   "execution_count": 98,
   "id": "e3bb3c03",
   "metadata": {
    "scrolled": false
   },
   "outputs": [
    {
     "data": {
      "text/plain": [
       "count    83123.000000\n",
       "mean         3.326227\n",
       "std          6.769968\n",
       "min          0.000000\n",
       "25%          0.000000\n",
       "50%          0.000000\n",
       "75%          3.000000\n",
       "max         30.000000\n",
       "Name: Arrival Delay in Minutes, dtype: float64"
      ]
     },
     "execution_count": 98,
     "metadata": {},
     "output_type": "execute_result"
    }
   ],
   "source": [
    "df['Arrival Delay in Minutes'].describe()"
   ]
  },
  {
   "cell_type": "code",
   "execution_count": 99,
   "id": "ab8661e8",
   "metadata": {},
   "outputs": [
    {
     "data": {
      "text/plain": [
       "['Gender', 'Customer Type', 'Type of Travel', 'Class']"
      ]
     },
     "execution_count": 99,
     "metadata": {},
     "output_type": "execute_result"
    }
   ],
   "source": [
    "cat_cols"
   ]
  },
  {
   "cell_type": "code",
   "execution_count": 102,
   "id": "eeeb51f7",
   "metadata": {},
   "outputs": [],
   "source": [
    "df=pd.get_dummies(df,columns=cat_cols,drop_first=True)"
   ]
  },
  {
   "cell_type": "code",
   "execution_count": 104,
   "id": "7488345d",
   "metadata": {
    "scrolled": true
   },
   "outputs": [
    {
     "data": {
      "text/html": [
       "<div>\n",
       "<style scoped>\n",
       "    .dataframe tbody tr th:only-of-type {\n",
       "        vertical-align: middle;\n",
       "    }\n",
       "\n",
       "    .dataframe tbody tr th {\n",
       "        vertical-align: top;\n",
       "    }\n",
       "\n",
       "    .dataframe thead th {\n",
       "        text-align: right;\n",
       "    }\n",
       "</style>\n",
       "<table border=\"1\" class=\"dataframe\">\n",
       "  <thead>\n",
       "    <tr style=\"text-align: right;\">\n",
       "      <th></th>\n",
       "      <th>Age</th>\n",
       "      <th>Flight Distance</th>\n",
       "      <th>Inflight wifi service</th>\n",
       "      <th>Departure/Arrival time convenient</th>\n",
       "      <th>Ease of Online booking</th>\n",
       "      <th>Gate location</th>\n",
       "      <th>Food and drink</th>\n",
       "      <th>Online boarding</th>\n",
       "      <th>Seat comfort</th>\n",
       "      <th>Inflight entertainment</th>\n",
       "      <th>...</th>\n",
       "      <th>Inflight service</th>\n",
       "      <th>Cleanliness</th>\n",
       "      <th>Departure Delay in Minutes</th>\n",
       "      <th>Arrival Delay in Minutes</th>\n",
       "      <th>satisfaction</th>\n",
       "      <th>Gender_Male</th>\n",
       "      <th>Customer Type_disloyal Customer</th>\n",
       "      <th>Type of Travel_Personal Travel</th>\n",
       "      <th>Class_Eco</th>\n",
       "      <th>Class_Eco Plus</th>\n",
       "    </tr>\n",
       "  </thead>\n",
       "  <tbody>\n",
       "    <tr>\n",
       "      <th>0</th>\n",
       "      <td>30</td>\n",
       "      <td>193</td>\n",
       "      <td>3</td>\n",
       "      <td>4</td>\n",
       "      <td>0</td>\n",
       "      <td>3</td>\n",
       "      <td>5</td>\n",
       "      <td>0</td>\n",
       "      <td>5</td>\n",
       "      <td>5</td>\n",
       "      <td>...</td>\n",
       "      <td>4</td>\n",
       "      <td>5</td>\n",
       "      <td>0</td>\n",
       "      <td>0.0</td>\n",
       "      <td>neutral or dissatisfied</td>\n",
       "      <td>0</td>\n",
       "      <td>0</td>\n",
       "      <td>1</td>\n",
       "      <td>1</td>\n",
       "      <td>0</td>\n",
       "    </tr>\n",
       "    <tr>\n",
       "      <th>1</th>\n",
       "      <td>51</td>\n",
       "      <td>925</td>\n",
       "      <td>2</td>\n",
       "      <td>1</td>\n",
       "      <td>1</td>\n",
       "      <td>1</td>\n",
       "      <td>5</td>\n",
       "      <td>3</td>\n",
       "      <td>2</td>\n",
       "      <td>2</td>\n",
       "      <td>...</td>\n",
       "      <td>2</td>\n",
       "      <td>3</td>\n",
       "      <td>0</td>\n",
       "      <td>29.0</td>\n",
       "      <td>neutral or dissatisfied</td>\n",
       "      <td>0</td>\n",
       "      <td>0</td>\n",
       "      <td>0</td>\n",
       "      <td>1</td>\n",
       "      <td>0</td>\n",
       "    </tr>\n",
       "    <tr>\n",
       "      <th>2</th>\n",
       "      <td>27</td>\n",
       "      <td>505</td>\n",
       "      <td>0</td>\n",
       "      <td>0</td>\n",
       "      <td>0</td>\n",
       "      <td>4</td>\n",
       "      <td>1</td>\n",
       "      <td>0</td>\n",
       "      <td>1</td>\n",
       "      <td>1</td>\n",
       "      <td>...</td>\n",
       "      <td>2</td>\n",
       "      <td>1</td>\n",
       "      <td>0</td>\n",
       "      <td>0.0</td>\n",
       "      <td>satisfied</td>\n",
       "      <td>1</td>\n",
       "      <td>1</td>\n",
       "      <td>0</td>\n",
       "      <td>1</td>\n",
       "      <td>0</td>\n",
       "    </tr>\n",
       "    <tr>\n",
       "      <th>3</th>\n",
       "      <td>52</td>\n",
       "      <td>844</td>\n",
       "      <td>2</td>\n",
       "      <td>2</td>\n",
       "      <td>2</td>\n",
       "      <td>2</td>\n",
       "      <td>3</td>\n",
       "      <td>4</td>\n",
       "      <td>5</td>\n",
       "      <td>5</td>\n",
       "      <td>...</td>\n",
       "      <td>5</td>\n",
       "      <td>5</td>\n",
       "      <td>10</td>\n",
       "      <td>2.0</td>\n",
       "      <td>satisfied</td>\n",
       "      <td>0</td>\n",
       "      <td>0</td>\n",
       "      <td>0</td>\n",
       "      <td>0</td>\n",
       "      <td>0</td>\n",
       "    </tr>\n",
       "    <tr>\n",
       "      <th>4</th>\n",
       "      <td>15</td>\n",
       "      <td>1352</td>\n",
       "      <td>4</td>\n",
       "      <td>4</td>\n",
       "      <td>4</td>\n",
       "      <td>2</td>\n",
       "      <td>2</td>\n",
       "      <td>4</td>\n",
       "      <td>2</td>\n",
       "      <td>2</td>\n",
       "      <td>...</td>\n",
       "      <td>5</td>\n",
       "      <td>2</td>\n",
       "      <td>0</td>\n",
       "      <td>0.0</td>\n",
       "      <td>satisfied</td>\n",
       "      <td>0</td>\n",
       "      <td>1</td>\n",
       "      <td>0</td>\n",
       "      <td>1</td>\n",
       "      <td>0</td>\n",
       "    </tr>\n",
       "  </tbody>\n",
       "</table>\n",
       "<p>5 rows × 24 columns</p>\n",
       "</div>"
      ],
      "text/plain": [
       "   Age  Flight Distance  Inflight wifi service  \\\n",
       "0   30              193                      3   \n",
       "1   51              925                      2   \n",
       "2   27              505                      0   \n",
       "3   52              844                      2   \n",
       "4   15             1352                      4   \n",
       "\n",
       "   Departure/Arrival time convenient  Ease of Online booking  Gate location  \\\n",
       "0                                  4                       0              3   \n",
       "1                                  1                       1              1   \n",
       "2                                  0                       0              4   \n",
       "3                                  2                       2              2   \n",
       "4                                  4                       4              2   \n",
       "\n",
       "   Food and drink  Online boarding  Seat comfort  Inflight entertainment  ...  \\\n",
       "0               5                0             5                       5  ...   \n",
       "1               5                3             2                       2  ...   \n",
       "2               1                0             1                       1  ...   \n",
       "3               3                4             5                       5  ...   \n",
       "4               2                4             2                       2  ...   \n",
       "\n",
       "   Inflight service  Cleanliness  Departure Delay in Minutes  \\\n",
       "0                 4            5                           0   \n",
       "1                 2            3                           0   \n",
       "2                 2            1                           0   \n",
       "3                 5            5                          10   \n",
       "4                 5            2                           0   \n",
       "\n",
       "   Arrival Delay in Minutes             satisfaction  Gender_Male  \\\n",
       "0                       0.0  neutral or dissatisfied            0   \n",
       "1                      29.0  neutral or dissatisfied            0   \n",
       "2                       0.0                satisfied            1   \n",
       "3                       2.0                satisfied            0   \n",
       "4                       0.0                satisfied            0   \n",
       "\n",
       "   Customer Type_disloyal Customer  Type of Travel_Personal Travel Class_Eco  \\\n",
       "0                                0                               1         1   \n",
       "1                                0                               0         1   \n",
       "2                                1                               0         1   \n",
       "3                                0                               0         0   \n",
       "4                                1                               0         1   \n",
       "\n",
       "   Class_Eco Plus  \n",
       "0               0  \n",
       "1               0  \n",
       "2               0  \n",
       "3               0  \n",
       "4               0  \n",
       "\n",
       "[5 rows x 24 columns]"
      ]
     },
     "execution_count": 104,
     "metadata": {},
     "output_type": "execute_result"
    }
   ],
   "source": [
    "df.head()"
   ]
  },
  {
   "cell_type": "code",
   "execution_count": 105,
   "id": "0ffffcc1",
   "metadata": {},
   "outputs": [
    {
     "data": {
      "text/html": [
       "<div>\n",
       "<style scoped>\n",
       "    .dataframe tbody tr th:only-of-type {\n",
       "        vertical-align: middle;\n",
       "    }\n",
       "\n",
       "    .dataframe tbody tr th {\n",
       "        vertical-align: top;\n",
       "    }\n",
       "\n",
       "    .dataframe thead th {\n",
       "        text-align: right;\n",
       "    }\n",
       "</style>\n",
       "<table border=\"1\" class=\"dataframe\">\n",
       "  <thead>\n",
       "    <tr style=\"text-align: right;\">\n",
       "      <th></th>\n",
       "      <th>Age</th>\n",
       "      <th>Flight Distance</th>\n",
       "      <th>Inflight wifi service</th>\n",
       "      <th>Departure/Arrival time convenient</th>\n",
       "      <th>Ease of Online booking</th>\n",
       "      <th>Gate location</th>\n",
       "      <th>Food and drink</th>\n",
       "      <th>Online boarding</th>\n",
       "      <th>Seat comfort</th>\n",
       "      <th>Inflight entertainment</th>\n",
       "      <th>...</th>\n",
       "      <th>Checkin service</th>\n",
       "      <th>Inflight service</th>\n",
       "      <th>Cleanliness</th>\n",
       "      <th>Departure Delay in Minutes</th>\n",
       "      <th>Arrival Delay in Minutes</th>\n",
       "      <th>Gender_Male</th>\n",
       "      <th>Customer Type_disloyal Customer</th>\n",
       "      <th>Type of Travel_Personal Travel</th>\n",
       "      <th>Class_Eco</th>\n",
       "      <th>Class_Eco Plus</th>\n",
       "    </tr>\n",
       "  </thead>\n",
       "  <tbody>\n",
       "    <tr>\n",
       "      <th>0</th>\n",
       "      <td>30</td>\n",
       "      <td>193</td>\n",
       "      <td>3</td>\n",
       "      <td>4</td>\n",
       "      <td>0</td>\n",
       "      <td>3</td>\n",
       "      <td>5</td>\n",
       "      <td>0</td>\n",
       "      <td>5</td>\n",
       "      <td>5</td>\n",
       "      <td>...</td>\n",
       "      <td>4</td>\n",
       "      <td>4</td>\n",
       "      <td>5</td>\n",
       "      <td>0</td>\n",
       "      <td>0.0</td>\n",
       "      <td>0</td>\n",
       "      <td>0</td>\n",
       "      <td>1</td>\n",
       "      <td>1</td>\n",
       "      <td>0</td>\n",
       "    </tr>\n",
       "    <tr>\n",
       "      <th>1</th>\n",
       "      <td>51</td>\n",
       "      <td>925</td>\n",
       "      <td>2</td>\n",
       "      <td>1</td>\n",
       "      <td>1</td>\n",
       "      <td>1</td>\n",
       "      <td>5</td>\n",
       "      <td>3</td>\n",
       "      <td>2</td>\n",
       "      <td>2</td>\n",
       "      <td>...</td>\n",
       "      <td>3</td>\n",
       "      <td>2</td>\n",
       "      <td>3</td>\n",
       "      <td>0</td>\n",
       "      <td>29.0</td>\n",
       "      <td>0</td>\n",
       "      <td>0</td>\n",
       "      <td>0</td>\n",
       "      <td>1</td>\n",
       "      <td>0</td>\n",
       "    </tr>\n",
       "    <tr>\n",
       "      <th>2</th>\n",
       "      <td>27</td>\n",
       "      <td>505</td>\n",
       "      <td>0</td>\n",
       "      <td>0</td>\n",
       "      <td>0</td>\n",
       "      <td>4</td>\n",
       "      <td>1</td>\n",
       "      <td>0</td>\n",
       "      <td>1</td>\n",
       "      <td>1</td>\n",
       "      <td>...</td>\n",
       "      <td>3</td>\n",
       "      <td>2</td>\n",
       "      <td>1</td>\n",
       "      <td>0</td>\n",
       "      <td>0.0</td>\n",
       "      <td>1</td>\n",
       "      <td>1</td>\n",
       "      <td>0</td>\n",
       "      <td>1</td>\n",
       "      <td>0</td>\n",
       "    </tr>\n",
       "    <tr>\n",
       "      <th>3</th>\n",
       "      <td>52</td>\n",
       "      <td>844</td>\n",
       "      <td>2</td>\n",
       "      <td>2</td>\n",
       "      <td>2</td>\n",
       "      <td>2</td>\n",
       "      <td>3</td>\n",
       "      <td>4</td>\n",
       "      <td>5</td>\n",
       "      <td>5</td>\n",
       "      <td>...</td>\n",
       "      <td>4</td>\n",
       "      <td>5</td>\n",
       "      <td>5</td>\n",
       "      <td>10</td>\n",
       "      <td>2.0</td>\n",
       "      <td>0</td>\n",
       "      <td>0</td>\n",
       "      <td>0</td>\n",
       "      <td>0</td>\n",
       "      <td>0</td>\n",
       "    </tr>\n",
       "    <tr>\n",
       "      <th>4</th>\n",
       "      <td>15</td>\n",
       "      <td>1352</td>\n",
       "      <td>4</td>\n",
       "      <td>4</td>\n",
       "      <td>4</td>\n",
       "      <td>2</td>\n",
       "      <td>2</td>\n",
       "      <td>4</td>\n",
       "      <td>2</td>\n",
       "      <td>2</td>\n",
       "      <td>...</td>\n",
       "      <td>3</td>\n",
       "      <td>5</td>\n",
       "      <td>2</td>\n",
       "      <td>0</td>\n",
       "      <td>0.0</td>\n",
       "      <td>0</td>\n",
       "      <td>1</td>\n",
       "      <td>0</td>\n",
       "      <td>1</td>\n",
       "      <td>0</td>\n",
       "    </tr>\n",
       "  </tbody>\n",
       "</table>\n",
       "<p>5 rows × 23 columns</p>\n",
       "</div>"
      ],
      "text/plain": [
       "   Age  Flight Distance  Inflight wifi service  \\\n",
       "0   30              193                      3   \n",
       "1   51              925                      2   \n",
       "2   27              505                      0   \n",
       "3   52              844                      2   \n",
       "4   15             1352                      4   \n",
       "\n",
       "   Departure/Arrival time convenient  Ease of Online booking  Gate location  \\\n",
       "0                                  4                       0              3   \n",
       "1                                  1                       1              1   \n",
       "2                                  0                       0              4   \n",
       "3                                  2                       2              2   \n",
       "4                                  4                       4              2   \n",
       "\n",
       "   Food and drink  Online boarding  Seat comfort  Inflight entertainment  ...  \\\n",
       "0               5                0             5                       5  ...   \n",
       "1               5                3             2                       2  ...   \n",
       "2               1                0             1                       1  ...   \n",
       "3               3                4             5                       5  ...   \n",
       "4               2                4             2                       2  ...   \n",
       "\n",
       "   Checkin service  Inflight service  Cleanliness  Departure Delay in Minutes  \\\n",
       "0                4                 4            5                           0   \n",
       "1                3                 2            3                           0   \n",
       "2                3                 2            1                           0   \n",
       "3                4                 5            5                          10   \n",
       "4                3                 5            2                           0   \n",
       "\n",
       "   Arrival Delay in Minutes  Gender_Male  Customer Type_disloyal Customer  \\\n",
       "0                       0.0            0                                0   \n",
       "1                      29.0            0                                0   \n",
       "2                       0.0            1                                1   \n",
       "3                       2.0            0                                0   \n",
       "4                       0.0            0                                1   \n",
       "\n",
       "   Type of Travel_Personal Travel  Class_Eco  Class_Eco Plus  \n",
       "0                               1          1               0  \n",
       "1                               0          1               0  \n",
       "2                               0          1               0  \n",
       "3                               0          0               0  \n",
       "4                               0          1               0  \n",
       "\n",
       "[5 rows x 23 columns]"
      ]
     },
     "execution_count": 105,
     "metadata": {},
     "output_type": "execute_result"
    }
   ],
   "source": [
    "X=df.loc[:,df.columns!='satisfaction']\n",
    "X.head()"
   ]
  },
  {
   "cell_type": "code",
   "execution_count": 106,
   "id": "1cd90107",
   "metadata": {
    "scrolled": true
   },
   "outputs": [
    {
     "data": {
      "text/html": [
       "<div>\n",
       "<style scoped>\n",
       "    .dataframe tbody tr th:only-of-type {\n",
       "        vertical-align: middle;\n",
       "    }\n",
       "\n",
       "    .dataframe tbody tr th {\n",
       "        vertical-align: top;\n",
       "    }\n",
       "\n",
       "    .dataframe thead th {\n",
       "        text-align: right;\n",
       "    }\n",
       "</style>\n",
       "<table border=\"1\" class=\"dataframe\">\n",
       "  <thead>\n",
       "    <tr style=\"text-align: right;\">\n",
       "      <th></th>\n",
       "      <th>satisfaction</th>\n",
       "    </tr>\n",
       "  </thead>\n",
       "  <tbody>\n",
       "    <tr>\n",
       "      <th>0</th>\n",
       "      <td>neutral or dissatisfied</td>\n",
       "    </tr>\n",
       "    <tr>\n",
       "      <th>1</th>\n",
       "      <td>neutral or dissatisfied</td>\n",
       "    </tr>\n",
       "    <tr>\n",
       "      <th>2</th>\n",
       "      <td>satisfied</td>\n",
       "    </tr>\n",
       "    <tr>\n",
       "      <th>3</th>\n",
       "      <td>satisfied</td>\n",
       "    </tr>\n",
       "    <tr>\n",
       "      <th>4</th>\n",
       "      <td>satisfied</td>\n",
       "    </tr>\n",
       "  </tbody>\n",
       "</table>\n",
       "</div>"
      ],
      "text/plain": [
       "              satisfaction\n",
       "0  neutral or dissatisfied\n",
       "1  neutral or dissatisfied\n",
       "2                satisfied\n",
       "3                satisfied\n",
       "4                satisfied"
      ]
     },
     "execution_count": 106,
     "metadata": {},
     "output_type": "execute_result"
    }
   ],
   "source": [
    "y=df.loc[:,df.columns=='satisfaction']\n",
    "y.head()"
   ]
  },
  {
   "cell_type": "code",
   "execution_count": 162,
   "id": "f69d1e4a",
   "metadata": {},
   "outputs": [],
   "source": [
    "from sklearn.model_selection import train_test_split\n",
    "X_train, X_test, y_train, y_test = train_test_split(X, y, test_size=0.35, random_state=42)"
   ]
  },
  {
   "cell_type": "code",
   "execution_count": 163,
   "id": "ae458bf6",
   "metadata": {
    "scrolled": true
   },
   "outputs": [
    {
     "data": {
      "text/plain": [
       "((54029, 23), (54029, 1))"
      ]
     },
     "execution_count": 163,
     "metadata": {},
     "output_type": "execute_result"
    }
   ],
   "source": [
    "X_train.shape , y_train.shape"
   ]
  },
  {
   "cell_type": "code",
   "execution_count": 164,
   "id": "d2e0855d",
   "metadata": {
    "scrolled": true
   },
   "outputs": [
    {
     "data": {
      "text/plain": [
       "((29094, 23), (29094, 1))"
      ]
     },
     "execution_count": 164,
     "metadata": {},
     "output_type": "execute_result"
    }
   ],
   "source": [
    "X_test.shape , y_test.shape"
   ]
  },
  {
   "cell_type": "code",
   "execution_count": 165,
   "id": "61ff0347",
   "metadata": {},
   "outputs": [],
   "source": [
    "from sklearn.tree import DecisionTreeClassifier\n"
   ]
  },
  {
   "cell_type": "code",
   "execution_count": 166,
   "id": "1088738c",
   "metadata": {},
   "outputs": [
    {
     "data": {
      "text/plain": [
       "DecisionTreeClassifier(random_state=42)"
      ]
     },
     "execution_count": 166,
     "metadata": {},
     "output_type": "execute_result"
    }
   ],
   "source": [
    "dtc1=DecisionTreeClassifier(random_state=42)\n",
    "dtc1"
   ]
  },
  {
   "cell_type": "code",
   "execution_count": 167,
   "id": "6fecc4b9",
   "metadata": {},
   "outputs": [
    {
     "data": {
      "text/plain": [
       "DecisionTreeClassifier(random_state=42)"
      ]
     },
     "execution_count": 167,
     "metadata": {},
     "output_type": "execute_result"
    }
   ],
   "source": [
    "dtc1.fit(X_train,y_train)"
   ]
  },
  {
   "cell_type": "code",
   "execution_count": 168,
   "id": "8d9daa22",
   "metadata": {},
   "outputs": [],
   "source": [
    "y_pred_test=dtc1.predict(X_test)\n",
    "y_pred_train=dtc1.predict(X_train)"
   ]
  },
  {
   "cell_type": "code",
   "execution_count": 169,
   "id": "629e2430",
   "metadata": {},
   "outputs": [
    {
     "name": "stdout",
     "output_type": "stream",
     "text": [
      "1.0\n",
      "0.9430466762906441\n"
     ]
    }
   ],
   "source": [
    "from sklearn.metrics import accuracy_score , confusion_matrix\n",
    "print(accuracy_score(y_train,y_pred_train))\n",
    "print(accuracy_score(y_test,y_pred_test))"
   ]
  },
  {
   "cell_type": "code",
   "execution_count": null,
   "id": "49861a76",
   "metadata": {},
   "outputs": [],
   "source": []
  },
  {
   "cell_type": "code",
   "execution_count": 170,
   "id": "0f4dc8ef",
   "metadata": {},
   "outputs": [],
   "source": [
    "from sklearn.model_selection import train_test_split\n",
    "X_train, X_test, y_train, y_test = train_test_split(X, y, test_size=0.25, random_state=32)"
   ]
  },
  {
   "cell_type": "code",
   "execution_count": 171,
   "id": "73ebd171",
   "metadata": {
    "scrolled": true
   },
   "outputs": [
    {
     "data": {
      "text/plain": [
       "((62342, 23), (62342, 1))"
      ]
     },
     "execution_count": 171,
     "metadata": {},
     "output_type": "execute_result"
    }
   ],
   "source": [
    "X_train.shape , y_train.shape"
   ]
  },
  {
   "cell_type": "code",
   "execution_count": 172,
   "id": "082f7184",
   "metadata": {
    "scrolled": true
   },
   "outputs": [
    {
     "data": {
      "text/plain": [
       "((20781, 23), (20781, 1))"
      ]
     },
     "execution_count": 172,
     "metadata": {},
     "output_type": "execute_result"
    }
   ],
   "source": [
    "X_test.shape , y_test.shape"
   ]
  },
  {
   "cell_type": "code",
   "execution_count": 173,
   "id": "d01a96f8",
   "metadata": {},
   "outputs": [],
   "source": [
    "from sklearn.tree import DecisionTreeClassifier\n"
   ]
  },
  {
   "cell_type": "code",
   "execution_count": 174,
   "id": "6abeb432",
   "metadata": {},
   "outputs": [
    {
     "data": {
      "text/plain": [
       "DecisionTreeClassifier(random_state=32)"
      ]
     },
     "execution_count": 174,
     "metadata": {},
     "output_type": "execute_result"
    }
   ],
   "source": [
    "dtc1=DecisionTreeClassifier(random_state=32)\n",
    "dtc1"
   ]
  },
  {
   "cell_type": "code",
   "execution_count": 175,
   "id": "57d6b9df",
   "metadata": {},
   "outputs": [
    {
     "data": {
      "text/plain": [
       "DecisionTreeClassifier(random_state=32)"
      ]
     },
     "execution_count": 175,
     "metadata": {},
     "output_type": "execute_result"
    }
   ],
   "source": [
    "dtc1.fit(X_train,y_train)"
   ]
  },
  {
   "cell_type": "code",
   "execution_count": 176,
   "id": "19836d12",
   "metadata": {},
   "outputs": [],
   "source": [
    "y_pred_test=dtc1.predict(X_test)\n",
    "y_pred_train=dtc1.predict(X_train)"
   ]
  },
  {
   "cell_type": "code",
   "execution_count": 177,
   "id": "516ebc39",
   "metadata": {},
   "outputs": [
    {
     "name": "stdout",
     "output_type": "stream",
     "text": [
      "1.0\n",
      "0.9450940763197151\n"
     ]
    }
   ],
   "source": [
    "from sklearn.metrics import accuracy_score , confusion_matrix\n",
    "print(accuracy_score(y_train,y_pred_train))\n",
    "print(accuracy_score(y_test,y_pred_test))"
   ]
  },
  {
   "cell_type": "code",
   "execution_count": 291,
   "id": "8506313e",
   "metadata": {},
   "outputs": [
    {
     "data": {
      "text/plain": [
       "(20781, 23)"
      ]
     },
     "execution_count": 291,
     "metadata": {},
     "output_type": "execute_result"
    }
   ],
   "source": [
    "df2 = pd.read_csv(r\"C:\\Users\\abhin\\machine learning\\term 5 project\\Flight customer satisfaction\\Flight-Passengers-Satisfaction-Prediction\\cust_test.csv\")\n",
    "df2.shape"
   ]
  },
  {
   "cell_type": "code",
   "execution_count": 294,
   "id": "c0594986",
   "metadata": {
    "scrolled": true
   },
   "outputs": [
    {
     "data": {
      "text/plain": [
       "Arrival Delay in Minutes             59\n",
       "Online boarding                       0\n",
       "Departure Delay in Minutes            0\n",
       "Cleanliness                           0\n",
       "Inflight service                      0\n",
       "Checkin service                       0\n",
       "Baggage handling                      0\n",
       "Leg room service                      0\n",
       "On-board service                      0\n",
       "Inflight entertainment                0\n",
       "Seat comfort                          0\n",
       "id                                    0\n",
       "Gender                                0\n",
       "Gate location                         0\n",
       "Ease of Online booking                0\n",
       "Departure/Arrival time convenient     0\n",
       "Inflight wifi service                 0\n",
       "Flight Distance                       0\n",
       "Class                                 0\n",
       "Type of Travel                        0\n",
       "Age                                   0\n",
       "Customer Type                         0\n",
       "Food and drink                        0\n",
       "dtype: int64"
      ]
     },
     "execution_count": 294,
     "metadata": {},
     "output_type": "execute_result"
    }
   ],
   "source": [
    "df2.isnull().sum().sort_values(ascending=False)"
   ]
  },
  {
   "cell_type": "code",
   "execution_count": 296,
   "id": "7ebfecac",
   "metadata": {},
   "outputs": [],
   "source": [
    "df2['Arrival Delay in Minutes']=df2['Arrival Delay in Minutes'].fillna(df2['Arrival Delay in Minutes'].median())"
   ]
  },
  {
   "cell_type": "code",
   "execution_count": 297,
   "id": "e8953cf0",
   "metadata": {},
   "outputs": [],
   "source": [
    "df2.drop('id',axis=1,inplace=True)"
   ]
  },
  {
   "cell_type": "code",
   "execution_count": 298,
   "id": "4958864a",
   "metadata": {
    "scrolled": true
   },
   "outputs": [
    {
     "data": {
      "text/html": [
       "<div>\n",
       "<style scoped>\n",
       "    .dataframe tbody tr th:only-of-type {\n",
       "        vertical-align: middle;\n",
       "    }\n",
       "\n",
       "    .dataframe tbody tr th {\n",
       "        vertical-align: top;\n",
       "    }\n",
       "\n",
       "    .dataframe thead th {\n",
       "        text-align: right;\n",
       "    }\n",
       "</style>\n",
       "<table border=\"1\" class=\"dataframe\">\n",
       "  <thead>\n",
       "    <tr style=\"text-align: right;\">\n",
       "      <th></th>\n",
       "      <th>Gender</th>\n",
       "      <th>Customer Type</th>\n",
       "      <th>Age</th>\n",
       "      <th>Type of Travel</th>\n",
       "      <th>Class</th>\n",
       "      <th>Flight Distance</th>\n",
       "      <th>Inflight wifi service</th>\n",
       "      <th>Departure/Arrival time convenient</th>\n",
       "      <th>Ease of Online booking</th>\n",
       "      <th>Gate location</th>\n",
       "      <th>...</th>\n",
       "      <th>Seat comfort</th>\n",
       "      <th>Inflight entertainment</th>\n",
       "      <th>On-board service</th>\n",
       "      <th>Leg room service</th>\n",
       "      <th>Baggage handling</th>\n",
       "      <th>Checkin service</th>\n",
       "      <th>Inflight service</th>\n",
       "      <th>Cleanliness</th>\n",
       "      <th>Departure Delay in Minutes</th>\n",
       "      <th>Arrival Delay in Minutes</th>\n",
       "    </tr>\n",
       "  </thead>\n",
       "  <tbody>\n",
       "    <tr>\n",
       "      <th>0</th>\n",
       "      <td>Male</td>\n",
       "      <td>Loyal Customer</td>\n",
       "      <td>41</td>\n",
       "      <td>Business travel</td>\n",
       "      <td>Eco</td>\n",
       "      <td>303</td>\n",
       "      <td>5</td>\n",
       "      <td>3</td>\n",
       "      <td>3</td>\n",
       "      <td>3</td>\n",
       "      <td>...</td>\n",
       "      <td>5</td>\n",
       "      <td>5</td>\n",
       "      <td>4</td>\n",
       "      <td>3</td>\n",
       "      <td>3</td>\n",
       "      <td>5</td>\n",
       "      <td>5</td>\n",
       "      <td>5</td>\n",
       "      <td>0</td>\n",
       "      <td>0.0</td>\n",
       "    </tr>\n",
       "    <tr>\n",
       "      <th>1</th>\n",
       "      <td>Female</td>\n",
       "      <td>Loyal Customer</td>\n",
       "      <td>18</td>\n",
       "      <td>Business travel</td>\n",
       "      <td>Business</td>\n",
       "      <td>391</td>\n",
       "      <td>1</td>\n",
       "      <td>5</td>\n",
       "      <td>5</td>\n",
       "      <td>5</td>\n",
       "      <td>...</td>\n",
       "      <td>1</td>\n",
       "      <td>1</td>\n",
       "      <td>4</td>\n",
       "      <td>3</td>\n",
       "      <td>3</td>\n",
       "      <td>1</td>\n",
       "      <td>4</td>\n",
       "      <td>1</td>\n",
       "      <td>17</td>\n",
       "      <td>17.0</td>\n",
       "    </tr>\n",
       "    <tr>\n",
       "      <th>2</th>\n",
       "      <td>Female</td>\n",
       "      <td>Loyal Customer</td>\n",
       "      <td>13</td>\n",
       "      <td>Personal Travel</td>\n",
       "      <td>Eco Plus</td>\n",
       "      <td>569</td>\n",
       "      <td>2</td>\n",
       "      <td>4</td>\n",
       "      <td>2</td>\n",
       "      <td>3</td>\n",
       "      <td>...</td>\n",
       "      <td>1</td>\n",
       "      <td>1</td>\n",
       "      <td>5</td>\n",
       "      <td>4</td>\n",
       "      <td>4</td>\n",
       "      <td>5</td>\n",
       "      <td>5</td>\n",
       "      <td>1</td>\n",
       "      <td>0</td>\n",
       "      <td>0.0</td>\n",
       "    </tr>\n",
       "    <tr>\n",
       "      <th>3</th>\n",
       "      <td>Male</td>\n",
       "      <td>disloyal Customer</td>\n",
       "      <td>23</td>\n",
       "      <td>Business travel</td>\n",
       "      <td>Eco</td>\n",
       "      <td>109</td>\n",
       "      <td>1</td>\n",
       "      <td>0</td>\n",
       "      <td>1</td>\n",
       "      <td>1</td>\n",
       "      <td>...</td>\n",
       "      <td>1</td>\n",
       "      <td>3</td>\n",
       "      <td>2</td>\n",
       "      <td>5</td>\n",
       "      <td>5</td>\n",
       "      <td>3</td>\n",
       "      <td>1</td>\n",
       "      <td>3</td>\n",
       "      <td>0</td>\n",
       "      <td>0.0</td>\n",
       "    </tr>\n",
       "    <tr>\n",
       "      <th>4</th>\n",
       "      <td>Male</td>\n",
       "      <td>Loyal Customer</td>\n",
       "      <td>23</td>\n",
       "      <td>Personal Travel</td>\n",
       "      <td>Business</td>\n",
       "      <td>83</td>\n",
       "      <td>4</td>\n",
       "      <td>5</td>\n",
       "      <td>0</td>\n",
       "      <td>3</td>\n",
       "      <td>...</td>\n",
       "      <td>5</td>\n",
       "      <td>5</td>\n",
       "      <td>3</td>\n",
       "      <td>5</td>\n",
       "      <td>4</td>\n",
       "      <td>3</td>\n",
       "      <td>5</td>\n",
       "      <td>5</td>\n",
       "      <td>0</td>\n",
       "      <td>0.0</td>\n",
       "    </tr>\n",
       "  </tbody>\n",
       "</table>\n",
       "<p>5 rows × 22 columns</p>\n",
       "</div>"
      ],
      "text/plain": [
       "   Gender      Customer Type  Age   Type of Travel     Class  Flight Distance  \\\n",
       "0    Male     Loyal Customer   41  Business travel       Eco              303   \n",
       "1  Female     Loyal Customer   18  Business travel  Business              391   \n",
       "2  Female     Loyal Customer   13  Personal Travel  Eco Plus              569   \n",
       "3    Male  disloyal Customer   23  Business travel       Eco              109   \n",
       "4    Male     Loyal Customer   23  Personal Travel  Business               83   \n",
       "\n",
       "   Inflight wifi service  Departure/Arrival time convenient  \\\n",
       "0                      5                                  3   \n",
       "1                      1                                  5   \n",
       "2                      2                                  4   \n",
       "3                      1                                  0   \n",
       "4                      4                                  5   \n",
       "\n",
       "   Ease of Online booking  Gate location  ...  Seat comfort  \\\n",
       "0                       3              3  ...             5   \n",
       "1                       5              5  ...             1   \n",
       "2                       2              3  ...             1   \n",
       "3                       1              1  ...             1   \n",
       "4                       0              3  ...             5   \n",
       "\n",
       "   Inflight entertainment  On-board service  Leg room service  \\\n",
       "0                       5                 4                 3   \n",
       "1                       1                 4                 3   \n",
       "2                       1                 5                 4   \n",
       "3                       3                 2                 5   \n",
       "4                       5                 3                 5   \n",
       "\n",
       "   Baggage handling  Checkin service  Inflight service  Cleanliness  \\\n",
       "0                 3                5                 5            5   \n",
       "1                 3                1                 4            1   \n",
       "2                 4                5                 5            1   \n",
       "3                 5                3                 1            3   \n",
       "4                 4                3                 5            5   \n",
       "\n",
       "   Departure Delay in Minutes  Arrival Delay in Minutes  \n",
       "0                           0                       0.0  \n",
       "1                          17                      17.0  \n",
       "2                           0                       0.0  \n",
       "3                           0                       0.0  \n",
       "4                           0                       0.0  \n",
       "\n",
       "[5 rows x 22 columns]"
      ]
     },
     "execution_count": 298,
     "metadata": {},
     "output_type": "execute_result"
    }
   ],
   "source": [
    "df2.head()"
   ]
  },
  {
   "cell_type": "code",
   "execution_count": 299,
   "id": "1c9e5691",
   "metadata": {},
   "outputs": [],
   "source": [
    "df2=pd.get_dummies(df2,columns=cat_cols,drop_first=True)"
   ]
  },
  {
   "cell_type": "code",
   "execution_count": 300,
   "id": "a2069d55",
   "metadata": {
    "scrolled": false
   },
   "outputs": [
    {
     "data": {
      "text/html": [
       "<div>\n",
       "<style scoped>\n",
       "    .dataframe tbody tr th:only-of-type {\n",
       "        vertical-align: middle;\n",
       "    }\n",
       "\n",
       "    .dataframe tbody tr th {\n",
       "        vertical-align: top;\n",
       "    }\n",
       "\n",
       "    .dataframe thead th {\n",
       "        text-align: right;\n",
       "    }\n",
       "</style>\n",
       "<table border=\"1\" class=\"dataframe\">\n",
       "  <thead>\n",
       "    <tr style=\"text-align: right;\">\n",
       "      <th></th>\n",
       "      <th>Age</th>\n",
       "      <th>Flight Distance</th>\n",
       "      <th>Inflight wifi service</th>\n",
       "      <th>Departure/Arrival time convenient</th>\n",
       "      <th>Ease of Online booking</th>\n",
       "      <th>Gate location</th>\n",
       "      <th>Food and drink</th>\n",
       "      <th>Online boarding</th>\n",
       "      <th>Seat comfort</th>\n",
       "      <th>Inflight entertainment</th>\n",
       "      <th>...</th>\n",
       "      <th>Checkin service</th>\n",
       "      <th>Inflight service</th>\n",
       "      <th>Cleanliness</th>\n",
       "      <th>Departure Delay in Minutes</th>\n",
       "      <th>Arrival Delay in Minutes</th>\n",
       "      <th>Gender_Male</th>\n",
       "      <th>Customer Type_disloyal Customer</th>\n",
       "      <th>Type of Travel_Personal Travel</th>\n",
       "      <th>Class_Eco</th>\n",
       "      <th>Class_Eco Plus</th>\n",
       "    </tr>\n",
       "  </thead>\n",
       "  <tbody>\n",
       "    <tr>\n",
       "      <th>0</th>\n",
       "      <td>41</td>\n",
       "      <td>303</td>\n",
       "      <td>5</td>\n",
       "      <td>3</td>\n",
       "      <td>3</td>\n",
       "      <td>3</td>\n",
       "      <td>5</td>\n",
       "      <td>5</td>\n",
       "      <td>5</td>\n",
       "      <td>5</td>\n",
       "      <td>...</td>\n",
       "      <td>5</td>\n",
       "      <td>5</td>\n",
       "      <td>5</td>\n",
       "      <td>0</td>\n",
       "      <td>0.0</td>\n",
       "      <td>1</td>\n",
       "      <td>0</td>\n",
       "      <td>0</td>\n",
       "      <td>1</td>\n",
       "      <td>0</td>\n",
       "    </tr>\n",
       "    <tr>\n",
       "      <th>1</th>\n",
       "      <td>18</td>\n",
       "      <td>391</td>\n",
       "      <td>1</td>\n",
       "      <td>5</td>\n",
       "      <td>5</td>\n",
       "      <td>5</td>\n",
       "      <td>1</td>\n",
       "      <td>1</td>\n",
       "      <td>1</td>\n",
       "      <td>1</td>\n",
       "      <td>...</td>\n",
       "      <td>1</td>\n",
       "      <td>4</td>\n",
       "      <td>1</td>\n",
       "      <td>17</td>\n",
       "      <td>17.0</td>\n",
       "      <td>0</td>\n",
       "      <td>0</td>\n",
       "      <td>0</td>\n",
       "      <td>0</td>\n",
       "      <td>0</td>\n",
       "    </tr>\n",
       "    <tr>\n",
       "      <th>2</th>\n",
       "      <td>13</td>\n",
       "      <td>569</td>\n",
       "      <td>2</td>\n",
       "      <td>4</td>\n",
       "      <td>2</td>\n",
       "      <td>3</td>\n",
       "      <td>1</td>\n",
       "      <td>2</td>\n",
       "      <td>1</td>\n",
       "      <td>1</td>\n",
       "      <td>...</td>\n",
       "      <td>5</td>\n",
       "      <td>5</td>\n",
       "      <td>1</td>\n",
       "      <td>0</td>\n",
       "      <td>0.0</td>\n",
       "      <td>0</td>\n",
       "      <td>0</td>\n",
       "      <td>1</td>\n",
       "      <td>0</td>\n",
       "      <td>1</td>\n",
       "    </tr>\n",
       "    <tr>\n",
       "      <th>3</th>\n",
       "      <td>23</td>\n",
       "      <td>109</td>\n",
       "      <td>1</td>\n",
       "      <td>0</td>\n",
       "      <td>1</td>\n",
       "      <td>1</td>\n",
       "      <td>3</td>\n",
       "      <td>1</td>\n",
       "      <td>1</td>\n",
       "      <td>3</td>\n",
       "      <td>...</td>\n",
       "      <td>3</td>\n",
       "      <td>1</td>\n",
       "      <td>3</td>\n",
       "      <td>0</td>\n",
       "      <td>0.0</td>\n",
       "      <td>1</td>\n",
       "      <td>1</td>\n",
       "      <td>0</td>\n",
       "      <td>1</td>\n",
       "      <td>0</td>\n",
       "    </tr>\n",
       "    <tr>\n",
       "      <th>4</th>\n",
       "      <td>23</td>\n",
       "      <td>83</td>\n",
       "      <td>4</td>\n",
       "      <td>5</td>\n",
       "      <td>0</td>\n",
       "      <td>3</td>\n",
       "      <td>5</td>\n",
       "      <td>0</td>\n",
       "      <td>5</td>\n",
       "      <td>5</td>\n",
       "      <td>...</td>\n",
       "      <td>3</td>\n",
       "      <td>5</td>\n",
       "      <td>5</td>\n",
       "      <td>0</td>\n",
       "      <td>0.0</td>\n",
       "      <td>1</td>\n",
       "      <td>0</td>\n",
       "      <td>1</td>\n",
       "      <td>0</td>\n",
       "      <td>0</td>\n",
       "    </tr>\n",
       "  </tbody>\n",
       "</table>\n",
       "<p>5 rows × 23 columns</p>\n",
       "</div>"
      ],
      "text/plain": [
       "   Age  Flight Distance  Inflight wifi service  \\\n",
       "0   41              303                      5   \n",
       "1   18              391                      1   \n",
       "2   13              569                      2   \n",
       "3   23              109                      1   \n",
       "4   23               83                      4   \n",
       "\n",
       "   Departure/Arrival time convenient  Ease of Online booking  Gate location  \\\n",
       "0                                  3                       3              3   \n",
       "1                                  5                       5              5   \n",
       "2                                  4                       2              3   \n",
       "3                                  0                       1              1   \n",
       "4                                  5                       0              3   \n",
       "\n",
       "   Food and drink  Online boarding  Seat comfort  Inflight entertainment  ...  \\\n",
       "0               5                5             5                       5  ...   \n",
       "1               1                1             1                       1  ...   \n",
       "2               1                2             1                       1  ...   \n",
       "3               3                1             1                       3  ...   \n",
       "4               5                0             5                       5  ...   \n",
       "\n",
       "   Checkin service  Inflight service  Cleanliness  Departure Delay in Minutes  \\\n",
       "0                5                 5            5                           0   \n",
       "1                1                 4            1                          17   \n",
       "2                5                 5            1                           0   \n",
       "3                3                 1            3                           0   \n",
       "4                3                 5            5                           0   \n",
       "\n",
       "   Arrival Delay in Minutes  Gender_Male  Customer Type_disloyal Customer  \\\n",
       "0                       0.0            1                                0   \n",
       "1                      17.0            0                                0   \n",
       "2                       0.0            0                                0   \n",
       "3                       0.0            1                                1   \n",
       "4                       0.0            1                                0   \n",
       "\n",
       "   Type of Travel_Personal Travel  Class_Eco  Class_Eco Plus  \n",
       "0                               0          1               0  \n",
       "1                               0          0               0  \n",
       "2                               1          0               1  \n",
       "3                               0          1               0  \n",
       "4                               1          0               0  \n",
       "\n",
       "[5 rows x 23 columns]"
      ]
     },
     "execution_count": 300,
     "metadata": {},
     "output_type": "execute_result"
    }
   ],
   "source": [
    "df2.head()"
   ]
  },
  {
   "cell_type": "code",
   "execution_count": 301,
   "id": "64595704",
   "metadata": {
    "scrolled": false
   },
   "outputs": [
    {
     "data": {
      "text/plain": [
       "count    20781.000000\n",
       "mean      1184.494923\n",
       "std        991.162378\n",
       "min         31.000000\n",
       "25%        421.000000\n",
       "50%        835.000000\n",
       "75%       1739.000000\n",
       "max       4983.000000\n",
       "Name: Flight Distance, dtype: float64"
      ]
     },
     "execution_count": 301,
     "metadata": {},
     "output_type": "execute_result"
    }
   ],
   "source": [
    "df2['Flight Distance'].describe()"
   ]
  },
  {
   "cell_type": "code",
   "execution_count": null,
   "id": "87abd0d5",
   "metadata": {},
   "outputs": [],
   "source": []
  },
  {
   "cell_type": "code",
   "execution_count": 302,
   "id": "d9ec4427",
   "metadata": {},
   "outputs": [],
   "source": [
    "Q1 = np.percentile(df2['Flight Distance'], 25,\n",
    "                   interpolation = 'midpoint')\n",
    " \n",
    "Q3 = np.percentile(df2['Flight Distance'], 75,\n",
    "                   interpolation = 'midpoint')\n",
    "IQR = Q3 - Q1"
   ]
  },
  {
   "cell_type": "code",
   "execution_count": 303,
   "id": "2e5010bf",
   "metadata": {
    "scrolled": true
   },
   "outputs": [
    {
     "data": {
      "text/plain": [
       "1318.0"
      ]
     },
     "execution_count": 303,
     "metadata": {},
     "output_type": "execute_result"
    }
   ],
   "source": [
    "IQR"
   ]
  },
  {
   "cell_type": "code",
   "execution_count": 304,
   "id": "b4e476f6",
   "metadata": {},
   "outputs": [],
   "source": [
    "upper = Q3 + 1.5*IQR\n",
    "\n",
    "lower = Q1 - 1.5*IQR"
   ]
  },
  {
   "cell_type": "code",
   "execution_count": 305,
   "id": "515f398b",
   "metadata": {
    "scrolled": true
   },
   "outputs": [
    {
     "name": "stdout",
     "output_type": "stream",
     "text": [
      "3716.0 -1556.0\n"
     ]
    }
   ],
   "source": [
    "print(upper , lower)"
   ]
  },
  {
   "cell_type": "code",
   "execution_count": 306,
   "id": "cb483624",
   "metadata": {},
   "outputs": [],
   "source": [
    "df2.loc[(df2['Flight Distance']>3716) , 'Flight Distance']= df2['Flight Distance'].median()\n",
    "df2.loc[(df2['Flight Distance']<-1583.5) , 'Flight Distance']= df2['Flight Distance'].median()\n"
   ]
  },
  {
   "cell_type": "code",
   "execution_count": 307,
   "id": "3c0963ff",
   "metadata": {
    "scrolled": true
   },
   "outputs": [
    {
     "data": {
      "text/plain": [
       "<AxesSubplot:>"
      ]
     },
     "execution_count": 307,
     "metadata": {},
     "output_type": "execute_result"
    },
    {
     "data": {
      "image/png": "[encoded data removed]",
      "text/plain": [
       "<Figure size 432x288 with 1 Axes>"
      ]
     },
     "metadata": {
      "needs_background": "light"
     },
     "output_type": "display_data"
    }
   ],
   "source": [
    "df2['Flight Distance'].plot.box()"
   ]
  },
  {
   "cell_type": "code",
   "execution_count": 308,
   "id": "2a658be2",
   "metadata": {},
   "outputs": [
    {
     "data": {
      "text/html": [
       "<div>\n",
       "<style scoped>\n",
       "    .dataframe tbody tr th:only-of-type {\n",
       "        vertical-align: middle;\n",
       "    }\n",
       "\n",
       "    .dataframe tbody tr th {\n",
       "        vertical-align: top;\n",
       "    }\n",
       "\n",
       "    .dataframe thead th {\n",
       "        text-align: right;\n",
       "    }\n",
       "</style>\n",
       "<table border=\"1\" class=\"dataframe\">\n",
       "  <thead>\n",
       "    <tr style=\"text-align: right;\">\n",
       "      <th></th>\n",
       "      <th>Age</th>\n",
       "      <th>Flight Distance</th>\n",
       "      <th>Inflight wifi service</th>\n",
       "      <th>Departure/Arrival time convenient</th>\n",
       "      <th>Ease of Online booking</th>\n",
       "      <th>Gate location</th>\n",
       "      <th>Food and drink</th>\n",
       "      <th>Online boarding</th>\n",
       "      <th>Seat comfort</th>\n",
       "      <th>Inflight entertainment</th>\n",
       "      <th>...</th>\n",
       "      <th>Checkin service</th>\n",
       "      <th>Inflight service</th>\n",
       "      <th>Cleanliness</th>\n",
       "      <th>Departure Delay in Minutes</th>\n",
       "      <th>Arrival Delay in Minutes</th>\n",
       "      <th>Gender_Male</th>\n",
       "      <th>Customer Type_disloyal Customer</th>\n",
       "      <th>Type of Travel_Personal Travel</th>\n",
       "      <th>Class_Eco</th>\n",
       "      <th>Class_Eco Plus</th>\n",
       "    </tr>\n",
       "  </thead>\n",
       "  <tbody>\n",
       "    <tr>\n",
       "      <th>0</th>\n",
       "      <td>41</td>\n",
       "      <td>303</td>\n",
       "      <td>5</td>\n",
       "      <td>3</td>\n",
       "      <td>3</td>\n",
       "      <td>3</td>\n",
       "      <td>5</td>\n",
       "      <td>5</td>\n",
       "      <td>5</td>\n",
       "      <td>5</td>\n",
       "      <td>...</td>\n",
       "      <td>5</td>\n",
       "      <td>5</td>\n",
       "      <td>5</td>\n",
       "      <td>0</td>\n",
       "      <td>0.0</td>\n",
       "      <td>1</td>\n",
       "      <td>0</td>\n",
       "      <td>0</td>\n",
       "      <td>1</td>\n",
       "      <td>0</td>\n",
       "    </tr>\n",
       "    <tr>\n",
       "      <th>1</th>\n",
       "      <td>18</td>\n",
       "      <td>391</td>\n",
       "      <td>1</td>\n",
       "      <td>5</td>\n",
       "      <td>5</td>\n",
       "      <td>5</td>\n",
       "      <td>1</td>\n",
       "      <td>1</td>\n",
       "      <td>1</td>\n",
       "      <td>1</td>\n",
       "      <td>...</td>\n",
       "      <td>1</td>\n",
       "      <td>4</td>\n",
       "      <td>1</td>\n",
       "      <td>17</td>\n",
       "      <td>17.0</td>\n",
       "      <td>0</td>\n",
       "      <td>0</td>\n",
       "      <td>0</td>\n",
       "      <td>0</td>\n",
       "      <td>0</td>\n",
       "    </tr>\n",
       "    <tr>\n",
       "      <th>2</th>\n",
       "      <td>13</td>\n",
       "      <td>569</td>\n",
       "      <td>2</td>\n",
       "      <td>4</td>\n",
       "      <td>2</td>\n",
       "      <td>3</td>\n",
       "      <td>1</td>\n",
       "      <td>2</td>\n",
       "      <td>1</td>\n",
       "      <td>1</td>\n",
       "      <td>...</td>\n",
       "      <td>5</td>\n",
       "      <td>5</td>\n",
       "      <td>1</td>\n",
       "      <td>0</td>\n",
       "      <td>0.0</td>\n",
       "      <td>0</td>\n",
       "      <td>0</td>\n",
       "      <td>1</td>\n",
       "      <td>0</td>\n",
       "      <td>1</td>\n",
       "    </tr>\n",
       "    <tr>\n",
       "      <th>3</th>\n",
       "      <td>23</td>\n",
       "      <td>109</td>\n",
       "      <td>1</td>\n",
       "      <td>0</td>\n",
       "      <td>1</td>\n",
       "      <td>1</td>\n",
       "      <td>3</td>\n",
       "      <td>1</td>\n",
       "      <td>1</td>\n",
       "      <td>3</td>\n",
       "      <td>...</td>\n",
       "      <td>3</td>\n",
       "      <td>1</td>\n",
       "      <td>3</td>\n",
       "      <td>0</td>\n",
       "      <td>0.0</td>\n",
       "      <td>1</td>\n",
       "      <td>1</td>\n",
       "      <td>0</td>\n",
       "      <td>1</td>\n",
       "      <td>0</td>\n",
       "    </tr>\n",
       "    <tr>\n",
       "      <th>4</th>\n",
       "      <td>23</td>\n",
       "      <td>83</td>\n",
       "      <td>4</td>\n",
       "      <td>5</td>\n",
       "      <td>0</td>\n",
       "      <td>3</td>\n",
       "      <td>5</td>\n",
       "      <td>0</td>\n",
       "      <td>5</td>\n",
       "      <td>5</td>\n",
       "      <td>...</td>\n",
       "      <td>3</td>\n",
       "      <td>5</td>\n",
       "      <td>5</td>\n",
       "      <td>0</td>\n",
       "      <td>0.0</td>\n",
       "      <td>1</td>\n",
       "      <td>0</td>\n",
       "      <td>1</td>\n",
       "      <td>0</td>\n",
       "      <td>0</td>\n",
       "    </tr>\n",
       "  </tbody>\n",
       "</table>\n",
       "<p>5 rows × 23 columns</p>\n",
       "</div>"
      ],
      "text/plain": [
       "   Age  Flight Distance  Inflight wifi service  \\\n",
       "0   41              303                      5   \n",
       "1   18              391                      1   \n",
       "2   13              569                      2   \n",
       "3   23              109                      1   \n",
       "4   23               83                      4   \n",
       "\n",
       "   Departure/Arrival time convenient  Ease of Online booking  Gate location  \\\n",
       "0                                  3                       3              3   \n",
       "1                                  5                       5              5   \n",
       "2                                  4                       2              3   \n",
       "3                                  0                       1              1   \n",
       "4                                  5                       0              3   \n",
       "\n",
       "   Food and drink  Online boarding  Seat comfort  Inflight entertainment  ...  \\\n",
       "0               5                5             5                       5  ...   \n",
       "1               1                1             1                       1  ...   \n",
       "2               1                2             1                       1  ...   \n",
       "3               3                1             1                       3  ...   \n",
       "4               5                0             5                       5  ...   \n",
       "\n",
       "   Checkin service  Inflight service  Cleanliness  Departure Delay in Minutes  \\\n",
       "0                5                 5            5                           0   \n",
       "1                1                 4            1                          17   \n",
       "2                5                 5            1                           0   \n",
       "3                3                 1            3                           0   \n",
       "4                3                 5            5                           0   \n",
       "\n",
       "   Arrival Delay in Minutes  Gender_Male  Customer Type_disloyal Customer  \\\n",
       "0                       0.0            1                                0   \n",
       "1                      17.0            0                                0   \n",
       "2                       0.0            0                                0   \n",
       "3                       0.0            1                                1   \n",
       "4                       0.0            1                                0   \n",
       "\n",
       "   Type of Travel_Personal Travel  Class_Eco  Class_Eco Plus  \n",
       "0                               0          1               0  \n",
       "1                               0          0               0  \n",
       "2                               1          0               1  \n",
       "3                               0          1               0  \n",
       "4                               1          0               0  \n",
       "\n",
       "[5 rows x 23 columns]"
      ]
     },
     "execution_count": 308,
     "metadata": {},
     "output_type": "execute_result"
    }
   ],
   "source": [
    "df2.head()"
   ]
  },
  {
   "cell_type": "code",
   "execution_count": 309,
   "id": "a34401c0",
   "metadata": {},
   "outputs": [],
   "source": [
    "Q1 = np.percentile(df2['Departure Delay in Minutes'], 25,\n",
    "                   interpolation = 'midpoint')\n",
    " \n",
    "Q3 = np.percentile(df2['Departure Delay in Minutes'], 75,\n",
    "                   interpolation = 'midpoint')\n",
    "IQR = Q3 - Q1"
   ]
  },
  {
   "cell_type": "code",
   "execution_count": 310,
   "id": "7669bfef",
   "metadata": {
    "scrolled": true
   },
   "outputs": [
    {
     "data": {
      "text/plain": [
       "13.0"
      ]
     },
     "execution_count": 310,
     "metadata": {},
     "output_type": "execute_result"
    }
   ],
   "source": [
    "IQR"
   ]
  },
  {
   "cell_type": "code",
   "execution_count": 311,
   "id": "aea1810a",
   "metadata": {},
   "outputs": [],
   "source": [
    "upper = Q3 + 1.5*IQR\n",
    "\n",
    "lower = Q1 - 1.5*IQR"
   ]
  },
  {
   "cell_type": "code",
   "execution_count": 312,
   "id": "895b1740",
   "metadata": {
    "scrolled": true
   },
   "outputs": [
    {
     "name": "stdout",
     "output_type": "stream",
     "text": [
      "32.5 -19.5\n"
     ]
    }
   ],
   "source": [
    "print(upper , lower)"
   ]
  },
  {
   "cell_type": "code",
   "execution_count": 313,
   "id": "e3243eae",
   "metadata": {},
   "outputs": [],
   "source": [
    "df2.loc[(df2['Departure Delay in Minutes']>32.5) , 'Departure Delay in Minutes']= df2['Departure Delay in Minutes'].median()\n",
    "df2.loc[(df2['Departure Delay in Minutes']<-1583.5) , 'Departure Delay in Minutes']= df2['Departure Delay in Minutes'].median()\n"
   ]
  },
  {
   "cell_type": "code",
   "execution_count": 314,
   "id": "333df17e",
   "metadata": {
    "scrolled": false
   },
   "outputs": [
    {
     "data": {
      "text/plain": [
       "<AxesSubplot:>"
      ]
     },
     "execution_count": 314,
     "metadata": {},
     "output_type": "execute_result"
    },
    {
     "data": {
      "image/png": "[encoded data removed]",
      "text/plain": [
       "<Figure size 432x288 with 1 Axes>"
      ]
     },
     "metadata": {
      "needs_background": "light"
     },
     "output_type": "display_data"
    }
   ],
   "source": [
    "df['Departure Delay in Minutes'].plot.box()"
   ]
  },
  {
   "cell_type": "code",
   "execution_count": 315,
   "id": "f08a2945",
   "metadata": {
    "scrolled": true
   },
   "outputs": [
    {
     "data": {
      "text/plain": [
       "count    20781.000000\n",
       "mean        15.596410\n",
       "std         39.528818\n",
       "min          0.000000\n",
       "25%          0.000000\n",
       "50%          0.000000\n",
       "75%         13.000000\n",
       "max        970.000000\n",
       "Name: Arrival Delay in Minutes, dtype: float64"
      ]
     },
     "execution_count": 315,
     "metadata": {},
     "output_type": "execute_result"
    }
   ],
   "source": [
    "df2['Arrival Delay in Minutes'].describe()"
   ]
  },
  {
   "cell_type": "code",
   "execution_count": 316,
   "id": "491f08e6",
   "metadata": {
    "scrolled": true
   },
   "outputs": [
    {
     "data": {
      "text/plain": [
       "0.0      11665\n",
       "1.0        446\n",
       "2.0        424\n",
       "3.0        400\n",
       "4.0        357\n",
       "         ...  \n",
       "306.0        1\n",
       "386.0        1\n",
       "359.0        1\n",
       "404.0        1\n",
       "281.0        1\n",
       "Name: Arrival Delay in Minutes, Length: 316, dtype: int64"
      ]
     },
     "execution_count": 316,
     "metadata": {},
     "output_type": "execute_result"
    }
   ],
   "source": [
    "df2['Arrival Delay in Minutes'].value_counts()"
   ]
  },
  {
   "cell_type": "code",
   "execution_count": 317,
   "id": "247e7b5e",
   "metadata": {},
   "outputs": [
    {
     "data": {
      "text/plain": [
       "13.0"
      ]
     },
     "execution_count": 317,
     "metadata": {},
     "output_type": "execute_result"
    }
   ],
   "source": [
    "Q3a=df2['Arrival Delay in Minutes'].describe()['75%']\n",
    "Q3a"
   ]
  },
  {
   "cell_type": "code",
   "execution_count": 318,
   "id": "7abc33bb",
   "metadata": {},
   "outputs": [
    {
     "data": {
      "text/plain": [
       "0.0"
      ]
     },
     "execution_count": 318,
     "metadata": {},
     "output_type": "execute_result"
    }
   ],
   "source": [
    "Q1a=df2['Arrival Delay in Minutes'].describe()['25%']\n",
    "Q1a"
   ]
  },
  {
   "cell_type": "code",
   "execution_count": 319,
   "id": "4bced955",
   "metadata": {},
   "outputs": [
    {
     "data": {
      "text/plain": [
       "13.0"
      ]
     },
     "execution_count": 319,
     "metadata": {},
     "output_type": "execute_result"
    }
   ],
   "source": [
    "IQRA=Q3a-Q1a\n",
    "IQRA"
   ]
  },
  {
   "cell_type": "code",
   "execution_count": 320,
   "id": "c5b2d5fb",
   "metadata": {},
   "outputs": [],
   "source": [
    "upper = Q3a + 1.5*IQRA\n",
    "\n",
    "lower = Q1a - 1.5*IQRA"
   ]
  },
  {
   "cell_type": "code",
   "execution_count": 321,
   "id": "b701fc91",
   "metadata": {
    "scrolled": true
   },
   "outputs": [
    {
     "name": "stdout",
     "output_type": "stream",
     "text": [
      "32.5 -19.5\n"
     ]
    }
   ],
   "source": [
    "print(upper , lower)"
   ]
  },
  {
   "cell_type": "code",
   "execution_count": 322,
   "id": "64377d4c",
   "metadata": {},
   "outputs": [],
   "source": [
    "df2.loc[(df2['Arrival Delay in Minutes']>32.5) , 'Arrival Delay in Minutes']= df2['Arrival Delay in Minutes'].median()\n",
    "df2.loc[(df2['Arrival Delay in Minutes']<-19.5) , 'Arrival Delay in Minutes']= df2['Arrival Delay in Minutes'].median()\n"
   ]
  },
  {
   "cell_type": "code",
   "execution_count": 326,
   "id": "1a78d542",
   "metadata": {
    "scrolled": false
   },
   "outputs": [
    {
     "data": {
      "text/plain": [
       "<AxesSubplot:>"
      ]
     },
     "execution_count": 326,
     "metadata": {},
     "output_type": "execute_result"
    },
    {
     "data": {
      "image/png": "[encoded data removed]",
      "text/plain": [
       "<Figure size 432x288 with 1 Axes>"
      ]
     },
     "metadata": {
      "needs_background": "light"
     },
     "output_type": "display_data"
    }
   ],
   "source": [
    "df2['Arrival Delay in Minutes'].plot.box()"
   ]
  },
  {
   "cell_type": "code",
   "execution_count": 324,
   "id": "ae43746f",
   "metadata": {},
   "outputs": [
    {
     "name": "stdout",
     "output_type": "stream",
     "text": [
      "<class 'pandas.core.frame.DataFrame'>\n",
      "RangeIndex: 20781 entries, 0 to 20780\n",
      "Data columns (total 23 columns):\n",
      " #   Column                             Non-Null Count  Dtype  \n",
      "---  ------                             --------------  -----  \n",
      " 0   Age                                20781 non-null  int64  \n",
      " 1   Flight Distance                    20781 non-null  int64  \n",
      " 2   Inflight wifi service              20781 non-null  int64  \n",
      " 3   Departure/Arrival time convenient  20781 non-null  int64  \n",
      " 4   Ease of Online booking             20781 non-null  int64  \n",
      " 5   Gate location                      20781 non-null  int64  \n",
      " 6   Food and drink                     20781 non-null  int64  \n",
      " 7   Online boarding                    20781 non-null  int64  \n",
      " 8   Seat comfort                       20781 non-null  int64  \n",
      " 9   Inflight entertainment             20781 non-null  int64  \n",
      " 10  On-board service                   20781 non-null  int64  \n",
      " 11  Leg room service                   20781 non-null  int64  \n",
      " 12  Baggage handling                   20781 non-null  int64  \n",
      " 13  Checkin service                    20781 non-null  int64  \n",
      " 14  Inflight service                   20781 non-null  int64  \n",
      " 15  Cleanliness                        20781 non-null  int64  \n",
      " 16  Departure Delay in Minutes         20781 non-null  int64  \n",
      " 17  Arrival Delay in Minutes           20781 non-null  float64\n",
      " 18  Gender_Male                        20781 non-null  uint8  \n",
      " 19  Customer Type_disloyal Customer    20781 non-null  uint8  \n",
      " 20  Type of Travel_Personal Travel     20781 non-null  uint8  \n",
      " 21  Class_Eco                          20781 non-null  uint8  \n",
      " 22  Class_Eco Plus                     20781 non-null  uint8  \n",
      "dtypes: float64(1), int64(17), uint8(5)\n",
      "memory usage: 3.0 MB\n"
     ]
    }
   ],
   "source": [
    "df2.info()"
   ]
  },
  {
   "cell_type": "code",
   "execution_count": 325,
   "id": "dc094e9e",
   "metadata": {
    "scrolled": true
   },
   "outputs": [],
   "source": [
    "dt2_pred=dtc1.predict(df2)"
   ]
  },
  {
   "cell_type": "code",
   "execution_count": 327,
   "id": "6c02c020",
   "metadata": {
    "scrolled": true
   },
   "outputs": [
    {
     "data": {
      "text/plain": [
       "array(['satisfied', 'neutral or dissatisfied', 'neutral or dissatisfied',\n",
       "       ..., 'satisfied', 'neutral or dissatisfied', 'satisfied'],\n",
       "      dtype=object)"
      ]
     },
     "execution_count": 327,
     "metadata": {},
     "output_type": "execute_result"
    }
   ],
   "source": [
    "dt2_pred"
   ]
  },
  {
   "cell_type": "code",
   "execution_count": 328,
   "id": "029d76d9",
   "metadata": {},
   "outputs": [],
   "source": [
    "df3=pd.read_csv(r\"C:\\Users\\abhin\\machine learning\\term 5 project\\Flight customer satisfaction\\Flight-Passengers-Satisfaction-Prediction\\cust_test.csv\")"
   ]
  },
  {
   "cell_type": "code",
   "execution_count": 330,
   "id": "5349e7c3",
   "metadata": {},
   "outputs": [],
   "source": [
    "df3=df3['id']"
   ]
  },
  {
   "cell_type": "code",
   "execution_count": 331,
   "id": "5f5eb939",
   "metadata": {},
   "outputs": [
    {
     "data": {
      "text/plain": [
       "0         23509\n",
       "1         31011\n",
       "2         29345\n",
       "3         50242\n",
       "4         22244\n",
       "          ...  \n",
       "20776     21910\n",
       "20777    107869\n",
       "20778     44306\n",
       "20779     16965\n",
       "20780     75189\n",
       "Name: id, Length: 20781, dtype: int64"
      ]
     },
     "execution_count": 331,
     "metadata": {},
     "output_type": "execute_result"
    }
   ],
   "source": [
    "df3"
   ]
  },
  {
   "cell_type": "code",
   "execution_count": 332,
   "id": "67c8e7ba",
   "metadata": {},
   "outputs": [],
   "source": [
    "final_op=(list(zip(df3,dt2_pred)))\n"
   ]
  },
  {
   "cell_type": "code",
   "execution_count": 333,
   "id": "58fa694f",
   "metadata": {
    "scrolled": false
   },
   "outputs": [
    {
     "data": {
      "text/plain": [
       "[(23509, 'satisfied'),\n",
       " (31011, 'neutral or dissatisfied'),\n",
       " (29345, 'neutral or dissatisfied'),\n",
       " (50242, 'neutral or dissatisfied'),\n",
       " (22244, 'neutral or dissatisfied'),\n",
       " (111019, 'neutral or dissatisfied'),\n",
       " (15315, 'neutral or dissatisfied'),\n",
       " (118762, 'neutral or dissatisfied'),\n",
       " (102047, 'neutral or dissatisfied'),\n",
       " (82163, 'satisfied'),\n",
       " (116109, 'satisfied'),\n",
       " (99867, 'satisfied'),\n",
       " (42717, 'neutral or dissatisfied'),\n",
       " (51315, 'neutral or dissatisfied'),\n",
       " (57905, 'satisfied'),\n",
       " (57333, 'neutral or dissatisfied'),\n",
       " (13485, 'neutral or dissatisfied'),\n",
       " (101750, 'satisfied'),\n",
       " (29086, 'neutral or dissatisfied'),\n",
       " (89933, 'neutral or dissatisfied'),\n",
       " (97001, 'neutral or dissatisfied'),\n",
       " (64689, 'neutral or dissatisfied'),\n",
       " (6265, 'satisfied'),\n",
       " (73980, 'satisfied'),\n",
       " (59508, 'satisfied'),\n",
       " (13243, 'neutral or dissatisfied'),\n",
       " (14989, 'neutral or dissatisfied'),\n",
       " (102899, 'neutral or dissatisfied'),\n",
       " (34824, 'neutral or dissatisfied'),\n",
       " (113611, 'satisfied'),\n",
       " (50003, 'satisfied'),\n",
       " (39102, 'neutral or dissatisfied'),\n",
       " (113616, 'neutral or dissatisfied'),\n",
       " (77294, 'satisfied'),\n",
       " (120860, 'satisfied'),\n",
       " (65509, 'neutral or dissatisfied'),\n",
       " (6906, 'neutral or dissatisfied'),\n",
       " (114863, 'satisfied'),\n",
       " (53920, 'satisfied'),\n",
       " (79361, 'satisfied'),\n",
       " (12485, 'satisfied'),\n",
       " (46037, 'satisfied'),\n",
       " (12258, 'satisfied'),\n",
       " (110370, 'satisfied'),\n",
       " (69264, 'neutral or dissatisfied'),\n",
       " (108351, 'satisfied'),\n",
       " (26771, 'satisfied'),\n",
       " (39022, 'satisfied'),\n",
       " (25941, 'neutral or dissatisfied'),\n",
       " (54170, 'satisfied'),\n",
       " (32416, 'satisfied'),\n",
       " (119241, 'satisfied'),\n",
       " (22165, 'neutral or dissatisfied'),\n",
       " (96710, 'satisfied'),\n",
       " (101173, 'neutral or dissatisfied'),\n",
       " (79523, 'satisfied'),\n",
       " (22203, 'neutral or dissatisfied'),\n",
       " (13571, 'neutral or dissatisfied'),\n",
       " (74036, 'neutral or dissatisfied'),\n",
       " (119120, 'neutral or dissatisfied'),\n",
       " (36330, 'neutral or dissatisfied'),\n",
       " (73503, 'satisfied'),\n",
       " (99934, 'neutral or dissatisfied'),\n",
       " (47195, 'satisfied'),\n",
       " (38825, 'neutral or dissatisfied'),\n",
       " (88118, 'satisfied'),\n",
       " (51187, 'neutral or dissatisfied'),\n",
       " (41729, 'satisfied'),\n",
       " (108547, 'neutral or dissatisfied'),\n",
       " (121734, 'satisfied'),\n",
       " (28069, 'satisfied'),\n",
       " (93384, 'satisfied'),\n",
       " (16080, 'satisfied'),\n",
       " (113941, 'satisfied'),\n",
       " (127935, 'neutral or dissatisfied'),\n",
       " (87902, 'satisfied'),\n",
       " (73132, 'neutral or dissatisfied'),\n",
       " (80313, 'neutral or dissatisfied'),\n",
       " (44038, 'neutral or dissatisfied'),\n",
       " (95149, 'neutral or dissatisfied'),\n",
       " (48728, 'satisfied'),\n",
       " (57185, 'neutral or dissatisfied'),\n",
       " (32272, 'satisfied'),\n",
       " (91497, 'neutral or dissatisfied'),\n",
       " (10210, 'satisfied'),\n",
       " (48594, 'neutral or dissatisfied'),\n",
       " (45549, 'neutral or dissatisfied'),\n",
       " (20377, 'neutral or dissatisfied'),\n",
       " (29288, 'neutral or dissatisfied'),\n",
       " (49674, 'neutral or dissatisfied'),\n",
       " (5733, 'neutral or dissatisfied'),\n",
       " (67667, 'neutral or dissatisfied'),\n",
       " (53098, 'neutral or dissatisfied'),\n",
       " (24853, 'satisfied'),\n",
       " (58238, 'neutral or dissatisfied'),\n",
       " (99135, 'neutral or dissatisfied'),\n",
       " (9539, 'satisfied'),\n",
       " (117633, 'neutral or dissatisfied'),\n",
       " (1849, 'satisfied'),\n",
       " (91511, 'neutral or dissatisfied'),\n",
       " (29698, 'satisfied'),\n",
       " (95292, 'neutral or dissatisfied'),\n",
       " (10896, 'satisfied'),\n",
       " (39127, 'satisfied'),\n",
       " (123356, 'satisfied'),\n",
       " (78998, 'satisfied'),\n",
       " (19724, 'neutral or dissatisfied'),\n",
       " (51809, 'neutral or dissatisfied'),\n",
       " (58184, 'neutral or dissatisfied'),\n",
       " (6013, 'satisfied'),\n",
       " (27905, 'satisfied'),\n",
       " (61462, 'neutral or dissatisfied'),\n",
       " (71253, 'satisfied'),\n",
       " (92989, 'neutral or dissatisfied'),\n",
       " (52094, 'neutral or dissatisfied'),\n",
       " (121398, 'satisfied'),\n",
       " (122754, 'neutral or dissatisfied'),\n",
       " (11106, 'neutral or dissatisfied'),\n",
       " (3172, 'satisfied'),\n",
       " (122212, 'satisfied'),\n",
       " (47833, 'neutral or dissatisfied'),\n",
       " (63890, 'satisfied'),\n",
       " (108484, 'neutral or dissatisfied'),\n",
       " (11624, 'neutral or dissatisfied'),\n",
       " (119821, 'neutral or dissatisfied'),\n",
       " (20035, 'neutral or dissatisfied'),\n",
       " (108824, 'satisfied'),\n",
       " (100657, 'satisfied'),\n",
       " (70009, 'satisfied'),\n",
       " (101515, 'satisfied'),\n",
       " (67971, 'neutral or dissatisfied'),\n",
       " (77125, 'satisfied'),\n",
       " (21754, 'satisfied'),\n",
       " (38203, 'satisfied'),\n",
       " (56202, 'satisfied'),\n",
       " (94848, 'neutral or dissatisfied'),\n",
       " (64292, 'satisfied'),\n",
       " (28219, 'neutral or dissatisfied'),\n",
       " (113858, 'neutral or dissatisfied'),\n",
       " (102130, 'neutral or dissatisfied'),\n",
       " (95377, 'satisfied'),\n",
       " (10301, 'satisfied'),\n",
       " (98461, 'satisfied'),\n",
       " (1485, 'satisfied'),\n",
       " (125264, 'satisfied'),\n",
       " (127632, 'neutral or dissatisfied'),\n",
       " (78302, 'neutral or dissatisfied'),\n",
       " (24976, 'satisfied'),\n",
       " (68785, 'neutral or dissatisfied'),\n",
       " (93721, 'neutral or dissatisfied'),\n",
       " (93774, 'satisfied'),\n",
       " (119917, 'neutral or dissatisfied'),\n",
       " (40335, 'neutral or dissatisfied'),\n",
       " (89857, 'satisfied'),\n",
       " (108430, 'satisfied'),\n",
       " (128873, 'satisfied'),\n",
       " (3367, 'satisfied'),\n",
       " (66309, 'neutral or dissatisfied'),\n",
       " (99645, 'satisfied'),\n",
       " (73697, 'neutral or dissatisfied'),\n",
       " (35155, 'satisfied'),\n",
       " (112566, 'neutral or dissatisfied'),\n",
       " (91060, 'neutral or dissatisfied'),\n",
       " (50878, 'neutral or dissatisfied'),\n",
       " (127350, 'satisfied'),\n",
       " (127182, 'satisfied'),\n",
       " (112608, 'neutral or dissatisfied'),\n",
       " (103604, 'satisfied'),\n",
       " (101963, 'neutral or dissatisfied'),\n",
       " (118395, 'satisfied'),\n",
       " (22081, 'neutral or dissatisfied'),\n",
       " (65563, 'satisfied'),\n",
       " (10789, 'neutral or dissatisfied'),\n",
       " (115922, 'neutral or dissatisfied'),\n",
       " (106969, 'satisfied'),\n",
       " (45933, 'neutral or dissatisfied'),\n",
       " (99971, 'neutral or dissatisfied'),\n",
       " (63169, 'satisfied'),\n",
       " (75954, 'neutral or dissatisfied'),\n",
       " (6505, 'satisfied'),\n",
       " (116060, 'neutral or dissatisfied'),\n",
       " (73718, 'neutral or dissatisfied'),\n",
       " (107909, 'neutral or dissatisfied'),\n",
       " (44220, 'satisfied'),\n",
       " (102279, 'neutral or dissatisfied'),\n",
       " (107378, 'neutral or dissatisfied'),\n",
       " (80673, 'neutral or dissatisfied'),\n",
       " (93887, 'neutral or dissatisfied'),\n",
       " (126733, 'neutral or dissatisfied'),\n",
       " (14069, 'neutral or dissatisfied'),\n",
       " (6368, 'neutral or dissatisfied'),\n",
       " (128073, 'satisfied'),\n",
       " (34934, 'neutral or dissatisfied'),\n",
       " (37877, 'neutral or dissatisfied'),\n",
       " (47771, 'neutral or dissatisfied'),\n",
       " (88850, 'neutral or dissatisfied'),\n",
       " (67264, 'neutral or dissatisfied'),\n",
       " (6587, 'satisfied'),\n",
       " (30846, 'neutral or dissatisfied'),\n",
       " (104376, 'neutral or dissatisfied'),\n",
       " (39855, 'neutral or dissatisfied'),\n",
       " (84824, 'neutral or dissatisfied'),\n",
       " (2430, 'neutral or dissatisfied'),\n",
       " (60578, 'neutral or dissatisfied'),\n",
       " (106022, 'satisfied'),\n",
       " (118815, 'neutral or dissatisfied'),\n",
       " (51049, 'neutral or dissatisfied'),\n",
       " (111782, 'neutral or dissatisfied'),\n",
       " (24963, 'neutral or dissatisfied'),\n",
       " (116505, 'neutral or dissatisfied'),\n",
       " (17749, 'satisfied'),\n",
       " (43573, 'neutral or dissatisfied'),\n",
       " (33544, 'neutral or dissatisfied'),\n",
       " (27651, 'neutral or dissatisfied'),\n",
       " (105802, 'neutral or dissatisfied'),\n",
       " (27485, 'neutral or dissatisfied'),\n",
       " (67063, 'satisfied'),\n",
       " (32275, 'neutral or dissatisfied'),\n",
       " (105904, 'neutral or dissatisfied'),\n",
       " (66226, 'neutral or dissatisfied'),\n",
       " (124471, 'neutral or dissatisfied'),\n",
       " (103847, 'neutral or dissatisfied'),\n",
       " (96383, 'satisfied'),\n",
       " (9230, 'neutral or dissatisfied'),\n",
       " (117488, 'neutral or dissatisfied'),\n",
       " (9125, 'neutral or dissatisfied'),\n",
       " (22408, 'neutral or dissatisfied'),\n",
       " (15418, 'satisfied'),\n",
       " (78077, 'satisfied'),\n",
       " (59238, 'neutral or dissatisfied'),\n",
       " (9193, 'satisfied'),\n",
       " (5115, 'neutral or dissatisfied'),\n",
       " (71299, 'satisfied'),\n",
       " (43683, 'neutral or dissatisfied'),\n",
       " (24808, 'neutral or dissatisfied'),\n",
       " (45701, 'satisfied'),\n",
       " (20281, 'neutral or dissatisfied'),\n",
       " (25614, 'satisfied'),\n",
       " (93540, 'neutral or dissatisfied'),\n",
       " (65629, 'neutral or dissatisfied'),\n",
       " (100950, 'satisfied'),\n",
       " (25392, 'satisfied'),\n",
       " (56660, 'neutral or dissatisfied'),\n",
       " (69121, 'satisfied'),\n",
       " (25782, 'neutral or dissatisfied'),\n",
       " (10811, 'satisfied'),\n",
       " (52079, 'satisfied'),\n",
       " (17985, 'satisfied'),\n",
       " (84544, 'neutral or dissatisfied'),\n",
       " (113582, 'satisfied'),\n",
       " (59597, 'neutral or dissatisfied'),\n",
       " (102567, 'satisfied'),\n",
       " (78603, 'satisfied'),\n",
       " (90571, 'satisfied'),\n",
       " (26936, 'satisfied'),\n",
       " (129785, 'neutral or dissatisfied'),\n",
       " (84685, 'neutral or dissatisfied'),\n",
       " (75918, 'satisfied'),\n",
       " (40894, 'neutral or dissatisfied'),\n",
       " (113513, 'satisfied'),\n",
       " (7630, 'satisfied'),\n",
       " (3952, 'neutral or dissatisfied'),\n",
       " (26569, 'neutral or dissatisfied'),\n",
       " (35053, 'satisfied'),\n",
       " (18358, 'neutral or dissatisfied'),\n",
       " (50338, 'satisfied'),\n",
       " (128547, 'satisfied'),\n",
       " (117372, 'neutral or dissatisfied'),\n",
       " (19844, 'satisfied'),\n",
       " (55333, 'neutral or dissatisfied'),\n",
       " (70406, 'neutral or dissatisfied'),\n",
       " (90900, 'satisfied'),\n",
       " (46643, 'satisfied'),\n",
       " (81896, 'neutral or dissatisfied'),\n",
       " (128494, 'neutral or dissatisfied'),\n",
       " (66410, 'neutral or dissatisfied'),\n",
       " (71859, 'neutral or dissatisfied'),\n",
       " (110499, 'neutral or dissatisfied'),\n",
       " (37657, 'neutral or dissatisfied'),\n",
       " (52387, 'neutral or dissatisfied'),\n",
       " (33255, 'neutral or dissatisfied'),\n",
       " (31214, 'neutral or dissatisfied'),\n",
       " (5509, 'neutral or dissatisfied'),\n",
       " (85332, 'satisfied'),\n",
       " (88024, 'satisfied'),\n",
       " (37173, 'neutral or dissatisfied'),\n",
       " (23646, 'satisfied'),\n",
       " (18219, 'neutral or dissatisfied'),\n",
       " (7619, 'neutral or dissatisfied'),\n",
       " (109706, 'satisfied'),\n",
       " (119213, 'satisfied'),\n",
       " (122073, 'neutral or dissatisfied'),\n",
       " (10979, 'satisfied'),\n",
       " (70344, 'neutral or dissatisfied'),\n",
       " (36291, 'satisfied'),\n",
       " (90157, 'neutral or dissatisfied'),\n",
       " (5821, 'neutral or dissatisfied'),\n",
       " (20174, 'neutral or dissatisfied'),\n",
       " (102227, 'satisfied'),\n",
       " (67187, 'satisfied'),\n",
       " (13700, 'neutral or dissatisfied'),\n",
       " (36361, 'neutral or dissatisfied'),\n",
       " (92055, 'satisfied'),\n",
       " (112109, 'satisfied'),\n",
       " (25483, 'neutral or dissatisfied'),\n",
       " (60045, 'satisfied'),\n",
       " (80029, 'neutral or dissatisfied'),\n",
       " (91818, 'neutral or dissatisfied'),\n",
       " (30449, 'satisfied'),\n",
       " (61096, 'neutral or dissatisfied'),\n",
       " (45718, 'neutral or dissatisfied'),\n",
       " (16160, 'satisfied'),\n",
       " (13559, 'neutral or dissatisfied'),\n",
       " (18856, 'neutral or dissatisfied'),\n",
       " (71198, 'satisfied'),\n",
       " (115229, 'satisfied'),\n",
       " (98929, 'neutral or dissatisfied'),\n",
       " (74531, 'neutral or dissatisfied'),\n",
       " (69212, 'satisfied'),\n",
       " (109875, 'satisfied'),\n",
       " (101303, 'satisfied'),\n",
       " (80865, 'neutral or dissatisfied'),\n",
       " (55530, 'neutral or dissatisfied'),\n",
       " (40575, 'satisfied'),\n",
       " (78744, 'neutral or dissatisfied'),\n",
       " (3886, 'satisfied'),\n",
       " (123988, 'neutral or dissatisfied'),\n",
       " (78997, 'satisfied'),\n",
       " (32422, 'neutral or dissatisfied'),\n",
       " (13584, 'neutral or dissatisfied'),\n",
       " (64572, 'satisfied'),\n",
       " (68985, 'neutral or dissatisfied'),\n",
       " (32986, 'satisfied'),\n",
       " (36741, 'neutral or dissatisfied'),\n",
       " (87819, 'satisfied'),\n",
       " (74549, 'neutral or dissatisfied'),\n",
       " (2902, 'neutral or dissatisfied'),\n",
       " (38510, 'satisfied'),\n",
       " (118779, 'neutral or dissatisfied'),\n",
       " (68411, 'neutral or dissatisfied'),\n",
       " (11122, 'neutral or dissatisfied'),\n",
       " (40931, 'satisfied'),\n",
       " (54856, 'neutral or dissatisfied'),\n",
       " (95892, 'neutral or dissatisfied'),\n",
       " (80356, 'satisfied'),\n",
       " (15475, 'neutral or dissatisfied'),\n",
       " (98941, 'satisfied'),\n",
       " (94104, 'neutral or dissatisfied'),\n",
       " (124783, 'satisfied'),\n",
       " (106621, 'neutral or dissatisfied'),\n",
       " (69150, 'neutral or dissatisfied'),\n",
       " (41003, 'neutral or dissatisfied'),\n",
       " (80499, 'satisfied'),\n",
       " (35722, 'neutral or dissatisfied'),\n",
       " (86872, 'neutral or dissatisfied'),\n",
       " (44384, 'satisfied'),\n",
       " (84751, 'neutral or dissatisfied'),\n",
       " (3506, 'satisfied'),\n",
       " (14127, 'satisfied'),\n",
       " (121307, 'neutral or dissatisfied'),\n",
       " (60788, 'satisfied'),\n",
       " (26438, 'neutral or dissatisfied'),\n",
       " (15801, 'neutral or dissatisfied'),\n",
       " (87151, 'neutral or dissatisfied'),\n",
       " (103540, 'neutral or dissatisfied'),\n",
       " (59573, 'neutral or dissatisfied'),\n",
       " (16591, 'neutral or dissatisfied'),\n",
       " (71348, 'neutral or dissatisfied'),\n",
       " (108953, 'satisfied'),\n",
       " (67814, 'neutral or dissatisfied'),\n",
       " (3611, 'neutral or dissatisfied'),\n",
       " (53255, 'neutral or dissatisfied'),\n",
       " (16766, 'neutral or dissatisfied'),\n",
       " (31655, 'satisfied'),\n",
       " (45976, 'neutral or dissatisfied'),\n",
       " (70323, 'satisfied'),\n",
       " (29501, 'neutral or dissatisfied'),\n",
       " (62163, 'neutral or dissatisfied'),\n",
       " (35488, 'neutral or dissatisfied'),\n",
       " (28061, 'satisfied'),\n",
       " (35258, 'satisfied'),\n",
       " (63520, 'neutral or dissatisfied'),\n",
       " (80961, 'satisfied'),\n",
       " (97174, 'neutral or dissatisfied'),\n",
       " (53508, 'neutral or dissatisfied'),\n",
       " (95812, 'neutral or dissatisfied'),\n",
       " (88251, 'neutral or dissatisfied'),\n",
       " (43924, 'neutral or dissatisfied'),\n",
       " (30178, 'satisfied'),\n",
       " (63590, 'neutral or dissatisfied'),\n",
       " (73105, 'satisfied'),\n",
       " (75405, 'satisfied'),\n",
       " (38524, 'neutral or dissatisfied'),\n",
       " (104464, 'satisfied'),\n",
       " (67627, 'satisfied'),\n",
       " (54559, 'neutral or dissatisfied'),\n",
       " (57628, 'neutral or dissatisfied'),\n",
       " (16140, 'satisfied'),\n",
       " (119011, 'neutral or dissatisfied'),\n",
       " (50592, 'neutral or dissatisfied'),\n",
       " (42282, 'neutral or dissatisfied'),\n",
       " (12876, 'satisfied'),\n",
       " (46849, 'neutral or dissatisfied'),\n",
       " (7556, 'neutral or dissatisfied'),\n",
       " (6140, 'satisfied'),\n",
       " (51630, 'satisfied'),\n",
       " (40090, 'satisfied'),\n",
       " (89541, 'neutral or dissatisfied'),\n",
       " (33211, 'satisfied'),\n",
       " (41929, 'neutral or dissatisfied'),\n",
       " (4390, 'neutral or dissatisfied'),\n",
       " (15634, 'neutral or dissatisfied'),\n",
       " (94436, 'neutral or dissatisfied'),\n",
       " (98379, 'satisfied'),\n",
       " (109334, 'neutral or dissatisfied'),\n",
       " (84052, 'satisfied'),\n",
       " (123107, 'neutral or dissatisfied'),\n",
       " (113107, 'neutral or dissatisfied'),\n",
       " (74933, 'satisfied'),\n",
       " (88464, 'neutral or dissatisfied'),\n",
       " (81843, 'neutral or dissatisfied'),\n",
       " (107447, 'neutral or dissatisfied'),\n",
       " (71700, 'satisfied'),\n",
       " (71230, 'satisfied'),\n",
       " (48741, 'neutral or dissatisfied'),\n",
       " (58883, 'satisfied'),\n",
       " (6359, 'neutral or dissatisfied'),\n",
       " (17761, 'neutral or dissatisfied'),\n",
       " (64230, 'satisfied'),\n",
       " (6128, 'satisfied'),\n",
       " (30734, 'neutral or dissatisfied'),\n",
       " (91064, 'satisfied'),\n",
       " (84805, 'satisfied'),\n",
       " (79618, 'satisfied'),\n",
       " (59148, 'neutral or dissatisfied'),\n",
       " (125022, 'neutral or dissatisfied'),\n",
       " (51358, 'neutral or dissatisfied'),\n",
       " (15437, 'neutral or dissatisfied'),\n",
       " (128609, 'neutral or dissatisfied'),\n",
       " (10521, 'satisfied'),\n",
       " (123717, 'neutral or dissatisfied'),\n",
       " (53714, 'neutral or dissatisfied'),\n",
       " (97598, 'satisfied'),\n",
       " (25689, 'satisfied'),\n",
       " (123550, 'neutral or dissatisfied'),\n",
       " (129611, 'neutral or dissatisfied'),\n",
       " (82344, 'neutral or dissatisfied'),\n",
       " (128641, 'neutral or dissatisfied'),\n",
       " (86640, 'neutral or dissatisfied'),\n",
       " (55044, 'neutral or dissatisfied'),\n",
       " (53902, 'neutral or dissatisfied'),\n",
       " (23319, 'neutral or dissatisfied'),\n",
       " (85677, 'neutral or dissatisfied'),\n",
       " (32370, 'satisfied'),\n",
       " (58040, 'satisfied'),\n",
       " (20200, 'neutral or dissatisfied'),\n",
       " (100036, 'satisfied'),\n",
       " (37751, 'satisfied'),\n",
       " (31863, 'neutral or dissatisfied'),\n",
       " (641, 'neutral or dissatisfied'),\n",
       " (104060, 'neutral or dissatisfied'),\n",
       " (60839, 'neutral or dissatisfied'),\n",
       " (45909, 'neutral or dissatisfied'),\n",
       " (22475, 'neutral or dissatisfied'),\n",
       " (3133, 'neutral or dissatisfied'),\n",
       " (92068, 'neutral or dissatisfied'),\n",
       " (62030, 'neutral or dissatisfied'),\n",
       " (51261, 'satisfied'),\n",
       " (100669, 'satisfied'),\n",
       " (38562, 'neutral or dissatisfied'),\n",
       " (84008, 'neutral or dissatisfied'),\n",
       " (1029, 'satisfied'),\n",
       " (93583, 'satisfied'),\n",
       " (21057, 'satisfied'),\n",
       " (3900, 'satisfied'),\n",
       " (113089, 'neutral or dissatisfied'),\n",
       " (10546, 'satisfied'),\n",
       " (81017, 'neutral or dissatisfied'),\n",
       " (62775, 'neutral or dissatisfied'),\n",
       " (79821, 'satisfied'),\n",
       " (1132, 'neutral or dissatisfied'),\n",
       " (7384, 'neutral or dissatisfied'),\n",
       " (14614, 'neutral or dissatisfied'),\n",
       " (82506, 'satisfied'),\n",
       " (122055, 'satisfied'),\n",
       " (119253, 'satisfied'),\n",
       " (22782, 'satisfied'),\n",
       " (119000, 'satisfied'),\n",
       " (6160, 'neutral or dissatisfied'),\n",
       " (103353, 'satisfied'),\n",
       " (65439, 'satisfied'),\n",
       " (114380, 'neutral or dissatisfied'),\n",
       " (106958, 'satisfied'),\n",
       " (59270, 'neutral or dissatisfied'),\n",
       " (69037, 'satisfied'),\n",
       " (13380, 'neutral or dissatisfied'),\n",
       " (80337, 'neutral or dissatisfied'),\n",
       " (77051, 'satisfied'),\n",
       " (79557, 'satisfied'),\n",
       " (3025, 'neutral or dissatisfied'),\n",
       " (94000, 'satisfied'),\n",
       " (35241, 'satisfied'),\n",
       " (5102, 'neutral or dissatisfied'),\n",
       " (100744, 'satisfied'),\n",
       " (51721, 'neutral or dissatisfied'),\n",
       " (30287, 'satisfied'),\n",
       " (9421, 'satisfied'),\n",
       " (114853, 'satisfied'),\n",
       " (2496, 'neutral or dissatisfied'),\n",
       " (65825, 'satisfied'),\n",
       " (81660, 'satisfied'),\n",
       " (18997, 'neutral or dissatisfied'),\n",
       " (7088, 'neutral or dissatisfied'),\n",
       " (103094, 'neutral or dissatisfied'),\n",
       " (14149, 'neutral or dissatisfied'),\n",
       " (94565, 'neutral or dissatisfied'),\n",
       " (29678, 'neutral or dissatisfied'),\n",
       " (63585, 'neutral or dissatisfied'),\n",
       " (58708, 'neutral or dissatisfied'),\n",
       " (56768, 'satisfied'),\n",
       " (124523, 'neutral or dissatisfied'),\n",
       " (2013, 'satisfied'),\n",
       " (26356, 'satisfied'),\n",
       " (79588, 'satisfied'),\n",
       " (110824, 'neutral or dissatisfied'),\n",
       " (106761, 'neutral or dissatisfied'),\n",
       " (9566, 'satisfied'),\n",
       " (63144, 'satisfied'),\n",
       " (52489, 'neutral or dissatisfied'),\n",
       " (73203, 'satisfied'),\n",
       " (79109, 'neutral or dissatisfied'),\n",
       " (71845, 'neutral or dissatisfied'),\n",
       " (53680, 'satisfied'),\n",
       " (108485, 'neutral or dissatisfied'),\n",
       " (44428, 'neutral or dissatisfied'),\n",
       " (91176, 'neutral or dissatisfied'),\n",
       " (87562, 'satisfied'),\n",
       " (57939, 'neutral or dissatisfied'),\n",
       " (108334, 'satisfied'),\n",
       " (49951, 'satisfied'),\n",
       " (115631, 'neutral or dissatisfied'),\n",
       " (122549, 'satisfied'),\n",
       " (118418, 'satisfied'),\n",
       " (1647, 'satisfied'),\n",
       " (48571, 'neutral or dissatisfied'),\n",
       " (86492, 'neutral or dissatisfied'),\n",
       " (69055, 'neutral or dissatisfied'),\n",
       " (44982, 'neutral or dissatisfied'),\n",
       " (54851, 'satisfied'),\n",
       " (108092, 'satisfied'),\n",
       " (21965, 'satisfied'),\n",
       " (110347, 'satisfied'),\n",
       " (102269, 'satisfied'),\n",
       " (68218, 'neutral or dissatisfied'),\n",
       " (75916, 'neutral or dissatisfied'),\n",
       " (83300, 'satisfied'),\n",
       " (50827, 'neutral or dissatisfied'),\n",
       " (101216, 'neutral or dissatisfied'),\n",
       " (3655, 'satisfied'),\n",
       " (1953, 'neutral or dissatisfied'),\n",
       " (69858, 'neutral or dissatisfied'),\n",
       " (121683, 'satisfied'),\n",
       " (65537, 'satisfied'),\n",
       " (116390, 'neutral or dissatisfied'),\n",
       " (82092, 'neutral or dissatisfied'),\n",
       " (25399, 'satisfied'),\n",
       " (112054, 'neutral or dissatisfied'),\n",
       " (109669, 'satisfied'),\n",
       " (75045, 'satisfied'),\n",
       " (93574, 'neutral or dissatisfied'),\n",
       " (111624, 'neutral or dissatisfied'),\n",
       " (22398, 'neutral or dissatisfied'),\n",
       " (66747, 'neutral or dissatisfied'),\n",
       " (27765, 'neutral or dissatisfied'),\n",
       " (4165, 'neutral or dissatisfied'),\n",
       " (58324, 'neutral or dissatisfied'),\n",
       " (70205, 'neutral or dissatisfied'),\n",
       " (26008, 'neutral or dissatisfied'),\n",
       " (103354, 'satisfied'),\n",
       " (101965, 'satisfied'),\n",
       " (33466, 'neutral or dissatisfied'),\n",
       " (37377, 'satisfied'),\n",
       " (54435, 'satisfied'),\n",
       " (28303, 'satisfied'),\n",
       " (127621, 'satisfied'),\n",
       " (97344, 'satisfied'),\n",
       " (122930, 'neutral or dissatisfied'),\n",
       " (27197, 'satisfied'),\n",
       " (72965, 'neutral or dissatisfied'),\n",
       " (113608, 'satisfied'),\n",
       " (113999, 'neutral or dissatisfied'),\n",
       " (99766, 'satisfied'),\n",
       " (105873, 'satisfied'),\n",
       " (113301, 'neutral or dissatisfied'),\n",
       " (14669, 'neutral or dissatisfied'),\n",
       " (12720, 'neutral or dissatisfied'),\n",
       " (105336, 'satisfied'),\n",
       " (54836, 'satisfied'),\n",
       " (47647, 'satisfied'),\n",
       " (100464, 'neutral or dissatisfied'),\n",
       " (40748, 'neutral or dissatisfied'),\n",
       " (74483, 'neutral or dissatisfied'),\n",
       " (93440, 'neutral or dissatisfied'),\n",
       " (89270, 'satisfied'),\n",
       " (126635, 'satisfied'),\n",
       " (63566, 'satisfied'),\n",
       " (57073, 'neutral or dissatisfied'),\n",
       " (48581, 'neutral or dissatisfied'),\n",
       " (126634, 'neutral or dissatisfied'),\n",
       " (11419, 'satisfied'),\n",
       " (53211, 'satisfied'),\n",
       " (88651, 'neutral or dissatisfied'),\n",
       " (56719, 'neutral or dissatisfied'),\n",
       " (110732, 'satisfied'),\n",
       " (16767, 'neutral or dissatisfied'),\n",
       " (107281, 'neutral or dissatisfied'),\n",
       " (86590, 'neutral or dissatisfied'),\n",
       " (61381, 'satisfied'),\n",
       " (109289, 'satisfied'),\n",
       " (37299, 'satisfied'),\n",
       " (125114, 'neutral or dissatisfied'),\n",
       " (30467, 'satisfied'),\n",
       " (107287, 'neutral or dissatisfied'),\n",
       " (28049, 'satisfied'),\n",
       " (60500, 'neutral or dissatisfied'),\n",
       " (26479, 'satisfied'),\n",
       " (59216, 'neutral or dissatisfied'),\n",
       " (10204, 'satisfied'),\n",
       " (114776, 'satisfied'),\n",
       " (61480, 'neutral or dissatisfied'),\n",
       " (76724, 'satisfied'),\n",
       " (28695, 'neutral or dissatisfied'),\n",
       " (114859, 'satisfied'),\n",
       " (84959, 'neutral or dissatisfied'),\n",
       " (109087, 'neutral or dissatisfied'),\n",
       " (41102, 'satisfied'),\n",
       " (23288, 'satisfied'),\n",
       " (87061, 'satisfied'),\n",
       " (82068, 'neutral or dissatisfied'),\n",
       " (13494, 'satisfied'),\n",
       " (79269, 'satisfied'),\n",
       " (76529, 'satisfied'),\n",
       " (50785, 'neutral or dissatisfied'),\n",
       " (49050, 'neutral or dissatisfied'),\n",
       " (53567, 'satisfied'),\n",
       " (105122, 'satisfied'),\n",
       " (45900, 'neutral or dissatisfied'),\n",
       " (28005, 'satisfied'),\n",
       " (46963, 'neutral or dissatisfied'),\n",
       " (120897, 'satisfied'),\n",
       " (115747, 'satisfied'),\n",
       " (98109, 'satisfied'),\n",
       " (117328, 'neutral or dissatisfied'),\n",
       " (114399, 'satisfied'),\n",
       " (101966, 'satisfied'),\n",
       " (11512, 'neutral or dissatisfied'),\n",
       " (87362, 'satisfied'),\n",
       " (61055, 'neutral or dissatisfied'),\n",
       " (120218, 'neutral or dissatisfied'),\n",
       " (12340, 'satisfied'),\n",
       " (49576, 'satisfied'),\n",
       " (66082, 'neutral or dissatisfied'),\n",
       " (42950, 'satisfied'),\n",
       " (20286, 'satisfied'),\n",
       " (12174, 'satisfied'),\n",
       " (5743, 'satisfied'),\n",
       " (25264, 'neutral or dissatisfied'),\n",
       " (49151, 'satisfied'),\n",
       " (66793, 'neutral or dissatisfied'),\n",
       " (95459, 'neutral or dissatisfied'),\n",
       " (9005, 'neutral or dissatisfied'),\n",
       " (112781, 'neutral or dissatisfied'),\n",
       " (87513, 'neutral or dissatisfied'),\n",
       " (79480, 'neutral or dissatisfied'),\n",
       " (63941, 'neutral or dissatisfied'),\n",
       " (37674, 'neutral or dissatisfied'),\n",
       " (111298, 'neutral or dissatisfied'),\n",
       " (2681, 'neutral or dissatisfied'),\n",
       " (74348, 'satisfied'),\n",
       " (30636, 'neutral or dissatisfied'),\n",
       " (15147, 'neutral or dissatisfied'),\n",
       " (115204, 'satisfied'),\n",
       " (11793, 'neutral or dissatisfied'),\n",
       " (74154, 'neutral or dissatisfied'),\n",
       " (50762, 'neutral or dissatisfied'),\n",
       " (107838, 'neutral or dissatisfied'),\n",
       " (26626, 'neutral or dissatisfied'),\n",
       " (70142, 'satisfied'),\n",
       " (2335, 'neutral or dissatisfied'),\n",
       " (129405, 'satisfied'),\n",
       " (6662, 'neutral or dissatisfied'),\n",
       " (123474, 'satisfied'),\n",
       " (4097, 'satisfied'),\n",
       " (9525, 'neutral or dissatisfied'),\n",
       " (208, 'satisfied'),\n",
       " (74734, 'neutral or dissatisfied'),\n",
       " (93661, 'satisfied'),\n",
       " (5932, 'neutral or dissatisfied'),\n",
       " (114933, 'satisfied'),\n",
       " (81833, 'neutral or dissatisfied'),\n",
       " (57611, 'satisfied'),\n",
       " (91915, 'neutral or dissatisfied'),\n",
       " (56826, 'neutral or dissatisfied'),\n",
       " (3938, 'satisfied'),\n",
       " (39966, 'neutral or dissatisfied'),\n",
       " (2494, 'neutral or dissatisfied'),\n",
       " (60809, 'neutral or dissatisfied'),\n",
       " (80971, 'satisfied'),\n",
       " (107651, 'neutral or dissatisfied'),\n",
       " (7148, 'satisfied'),\n",
       " (100587, 'neutral or dissatisfied'),\n",
       " (40239, 'satisfied'),\n",
       " (75649, 'neutral or dissatisfied'),\n",
       " (28113, 'satisfied'),\n",
       " (52613, 'neutral or dissatisfied'),\n",
       " (67407, 'neutral or dissatisfied'),\n",
       " (15661, 'satisfied'),\n",
       " (37092, 'neutral or dissatisfied'),\n",
       " (76203, 'neutral or dissatisfied'),\n",
       " (106035, 'neutral or dissatisfied'),\n",
       " (98955, 'satisfied'),\n",
       " (93860, 'satisfied'),\n",
       " (10668, 'satisfied'),\n",
       " (68673, 'neutral or dissatisfied'),\n",
       " (49717, 'neutral or dissatisfied'),\n",
       " (82342, 'satisfied'),\n",
       " (84129, 'satisfied'),\n",
       " (68989, 'satisfied'),\n",
       " (15942, 'neutral or dissatisfied'),\n",
       " (42768, 'neutral or dissatisfied'),\n",
       " (104067, 'neutral or dissatisfied'),\n",
       " (67915, 'neutral or dissatisfied'),\n",
       " (112678, 'neutral or dissatisfied'),\n",
       " (70380, 'neutral or dissatisfied'),\n",
       " (29684, 'neutral or dissatisfied'),\n",
       " (32055, 'satisfied'),\n",
       " (97665, 'satisfied'),\n",
       " (111264, 'satisfied'),\n",
       " (118654, 'neutral or dissatisfied'),\n",
       " (4030, 'neutral or dissatisfied'),\n",
       " (115386, 'satisfied'),\n",
       " (24069, 'neutral or dissatisfied'),\n",
       " (27433, 'satisfied'),\n",
       " (112951, 'neutral or dissatisfied'),\n",
       " (80749, 'neutral or dissatisfied'),\n",
       " (89962, 'neutral or dissatisfied'),\n",
       " (5783, 'satisfied'),\n",
       " (67934, 'neutral or dissatisfied'),\n",
       " (126501, 'neutral or dissatisfied'),\n",
       " (50130, 'neutral or dissatisfied'),\n",
       " (80239, 'satisfied'),\n",
       " (29052, 'neutral or dissatisfied'),\n",
       " (31567, 'neutral or dissatisfied'),\n",
       " (100219, 'neutral or dissatisfied'),\n",
       " (26112, 'satisfied'),\n",
       " (92015, 'satisfied'),\n",
       " (12267, 'satisfied'),\n",
       " (34165, 'neutral or dissatisfied'),\n",
       " (81595, 'satisfied'),\n",
       " (17349, 'satisfied'),\n",
       " (98942, 'neutral or dissatisfied'),\n",
       " (67420, 'satisfied'),\n",
       " (18223, 'neutral or dissatisfied'),\n",
       " (65996, 'satisfied'),\n",
       " (49409, 'neutral or dissatisfied'),\n",
       " (122231, 'neutral or dissatisfied'),\n",
       " (123881, 'satisfied'),\n",
       " (54470, 'satisfied'),\n",
       " (76700, 'neutral or dissatisfied'),\n",
       " (82538, 'satisfied'),\n",
       " (57900, 'neutral or dissatisfied'),\n",
       " (20722, 'neutral or dissatisfied'),\n",
       " (94660, 'satisfied'),\n",
       " (23793, 'satisfied'),\n",
       " (103454, 'neutral or dissatisfied'),\n",
       " (93404, 'satisfied'),\n",
       " (114449, 'satisfied'),\n",
       " (5070, 'neutral or dissatisfied'),\n",
       " (23659, 'satisfied'),\n",
       " (14890, 'neutral or dissatisfied'),\n",
       " (126941, 'satisfied'),\n",
       " (114391, 'satisfied'),\n",
       " (108696, 'neutral or dissatisfied'),\n",
       " (82727, 'satisfied'),\n",
       " (77686, 'neutral or dissatisfied'),\n",
       " (10025, 'neutral or dissatisfied'),\n",
       " (129524, 'satisfied'),\n",
       " (97888, 'satisfied'),\n",
       " (27132, 'satisfied'),\n",
       " (3070, 'satisfied'),\n",
       " (43547, 'satisfied'),\n",
       " (99155, 'neutral or dissatisfied'),\n",
       " (5591, 'neutral or dissatisfied'),\n",
       " (52551, 'neutral or dissatisfied'),\n",
       " (63101, 'neutral or dissatisfied'),\n",
       " (106573, 'satisfied'),\n",
       " (35766, 'satisfied'),\n",
       " (127478, 'neutral or dissatisfied'),\n",
       " (72526, 'neutral or dissatisfied'),\n",
       " (91273, 'satisfied'),\n",
       " (109252, 'neutral or dissatisfied'),\n",
       " (79948, 'neutral or dissatisfied'),\n",
       " (21311, 'neutral or dissatisfied'),\n",
       " (86592, 'satisfied'),\n",
       " (92504, 'neutral or dissatisfied'),\n",
       " (88547, 'neutral or dissatisfied'),\n",
       " (37916, 'neutral or dissatisfied'),\n",
       " (98249, 'satisfied'),\n",
       " (87615, 'satisfied'),\n",
       " (129667, 'neutral or dissatisfied'),\n",
       " (7465, 'satisfied'),\n",
       " (15530, 'neutral or dissatisfied'),\n",
       " (95662, 'satisfied'),\n",
       " (99262, 'neutral or dissatisfied'),\n",
       " (77423, 'neutral or dissatisfied'),\n",
       " (77370, 'satisfied'),\n",
       " (2855, 'neutral or dissatisfied'),\n",
       " (90760, 'neutral or dissatisfied'),\n",
       " (60604, 'satisfied'),\n",
       " (89191, 'neutral or dissatisfied'),\n",
       " (44913, 'satisfied'),\n",
       " (71580, 'satisfied'),\n",
       " (51599, 'satisfied'),\n",
       " (89327, 'satisfied'),\n",
       " (10660, 'satisfied'),\n",
       " (79522, 'satisfied'),\n",
       " (94202, 'satisfied'),\n",
       " (121448, 'satisfied'),\n",
       " (12879, 'neutral or dissatisfied'),\n",
       " (24439, 'neutral or dissatisfied'),\n",
       " (100010, 'satisfied'),\n",
       " (108283, 'neutral or dissatisfied'),\n",
       " (101752, 'satisfied'),\n",
       " (50766, 'neutral or dissatisfied'),\n",
       " (99256, 'neutral or dissatisfied'),\n",
       " (57392, 'neutral or dissatisfied'),\n",
       " (45464, 'neutral or dissatisfied'),\n",
       " (102531, 'neutral or dissatisfied'),\n",
       " (127049, 'satisfied'),\n",
       " (94317, 'satisfied'),\n",
       " (117416, 'satisfied'),\n",
       " (72186, 'neutral or dissatisfied'),\n",
       " (40437, 'neutral or dissatisfied'),\n",
       " (119219, 'neutral or dissatisfied'),\n",
       " (9460, 'neutral or dissatisfied'),\n",
       " (98472, 'neutral or dissatisfied'),\n",
       " (3444, 'satisfied'),\n",
       " (88519, 'neutral or dissatisfied'),\n",
       " (18839, 'neutral or dissatisfied'),\n",
       " (14367, 'neutral or dissatisfied'),\n",
       " (70343, 'neutral or dissatisfied'),\n",
       " (116330, 'neutral or dissatisfied'),\n",
       " (86909, 'satisfied'),\n",
       " (120454, 'neutral or dissatisfied'),\n",
       " (10998, 'satisfied'),\n",
       " (73513, 'neutral or dissatisfied'),\n",
       " (66703, 'satisfied'),\n",
       " (93354, 'satisfied'),\n",
       " (85540, 'satisfied'),\n",
       " (100878, 'satisfied'),\n",
       " (30986, 'neutral or dissatisfied'),\n",
       " (24885, 'satisfied'),\n",
       " (120253, 'satisfied'),\n",
       " (6212, 'neutral or dissatisfied'),\n",
       " (71094, 'satisfied'),\n",
       " (54019, 'satisfied'),\n",
       " (64408, 'satisfied'),\n",
       " (65614, 'neutral or dissatisfied'),\n",
       " (47502, 'neutral or dissatisfied'),\n",
       " (66508, 'neutral or dissatisfied'),\n",
       " (5243, 'satisfied'),\n",
       " (4254, 'neutral or dissatisfied'),\n",
       " (79691, 'neutral or dissatisfied'),\n",
       " (72393, 'neutral or dissatisfied'),\n",
       " (46805, 'neutral or dissatisfied'),\n",
       " (11640, 'neutral or dissatisfied'),\n",
       " (104167, 'neutral or dissatisfied'),\n",
       " (11248, 'neutral or dissatisfied'),\n",
       " (47100, 'neutral or dissatisfied'),\n",
       " (95296, 'neutral or dissatisfied'),\n",
       " (48183, 'neutral or dissatisfied'),\n",
       " (72482, 'neutral or dissatisfied'),\n",
       " (88619, 'neutral or dissatisfied'),\n",
       " (105734, 'neutral or dissatisfied'),\n",
       " (16898, 'neutral or dissatisfied'),\n",
       " (56289, 'neutral or dissatisfied'),\n",
       " (91030, 'neutral or dissatisfied'),\n",
       " (87101, 'neutral or dissatisfied'),\n",
       " (61361, 'neutral or dissatisfied'),\n",
       " (104065, 'satisfied'),\n",
       " (17572, 'neutral or dissatisfied'),\n",
       " (42208, 'satisfied'),\n",
       " (100593, 'neutral or dissatisfied'),\n",
       " (47127, 'satisfied'),\n",
       " (114757, 'satisfied'),\n",
       " (28302, 'satisfied'),\n",
       " (104261, 'satisfied'),\n",
       " (73796, 'satisfied'),\n",
       " (110712, 'satisfied'),\n",
       " (94798, 'satisfied'),\n",
       " (112694, 'neutral or dissatisfied'),\n",
       " (56434, 'neutral or dissatisfied'),\n",
       " (72362, 'satisfied'),\n",
       " (113188, 'satisfied'),\n",
       " (85528, 'neutral or dissatisfied'),\n",
       " (35672, 'satisfied'),\n",
       " (1945, 'neutral or dissatisfied'),\n",
       " (24362, 'satisfied'),\n",
       " (30891, 'satisfied'),\n",
       " (106856, 'neutral or dissatisfied'),\n",
       " (74297, 'satisfied'),\n",
       " (4580, 'satisfied'),\n",
       " (44874, 'neutral or dissatisfied'),\n",
       " (16355, 'satisfied'),\n",
       " (85038, 'neutral or dissatisfied'),\n",
       " (78441, 'satisfied'),\n",
       " (65663, 'satisfied'),\n",
       " (88162, 'satisfied'),\n",
       " (79228, 'satisfied'),\n",
       " (110702, 'satisfied'),\n",
       " (113681, 'neutral or dissatisfied'),\n",
       " (33063, 'neutral or dissatisfied'),\n",
       " (52838, 'satisfied'),\n",
       " (41561, 'satisfied'),\n",
       " (30428, 'satisfied'),\n",
       " (62491, 'satisfied'),\n",
       " (126342, 'neutral or dissatisfied'),\n",
       " (82483, 'satisfied'),\n",
       " (95220, 'neutral or dissatisfied'),\n",
       " (84243, 'neutral or dissatisfied'),\n",
       " (59781, 'neutral or dissatisfied'),\n",
       " (26692, 'neutral or dissatisfied'),\n",
       " (119112, 'neutral or dissatisfied'),\n",
       " (85937, 'neutral or dissatisfied'),\n",
       " (32685, 'neutral or dissatisfied'),\n",
       " (116270, 'neutral or dissatisfied'),\n",
       " (28933, 'satisfied'),\n",
       " (33104, 'neutral or dissatisfied'),\n",
       " (7549, 'satisfied'),\n",
       " (30796, 'neutral or dissatisfied'),\n",
       " (6, 'satisfied'),\n",
       " (48543, 'satisfied'),\n",
       " (72954, 'neutral or dissatisfied'),\n",
       " (124402, 'satisfied'),\n",
       " (42486, 'neutral or dissatisfied'),\n",
       " (67853, 'neutral or dissatisfied'),\n",
       " (32844, 'satisfied'),\n",
       " (20639, 'neutral or dissatisfied'),\n",
       " (3418, 'neutral or dissatisfied'),\n",
       " (5026, 'neutral or dissatisfied'),\n",
       " (2031, 'neutral or dissatisfied'),\n",
       " (42417, 'satisfied'),\n",
       " (72309, 'satisfied'),\n",
       " (33648, 'neutral or dissatisfied'),\n",
       " (119904, 'neutral or dissatisfied'),\n",
       " (58247, 'neutral or dissatisfied'),\n",
       " (97849, 'satisfied'),\n",
       " (61922, 'neutral or dissatisfied'),\n",
       " (53784, 'neutral or dissatisfied'),\n",
       " (87208, 'neutral or dissatisfied'),\n",
       " (14449, 'neutral or dissatisfied'),\n",
       " (125640, 'satisfied'),\n",
       " (45932, 'neutral or dissatisfied'),\n",
       " (78565, 'satisfied'),\n",
       " (34480, 'neutral or dissatisfied'),\n",
       " (117425, 'neutral or dissatisfied'),\n",
       " (101443, 'satisfied'),\n",
       " (627, 'satisfied'),\n",
       " (20231, 'neutral or dissatisfied'),\n",
       " (57223, 'neutral or dissatisfied'),\n",
       " (67203, 'neutral or dissatisfied'),\n",
       " (67713, 'neutral or dissatisfied'),\n",
       " (24838, 'neutral or dissatisfied'),\n",
       " (11544, 'neutral or dissatisfied'),\n",
       " (74083, 'satisfied'),\n",
       " (116423, 'neutral or dissatisfied'),\n",
       " (94646, 'neutral or dissatisfied'),\n",
       " (64714, 'satisfied'),\n",
       " (5268, 'satisfied'),\n",
       " (120852, 'neutral or dissatisfied'),\n",
       " (68554, 'neutral or dissatisfied'),\n",
       " (112703, 'neutral or dissatisfied'),\n",
       " (87137, 'neutral or dissatisfied'),\n",
       " (127407, 'satisfied'),\n",
       " (118806, 'neutral or dissatisfied'),\n",
       " (114583, 'neutral or dissatisfied'),\n",
       " (23605, 'neutral or dissatisfied'),\n",
       " (41904, 'neutral or dissatisfied'),\n",
       " (21410, 'satisfied'),\n",
       " (355, 'neutral or dissatisfied'),\n",
       " (91399, 'neutral or dissatisfied'),\n",
       " (19609, 'satisfied'),\n",
       " (78311, 'satisfied'),\n",
       " (11732, 'neutral or dissatisfied'),\n",
       " (20549, 'satisfied'),\n",
       " (106922, 'neutral or dissatisfied'),\n",
       " (2755, 'neutral or dissatisfied'),\n",
       " (115308, 'neutral or dissatisfied'),\n",
       " (94417, 'satisfied'),\n",
       " (85711, 'satisfied'),\n",
       " ...]"
      ]
     },
     "execution_count": 333,
     "metadata": {},
     "output_type": "execute_result"
    }
   ],
   "source": [
    "final_op\n"
   ]
  },
  {
   "cell_type": "code",
   "execution_count": 334,
   "id": "4dd5e6a5",
   "metadata": {},
   "outputs": [],
   "source": [
    "final_op_df = pd.DataFrame(final_op)\n"
   ]
  },
  {
   "cell_type": "code",
   "execution_count": 335,
   "id": "af7f1eeb",
   "metadata": {},
   "outputs": [],
   "source": [
    "final_op_df.to_csv('submission2.csv', index=False, header=False)\n"
   ]
  }
 ],
 "metadata": {
  "kernelspec": {
   "display_name": "Python 3 (ipykernel)",
   "language": "python",
   "name": "python3"
  },
  "language_info": {
   "codemirror_mode": {
    "name": "ipython",
    "version": 3
   },
   "file_extension": ".py",
   "mimetype": "text/x-python",
   "name": "python",
   "nbconvert_exporter": "python",
   "pygments_lexer": "ipython3",
   "version": "3.9.12"
  }
 },
 "nbformat": 4,
 "nbformat_minor": 5
}
